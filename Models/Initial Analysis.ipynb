{
 "cells": [
  {
   "cell_type": "markdown",
   "metadata": {},
   "source": [
    "#### load libraries"
   ]
  },
  {
   "cell_type": "code",
   "execution_count": 1,
   "metadata": {},
   "outputs": [],
   "source": [
    "import numpy as np\n",
    "import pandas as pd\n",
    "from sklearn.linear_model import LinearRegression, Ridge, Lasso, LassoCV, ElasticNet\n",
    "from sklearn.impute import SimpleImputer\n",
    "from sklearn.tree import DecisionTreeRegressor\n",
    "from sklearn.ensemble import RandomForestRegressor, RandomForestClassifier\n",
    "from sklearn.model_selection import cross_val_score, cross_val_predict,cross_validate, GridSearchCV, train_test_split\n",
    "import statsmodels.api as sm\n",
    "from statsmodels.stats.outliers_influence import variance_inflation_factor \n",
    "import statistics\n",
    "import matplotlib.pyplot as plt\n",
    "import seaborn as sns\n",
    "\n",
    "pd.options.display.max_columns = None\n",
    "pd.options.display.max_rows = None\n",
    "from IPython.core.interactiveshell import InteractiveShell\n",
    "InteractiveShell.ast_node_interactivity = \"all\""
   ]
  },
  {
   "cell_type": "markdown",
   "metadata": {},
   "source": [
    "#### load and inspect data"
   ]
  },
  {
   "cell_type": "code",
   "execution_count": 2,
   "metadata": {
    "scrolled": true
   },
   "outputs": [
    {
     "data": {
      "text/plain": [
       "(2603, 179)"
      ]
     },
     "execution_count": 2,
     "metadata": {},
     "output_type": "execute_result"
    }
   ],
   "source": [
    "house_df = pd.read_csv('./data/final_df.csv', index_col = 0)\n",
    "\n",
    "# Checking final_df after generating geoCode, found duplicated observations\n",
    "house_df.shape"
   ]
  },
  {
   "cell_type": "code",
   "execution_count": 3,
   "metadata": {},
   "outputs": [
    {
     "data": {
      "text/plain": [
       "(2558, 179)"
      ]
     },
     "execution_count": 3,
     "metadata": {},
     "output_type": "execute_result"
    }
   ],
   "source": [
    "# drop duplicated observations\n",
    "house_df = house_df.drop_duplicates(subset=['PID'],keep = 'first')\n",
    "house_df.shape"
   ]
  },
  {
   "cell_type": "markdown",
   "metadata": {},
   "source": [
    "#### preprocessing"
   ]
  },
  {
   "cell_type": "code",
   "execution_count": 4,
   "metadata": {
    "scrolled": true
   },
   "outputs": [
    {
     "name": "stdout",
     "output_type": "stream",
     "text": [
      "Index(['SalePrice', 'Distance', 'MSSubClass', 'MSZoning', 'LotFrontage',\n",
      "       'LotArea', 'Alley', 'LotShape', 'LandContour', 'LotConfig', 'LandSlope',\n",
      "       'Condition1', 'Condition2', 'BldgType', 'HouseStyle', 'OverallQual',\n",
      "       'OverallCond', 'YearBuilt', 'YearRemodAdd', 'RoofStyle', 'RoofMatl',\n",
      "       'Exterior1st', 'Exterior2nd', 'ExterQual', 'ExterCond', 'Foundation',\n",
      "       'BsmtQual', 'BsmtCond', 'BsmtExposure', 'HeatingQC', 'CentralAir',\n",
      "       'Electrical', 'KitchenAbvGr', 'KitchenQual', 'TotRmsAbvGrd',\n",
      "       'Functional', 'Fireplaces', 'FireplaceQu', 'GarageType', 'GarageFinish',\n",
      "       'GarageCars', 'GarageArea', 'GarageQual', 'GarageCond', 'PavedDrive',\n",
      "       'WoodDeckSF', 'OpenPorchSF', 'EnclosedPorch', '3SsnPorch',\n",
      "       'ScreenPorch', 'Fence', 'MoSold', 'YrSold', 'SaleCondition',\n",
      "       'MasVnrArea2', 'total_LivArea', 'num_bathroom', 'SchD_S'],\n",
      "      dtype='object')\n",
      "has null: Index(['BsmtExposure', 'Electrical'], dtype='object')\n"
     ]
    }
   ],
   "source": [
    "house_df_use = house_df.copy()\n",
    "\n",
    "# convert MSSubClass to str\n",
    "house_df_use['MSSubClass'] = house_df_use[['MSSubClass']].astype('str')\n",
    "\n",
    "# characterize tax distr and sch distr\n",
    "house_df_use['TxD_S'] = house_df_use[['TxD_S']].astype('str')\n",
    "house_df_use['SchD_S'] = house_df_use[['SchD_S']].astype('str')\n",
    "\n",
    "# convert NA's to 0s in LotFrontage and Alley\n",
    "house_df_use['LotFrontage'] = np.where(pd.isnull(house_df_use['LotFrontage']), 0, house_df_use['LotFrontage'])\n",
    "house_df_use['Alley'] = np.where(pd.isnull(house_df_use['Alley']), 0, 1)\n",
    "\n",
    "# Impute None to Nan value in columns\n",
    "none_features = ['FireplaceQu','GarageType','GarageFinish','GarageQual','GarageCond','Fence','BsmtQual','BsmtCond']\n",
    "for feature in none_features:\n",
    "    house_df_use[feature] = house_df_use[feature].fillna('None')\n",
    "\n",
    "# drop rows with NA garage car / garage area\n",
    "garage_NA_index = house_df_use.loc[pd.isnull(house_df_use['GarageArea'])].index\n",
    "house_df_use = house_df_use.drop(garage_NA_index,axis=0)\n",
    "\n",
    "# add in proper bathroom numbers for 918 and 2328\n",
    "house_df_use.at[918, 'num_bathroom'] = 1\n",
    "house_df_use.at[2328, 'num_bathroom'] = 3.5\n",
    "\n",
    "# remove unnecessary columns\n",
    "house_df_use = house_df_use.drop(\n",
    "    ['PA-PreD','PA-PostD','PA-UnTyp','PA-UntNo','X1TPr_D','X1TSc_D','Rcrd_Mo','Legal_Pr','TxD_S',\\\n",
    "    'X2TPr_D','X2TSc_D','X1TPr_S','X1TSc_S','X2TPr_S','X2TSc_S','ISU_lat_long','address','MA_Ownr1','MA_Ownr2',\\\n",
    "    'MA_Line1','MA_Line2','MA_City','MA_State','address3','location2','point2','SaleCond','Source','Date',\\\n",
    "    'ParType','BldgNo_S','DwlgNo_S','YrBuilt','Ext1','Ext2','GLA','GarYrBlt','Cars','MA_Zip1','MA_Zip2',\\\n",
    "    'ZngCdPr','ZngCdSc','ZngOLPr','ZngOLSc','PA-Nmbr','PA-Strt','PA-StSfx','Inst1_No','Inst1_Yr','Inst1_Mo',\\\n",
    "    'Inst1TPr','TtlVal_AsrYr','ValType','OthAc_S','ImpAc_S','LndAc_S','Prop_Addr','HSTtl_D','MilVal_D',\\\n",
    "    'HSTtl_S','MilVal_S','GeoRefNo','Tier','Range','AcreX_S1','ClassPr_S','ClassSc_S','LndAcX1S','ImpAcX1S',\\\n",
    "    'Central Air','ImpAcX2S','AcreGr','AcreNt_S','ParclRel','Rcrd_Yr','address2','SaleType',\\\n",
    "    'latitude2','longitude2','ISU_lat','ISU_long','altitude2','Central Air',\\\n",
    "\n",
    "    'index','MiscVal','YrSold_YYYY','MoSold_MM','PoolArea','PoolQC','MiscFeature','Street','PID','Utilities',\\\n",
    "    'BsmtHalfBath2','FullBath','HalfBath','TtlBsmtSF','HalfBath2','BsmtFullBath','BsmtHalfBath',\\\n",
    "    'BsmtFinSF1','BsmtFinSF2','BsmtFinType1','BsmtFinType2','BsmtUnfSF','LowQualFinSF','BasmtFinSF2','BasmtFinSF1',\\\n",
    "    'GrLivArea','1stFlrSF','2ndFlrSF','MasVnrType','MasVnrArea','GarageArea2','PoolArea2','NmbrBRs',\\\n",
    "    'Neighborhood','BedroomAbvGr','TotalBsmtSF','GarageYrBlt','BasmtFinSF','Heating'],\\\n",
    "    axis=1)\n",
    "\n",
    "print(house_df_use.columns)\n",
    "print(f'has null: {house_df_use.columns[house_df_use.isnull().sum() > 0]}')"
   ]
  },
  {
   "cell_type": "markdown",
   "metadata": {},
   "source": [
    "#### minimum sample/class size"
   ]
  },
  {
   "cell_type": "code",
   "execution_count": 5,
   "metadata": {},
   "outputs": [
    {
     "data": {
      "text/plain": [
       "53.87076177104101"
      ]
     },
     "execution_count": 5,
     "metadata": {},
     "output_type": "execute_result"
    }
   ],
   "source": [
    "(1.96 * statistics.stdev(house_df_use['SalePrice']) / 20000)**2"
   ]
  },
  {
   "cell_type": "markdown",
   "metadata": {},
   "source": [
    "#### feature engineering"
   ]
  },
  {
   "cell_type": "code",
   "execution_count": 6,
   "metadata": {},
   "outputs": [],
   "source": [
    "def feature_eng(df):\n",
    "    # calculate age of building\n",
    "    df['BldgAge'] = df['YrSold'] - df['YearBuilt']\n",
    "\n",
    "    # binarize YearRemodAdd\n",
    "    df['Remodeled'] = np.where(df['YearRemodAdd'] == df['YearBuilt'], 0, 1)\n",
    "\n",
    "    # binarize MSSubClass to PUD or not PUD\n",
    "    df['IsPUD'] = np.where(df['MSSubClass'].isin(['120','150','160','180']), 1, 0)\n",
    "    \n",
    "    # binarize LotShape to Reg/not Reg\n",
    "    df['LotIsReg'] = np.where(df['LotShape']=='Reg', 1, 0)\n",
    "    \n",
    "    # binarize LandContour to HLS and Low vs not HLS or Low\n",
    "    df['HillORDepr'] = np.where(df['LandContour'].isin(['HLS','Low']), 1, 0)\n",
    "    \n",
    "    # binarize Condition1/2 to positive feature or no positive feature\n",
    "    df['PosFeat'] = np.where(df['Condition1'].isin(['PosN','PosA'])|df['Condition2'].isin(['PosN','PosA']), 1, 0)\n",
    "\n",
    "    # combine exterior material 1/2 to one column\n",
    "    df['ExtMatl'] = np.where((df['Exterior1st']==df['Exterior2nd']),df['Exterior1st'], 'Mixed')\n",
    "    \n",
    "    # covnert Electrical to circuit breakers/\n",
    "    #df['SBrkrElecOnly']=np.where(df['Electrical']=='SBrkr',1,0)\n",
    "    \n",
    "    # simply qual/cond features\n",
    "    for col in ['ExterQual','BsmtQual','KitchenQual','FireplaceQu','GarageQual','ExterCond',\\\n",
    "                'BsmtCond','GarageCond','HeatingQC']:\n",
    "        df[col+'_num'] = df[col].replace(['Ex','Gd','TA','Fa','Po','None'],[10,8,6,4,2,0])\n",
    "\n",
    "    # sum up porch area\n",
    "    df['Total_porch_sf'] = df['OpenPorchSF'] + df['3SsnPorch'] + df['EnclosedPorch'] +\\\n",
    "                                df['ScreenPorch'] + df['WoodDeckSF']\n",
    "    \n",
    "    # binarize fences\n",
    "    df['HasFence'] = np.where(df['Fence']=='None', 0, 1)\n",
    "\n",
    "    # simplify Functional to 3 classes\n",
    "    df['Funct_3'] = df['Functional'].replace(['Maj1', 'Maj2', 'Min1', 'Min2', 'Mod', 'Sal', 'Typ'],\\\n",
    "                                             ['ModToSev','ModToSev','Minor','Minor','ModToSev','ModToSev','Normal'])\n",
    "    \n",
    "    # binarize sale condition to normal sale condition or not sale condition\n",
    "    #df['NormalSaleCond'] = np.where(df['SaleCondition']=='Normal', 1, 0)\n",
    "    \n",
    "    # drop the original columns or unused columns\n",
    "    df = df.drop(['MSSubClass','YearBuilt','YearRemodAdd','LotFrontage','LotArea','LotConfig','LandSlope',\\\n",
    "                  'Condition1','Condition2','Exterior1st','Exterior2nd','LotShape','LandContour',\\\n",
    "                  'OpenPorchSF','3SsnPorch','EnclosedPorch','ScreenPorch','WoodDeckSF',\\\n",
    "                  'Fence','Functional','ExterQual','BsmtQual','KitchenQual','FireplaceQu',\\\n",
    "                  'GarageQual','ExterCond','BsmtCond','GarageCond','HeatingQC',\\\n",
    "                  'GarageCars','RoofMatl','RoofStyle','KitchenAbvGr','MSZoning'],\\\n",
    "                 axis = 1)\n",
    "    return df"
   ]
  },
  {
   "cell_type": "code",
   "execution_count": 7,
   "metadata": {},
   "outputs": [],
   "source": [
    "house_df_eng = feature_eng(house_df_use)"
   ]
  },
  {
   "cell_type": "code",
   "execution_count": 8,
   "metadata": {},
   "outputs": [
    {
     "data": {
      "text/plain": [
       "Index(['SalePrice', 'Distance', 'Alley', 'BldgType', 'HouseStyle',\n",
       "       'OverallQual', 'OverallCond', 'Foundation', 'BsmtExposure',\n",
       "       'CentralAir', 'Electrical', 'TotRmsAbvGrd', 'Fireplaces', 'GarageType',\n",
       "       'GarageFinish', 'GarageArea', 'PavedDrive', 'MoSold', 'YrSold',\n",
       "       'SaleCondition', 'MasVnrArea2', 'total_LivArea', 'num_bathroom',\n",
       "       'SchD_S', 'BldgAge', 'Remodeled', 'IsPUD', 'LotIsReg', 'HillORDepr',\n",
       "       'PosFeat', 'ExtMatl', 'ExterQual_num', 'BsmtQual_num',\n",
       "       'KitchenQual_num', 'FireplaceQu_num', 'GarageQual_num', 'ExterCond_num',\n",
       "       'BsmtCond_num', 'GarageCond_num', 'HeatingQC_num', 'Total_porch_sf',\n",
       "       'HasFence', 'Funct_3'],\n",
       "      dtype='object')"
      ]
     },
     "execution_count": 8,
     "metadata": {},
     "output_type": "execute_result"
    }
   ],
   "source": [
    "house_df_eng.columns"
   ]
  },
  {
   "cell_type": "markdown",
   "metadata": {},
   "source": [
    "#### dummification and log transformation"
   ]
  },
  {
   "cell_type": "code",
   "execution_count": 9,
   "metadata": {},
   "outputs": [
    {
     "name": "stdout",
     "output_type": "stream",
     "text": [
      "(2557, 84)\n",
      "(2557, 84)\n"
     ]
    }
   ],
   "source": [
    "# dummify the dataset\n",
    "house_df_dum = pd.get_dummies(house_df_eng, drop_first=True)\n",
    "print(house_df_dum.shape)\n",
    "print(house_df_dum.shape)\n",
    "\n",
    "# apply log()\n",
    "house_df_dum['SalePrice'] = np.log(house_df_dum['SalePrice'])\n",
    "house_df_dum['total_LivArea'] = np.log(house_df_dum['total_LivArea'])\n",
    "#house_df_dum['Distance'] = np.log(X_train_dum['Distance'])\n",
    "house_df_dum['Total_porch_sf'] = np.log(house_df_dum['Total_porch_sf']+1)"
   ]
  },
  {
   "cell_type": "markdown",
   "metadata": {},
   "source": [
    "#### test-train split"
   ]
  },
  {
   "cell_type": "code",
   "execution_count": 10,
   "metadata": {
    "scrolled": true
   },
   "outputs": [
    {
     "data": {
      "text/plain": [
       "314"
      ]
     },
     "execution_count": 10,
     "metadata": {},
     "output_type": "execute_result"
    }
   ],
   "source": [
    "len(house_df_dum[house_df_dum['YrSold']==2010])"
   ]
  },
  {
   "cell_type": "code",
   "execution_count": 11,
   "metadata": {},
   "outputs": [
    {
     "name": "stdout",
     "output_type": "stream",
     "text": [
      "(2243, 84)\n",
      "(314, 84)\n"
     ]
    }
   ],
   "source": [
    "train = house_df_dum[house_df_dum['YrSold']!=2010]\n",
    "test = house_df_dum[house_df_dum['YrSold']==2010]\n",
    "print(train.shape)\n",
    "print(test.shape)\n",
    "\n",
    "X_train = train.drop(['SalePrice','YrSold'],axis=1)\n",
    "y_train = train['SalePrice']\n",
    "X_test = test.drop(['SalePrice','YrSold'],axis=1)\n",
    "y_test = test['SalePrice']"
   ]
  },
  {
   "cell_type": "markdown",
   "metadata": {},
   "source": [
    "#### linear regression, p-values, and VIFs"
   ]
  },
  {
   "cell_type": "code",
   "execution_count": 12,
   "metadata": {
    "scrolled": false
   },
   "outputs": [
    {
     "data": {
      "text/plain": [
       "0.9135884502297468"
      ]
     },
     "execution_count": 12,
     "metadata": {},
     "output_type": "execute_result"
    },
    {
     "name": "stdout",
     "output_type": "stream",
     "text": [
      "                            OLS Regression Results                            \n",
      "==============================================================================\n",
      "Dep. Variable:              SalePrice   R-squared:                       0.914\n",
      "Model:                            OLS   Adj. R-squared:                  0.910\n",
      "Method:                 Least Squares   F-statistic:                     278.5\n",
      "Date:                Sun, 29 Nov 2020   Prob (F-statistic):               0.00\n",
      "Time:                        11:43:57   Log-Likelihood:                 1720.8\n",
      "No. Observations:                2243   AIC:                            -3276.\n",
      "Df Residuals:                    2160   BIC:                            -2801.\n",
      "Df Model:                          82                                         \n",
      "Covariance Type:            nonrobust                                         \n",
      "=========================================================================================\n",
      "                            coef    std err          t      P>|t|      [0.025      0.975]\n",
      "-----------------------------------------------------------------------------------------\n",
      "const                     8.4812      0.102     83.113      0.000       8.281       8.681\n",
      "Distance                 -0.0227      0.003     -6.889      0.000      -0.029      -0.016\n",
      "Alley                     0.0054      0.011      0.487      0.626      -0.016       0.027\n",
      "OverallQual               0.0652      0.003     18.838      0.000       0.058       0.072\n",
      "OverallCond               0.0397      0.003     13.404      0.000       0.034       0.045\n",
      "TotRmsAbvGrd              0.0310      0.003     11.854      0.000       0.026       0.036\n",
      "Fireplaces                0.0469      0.008      5.939      0.000       0.031       0.062\n",
      "GarageArea                0.0002   1.89e-05     11.878      0.000       0.000       0.000\n",
      "MoSold                   -0.0006      0.001     -0.615      0.539      -0.002       0.001\n",
      "MasVnrArea2               0.0061      0.006      1.018      0.309      -0.006       0.018\n",
      "total_LivArea             0.2828      0.013     21.946      0.000       0.258       0.308\n",
      "num_bathroom              0.0249      0.005      4.744      0.000       0.015       0.035\n",
      "BldgAge                  -0.0016      0.000     -7.070      0.000      -0.002      -0.001\n",
      "Remodeled                -0.0110      0.006     -1.813      0.070      -0.023       0.001\n",
      "IsPUD                     0.0096      0.053      0.182      0.855      -0.093       0.113\n",
      "LotIsReg                 -0.0159      0.006     -2.842      0.005      -0.027      -0.005\n",
      "HillORDepr                0.0493      0.011      4.383      0.000       0.027       0.071\n",
      "PosFeat                   0.0208      0.017      1.235      0.217      -0.012       0.054\n",
      "ExterQual_num             0.0107      0.004      2.803      0.005       0.003       0.018\n",
      "BsmtQual_num              0.0139      0.003      4.687      0.000       0.008       0.020\n",
      "KitchenQual_num           0.0130      0.003      4.408      0.000       0.007       0.019\n",
      "FireplaceQu_num           0.0019      0.001      1.308      0.191      -0.001       0.005\n",
      "GarageQual_num            0.0019      0.006      0.324      0.746      -0.010       0.013\n",
      "ExterCond_num            -0.0049      0.004     -1.297      0.195      -0.012       0.002\n",
      "BsmtCond_num          -6.589e-05      0.004     -0.018      0.985      -0.007       0.007\n",
      "GarageCond_num            0.0061      0.006      0.975      0.329      -0.006       0.019\n",
      "HeatingQC_num             0.0064      0.002      3.737      0.000       0.003       0.010\n",
      "Total_porch_sf            0.0034      0.001      2.448      0.014       0.001       0.006\n",
      "HasFence                 -0.0056      0.007     -0.849      0.396      -0.018       0.007\n",
      "BldgType_2fmCon          -0.0622      0.019     -3.228      0.001      -0.100      -0.024\n",
      "BldgType_Duplex          -0.1049      0.017     -6.114      0.000      -0.138      -0.071\n",
      "BldgType_Twnhs           -0.1465      0.054     -2.698      0.007      -0.253      -0.040\n",
      "BldgType_TwnhsE          -0.0931      0.053     -1.758      0.079      -0.197       0.011\n",
      "HouseStyle_1.5Unf         0.0162      0.028      0.571      0.568      -0.039       0.072\n",
      "HouseStyle_1Story         0.0278      0.010      2.767      0.006       0.008       0.047\n",
      "HouseStyle_2.5Fin        -0.0545      0.050     -1.098      0.272      -0.152       0.043\n",
      "HouseStyle_2.5Unf         0.0100      0.029      0.350      0.727      -0.046       0.066\n",
      "HouseStyle_2Story        -0.0286      0.010     -2.804      0.005      -0.049      -0.009\n",
      "HouseStyle_SFoyer        -0.0305      0.020     -1.535      0.125      -0.070       0.008\n",
      "HouseStyle_SLvl          -0.0442      0.016     -2.838      0.005      -0.075      -0.014\n",
      "Foundation_CBlock         0.0222      0.011      2.049      0.041       0.001       0.044\n",
      "Foundation_PConc          0.0360      0.012      2.888      0.004       0.012       0.060\n",
      "Foundation_Slab           0.0229      0.030      0.764      0.445      -0.036       0.082\n",
      "Foundation_Stone          0.0032      0.043      0.076      0.940      -0.080       0.087\n",
      "Foundation_Wood           0.0601      0.060      1.007      0.314      -0.057       0.177\n",
      "BsmtExposure_Gd           0.0327      0.011      2.986      0.003       0.011       0.054\n",
      "BsmtExposure_Mn          -0.0265      0.011     -2.342      0.019      -0.049      -0.004\n",
      "BsmtExposure_No          -0.0200      0.008     -2.402      0.016      -0.036      -0.004\n",
      "CentralAir_Y              0.0411      0.013      3.072      0.002       0.015       0.067\n",
      "Electrical_FuseF         -0.0269      0.023     -1.185      0.236      -0.072       0.018\n",
      "Electrical_FuseP         -0.0402      0.047     -0.861      0.389      -0.132       0.051\n",
      "Electrical_SBrkr         -0.0138      0.011     -1.298      0.195      -0.035       0.007\n",
      "GarageType_Attchd         0.0312      0.028      1.102      0.271      -0.024       0.087\n",
      "GarageType_Basment        0.0211      0.038      0.560      0.575      -0.053       0.095\n",
      "GarageType_BuiltIn        0.0212      0.030      0.700      0.484      -0.038       0.081\n",
      "GarageType_CarPort       -0.0242      0.052     -0.462      0.644      -0.127       0.078\n",
      "GarageType_Detchd         0.0098      0.028      0.347      0.729      -0.045       0.065\n",
      "GarageType_None          -0.0130      0.125     -0.104      0.917      -0.257       0.231\n",
      "GarageFinish_None         0.0848      0.127      0.669      0.504      -0.164       0.334\n",
      "GarageFinish_RFn          0.0048      0.007      0.667      0.505      -0.009       0.019\n",
      "GarageFinish_Unf          0.0110      0.009      1.259      0.208      -0.006       0.028\n",
      "PavedDrive_P              0.0184      0.019      0.972      0.331      -0.019       0.055\n",
      "PavedDrive_Y              0.0450      0.012      3.734      0.000       0.021       0.069\n",
      "SaleCondition_AdjLand     0.0833      0.086      0.972      0.331      -0.085       0.251\n",
      "SaleCondition_Alloca      0.1270      0.070      1.806      0.071      -0.011       0.265\n",
      "SaleCondition_Family     -0.0721      0.034     -2.150      0.032      -0.138      -0.006\n",
      "SaleCondition_Normal      0.0658      0.017      3.942      0.000       0.033       0.099\n",
      "SaleCondition_Partial     0.1196      0.022      5.516      0.000       0.077       0.162\n",
      "SchD_S_5                  0.0330      0.009      3.512      0.000       0.015       0.051\n",
      "ExtMatl_AsphShn           0.0817      0.121      0.674      0.500      -0.156       0.319\n",
      "ExtMatl_BrkFace           0.0950      0.030      3.136      0.002       0.036       0.154\n",
      "ExtMatl_CBlock           -0.0512      0.119     -0.431      0.666      -0.284       0.181\n",
      "ExtMatl_HdBoard           0.0188      0.025      0.755      0.450      -0.030       0.068\n",
      "ExtMatl_ImStucc           0.0178      0.118      0.151      0.880      -0.213       0.249\n",
      "ExtMatl_MetalSd           0.0513      0.024      2.105      0.035       0.004       0.099\n",
      "ExtMatl_Mixed             0.0416      0.025      1.691      0.091      -0.007       0.090\n",
      "ExtMatl_Plywood           0.0171      0.026      0.655      0.513      -0.034       0.068\n",
      "ExtMatl_PreCast           0.4468      0.119      3.746      0.000       0.213       0.681\n",
      "ExtMatl_Stucco            0.0422      0.033      1.269      0.205      -0.023       0.107\n",
      "ExtMatl_VinylSd           0.0266      0.025      1.077      0.281      -0.022       0.075\n",
      "ExtMatl_Wd Sdng           0.0277      0.024      1.136      0.256      -0.020       0.076\n",
      "Funct_3_ModToSev         -0.0511      0.020     -2.530      0.011      -0.091      -0.012\n",
      "Funct_3_Normal            0.0196      0.012      1.599      0.110      -0.004       0.044\n",
      "==============================================================================\n",
      "Omnibus:                      527.359   Durbin-Watson:                   2.079\n",
      "Prob(Omnibus):                  0.000   Jarque-Bera (JB):             5793.621\n",
      "Skew:                          -0.786   Prob(JB):                         0.00\n",
      "Kurtosis:                      10.715   Cond. No.                     3.72e+04\n",
      "==============================================================================\n",
      "\n",
      "Warnings:\n",
      "[1] Standard Errors assume that the covariance matrix of the errors is correctly specified.\n",
      "[2] The condition number is large, 3.72e+04. This might indicate that there are\n",
      "strong multicollinearity or other numerical problems.\n"
     ]
    },
    {
     "data": {
      "text/plain": [
       "const                    0.000000e+00\n",
       "Distance                 7.342637e-12\n",
       "OverallQual              2.061792e-73\n",
       "OverallCond              2.053056e-39\n",
       "TotRmsAbvGrd             1.885858e-31\n",
       "Fireplaces               3.340927e-09\n",
       "GarageArea               1.444154e-31\n",
       "total_LivArea            1.543069e-96\n",
       "num_bathroom             2.232136e-06\n",
       "BldgAge                  2.088693e-12\n",
       "LotIsReg                 4.522439e-03\n",
       "HillORDepr               1.224148e-05\n",
       "ExterQual_num            5.100802e-03\n",
       "BsmtQual_num             2.948366e-06\n",
       "KitchenQual_num          1.095704e-05\n",
       "HeatingQC_num            1.912565e-04\n",
       "Total_porch_sf           1.444937e-02\n",
       "BldgType_2fmCon          1.264813e-03\n",
       "BldgType_Duplex          1.148426e-09\n",
       "BldgType_Twnhs           7.034307e-03\n",
       "HouseStyle_1Story        5.700589e-03\n",
       "HouseStyle_2Story        5.085207e-03\n",
       "HouseStyle_SLvl          4.581167e-03\n",
       "Foundation_CBlock        4.059015e-02\n",
       "Foundation_PConc         3.918517e-03\n",
       "BsmtExposure_Gd          2.862583e-03\n",
       "BsmtExposure_Mn          1.925884e-02\n",
       "BsmtExposure_No          1.637368e-02\n",
       "CentralAir_Y             2.152286e-03\n",
       "PavedDrive_Y             1.932679e-04\n",
       "SaleCondition_Family     3.168016e-02\n",
       "SaleCondition_Normal     8.354332e-05\n",
       "SaleCondition_Partial    3.887324e-08\n",
       "SchD_S_5                 4.541918e-04\n",
       "ExtMatl_BrkFace          1.733505e-03\n",
       "ExtMatl_MetalSd          3.537280e-02\n",
       "ExtMatl_PreCast          1.845315e-04\n",
       "Funct_3_ModToSev         1.146163e-02\n",
       "dtype: float64"
      ]
     },
     "execution_count": 12,
     "metadata": {},
     "output_type": "execute_result"
    },
    {
     "name": "stdout",
     "output_type": "stream",
     "text": [
      "                  feature         VIF\n",
      "0                Distance   15.634547\n",
      "1             OverallQual   71.727564\n",
      "2             OverallCond   40.114700\n",
      "3            TotRmsAbvGrd   39.632187\n",
      "4              Fireplaces    2.776179\n",
      "5              GarageArea   10.525371\n",
      "6           total_LivArea  327.026423\n",
      "7            num_bathroom   20.995611\n",
      "8                 BldgAge   13.020247\n",
      "9                LotIsReg    3.265150\n",
      "10             HillORDepr    1.197003\n",
      "11          ExterQual_num  107.570941\n",
      "12           BsmtQual_num   40.307674\n",
      "13        KitchenQual_num   72.726906\n",
      "14          HeatingQC_num   33.735544\n",
      "15         Total_porch_sf    7.170602\n",
      "16        BldgType_2fmCon    1.185849\n",
      "17        BldgType_Duplex    1.357928\n",
      "18         BldgType_Twnhs    1.216124\n",
      "19      HouseStyle_1Story    5.369455\n",
      "20      HouseStyle_2Story    3.958848\n",
      "21        HouseStyle_SLvl    1.473855\n",
      "22      Foundation_CBlock    6.580818\n",
      "23       Foundation_PConc    9.633890\n",
      "24        BsmtExposure_Gd    1.874520\n",
      "25        BsmtExposure_Mn    1.695733\n",
      "26        BsmtExposure_No    6.410077\n",
      "27           CentralAir_Y   25.048567\n",
      "28           PavedDrive_Y   15.669601\n",
      "29   SaleCondition_Family    1.312235\n",
      "30   SaleCondition_Normal   38.557495\n",
      "31  SaleCondition_Partial    2.558687\n",
      "32               SchD_S_5    1.706940\n",
      "33        ExtMatl_BrkFace    1.070868\n",
      "34        ExtMatl_MetalSd    1.306962\n",
      "35        ExtMatl_PreCast    1.027178\n",
      "36       Funct_3_ModToSev    1.104938\n"
     ]
    }
   ],
   "source": [
    "lin_reg = LinearRegression().fit(X_train, y_train)\n",
    "lin_reg.score(X_train, y_train)\n",
    "\n",
    "x_feature = sm.add_constant(X_train)\n",
    "\n",
    "model = sm.OLS(y_train, x_feature)\n",
    "results_feature = model.fit()\n",
    "print(results_feature.summary())\n",
    "pValue = results_feature.pvalues\n",
    "pValue[pValue<0.05]\n",
    "\n",
    "#X_vif = X_train_dum[pValue[pValue<0.05].index]\n",
    "X_vif = X_train[pValue[pValue<0.05].drop('const').index]\n",
    "vif_data = pd.DataFrame() \n",
    "vif_data[\"feature\"] = X_vif.columns\n",
    "vif_data[\"VIF\"] = [variance_inflation_factor(X_vif.values, i) \n",
    "                          for i in range(len(X_vif.columns))] \n",
    "print(vif_data)"
   ]
  },
  {
   "cell_type": "markdown",
   "metadata": {},
   "source": [
    "#### train and test error"
   ]
  },
  {
   "cell_type": "code",
   "execution_count": 13,
   "metadata": {},
   "outputs": [
    {
     "data": {
      "text/plain": [
       "0.9135884502297468"
      ]
     },
     "execution_count": 13,
     "metadata": {},
     "output_type": "execute_result"
    },
    {
     "data": {
      "text/plain": [
       "0.8495734360021537"
      ]
     },
     "execution_count": 13,
     "metadata": {},
     "output_type": "execute_result"
    }
   ],
   "source": [
    "lin_reg.score(X_train, y_train)\n",
    "lin_reg.score(X_test, y_test)"
   ]
  },
  {
   "cell_type": "code",
   "execution_count": null,
   "metadata": {},
   "outputs": [],
   "source": []
  },
  {
   "cell_type": "markdown",
   "metadata": {},
   "source": [
    "#### lasso"
   ]
  },
  {
   "cell_type": "code",
   "execution_count": 14,
   "metadata": {},
   "outputs": [],
   "source": [
    "X_train_lasso = X_train.copy()\n",
    "y_train_lasso = y_train.copy()\n",
    "X_test_lasso = X_test.copy()\n",
    "y_test_lasso = y_test.copy()"
   ]
  },
  {
   "cell_type": "code",
   "execution_count": 15,
   "metadata": {},
   "outputs": [
    {
     "data": {
      "text/plain": [
       "LassoCV(alphas=None, copy_X=True, cv=None, eps=0.001, fit_intercept=True,\n",
       "        max_iter=1000, n_alphas=200, n_jobs=None, normalize=True,\n",
       "        positive=False, precompute='auto', random_state=None,\n",
       "        selection='cyclic', tol=0.0001, verbose=False)"
      ]
     },
     "execution_count": 15,
     "metadata": {},
     "output_type": "execute_result"
    },
    {
     "data": {
      "text/plain": [
       "3.0508293036878217e-05"
      ]
     },
     "execution_count": 15,
     "metadata": {},
     "output_type": "execute_result"
    }
   ],
   "source": [
    "# best best fit alpha\n",
    "reg_lasso_cv = LassoCV(normalize = True, n_alphas = 200)\n",
    "reg_lasso_cv.fit(X_train_lasso, y_train_lasso)\n",
    "reg_lasso_cv.alpha_"
   ]
  },
  {
   "cell_type": "code",
   "execution_count": 16,
   "metadata": {
    "scrolled": false
   },
   "outputs": [
    {
     "data": {
      "text/plain": [
       "Lasso(alpha=2.846e-05, copy_X=True, fit_intercept=True, max_iter=1000,\n",
       "      normalize=True, positive=False, precompute=False, random_state=None,\n",
       "      selection='cyclic', tol=0.0001, warm_start=False)"
      ]
     },
     "execution_count": 16,
     "metadata": {},
     "output_type": "execute_result"
    },
    {
     "data": {
      "text/plain": [
       "Lasso(alpha=2.846e-05, copy_X=True, fit_intercept=True, max_iter=1000,\n",
       "      normalize=True, positive=False, precompute=False, random_state=None,\n",
       "      selection='cyclic', tol=0.0001, warm_start=False)"
      ]
     },
     "execution_count": 16,
     "metadata": {},
     "output_type": "execute_result"
    },
    {
     "data": {
      "text/html": [
       "<div>\n",
       "<style scoped>\n",
       "    .dataframe tbody tr th:only-of-type {\n",
       "        vertical-align: middle;\n",
       "    }\n",
       "\n",
       "    .dataframe tbody tr th {\n",
       "        vertical-align: top;\n",
       "    }\n",
       "\n",
       "    .dataframe thead th {\n",
       "        text-align: right;\n",
       "    }\n",
       "</style>\n",
       "<table border=\"1\" class=\"dataframe\">\n",
       "  <thead>\n",
       "    <tr style=\"text-align: right;\">\n",
       "      <th></th>\n",
       "      <th>feature</th>\n",
       "      <th>coef</th>\n",
       "    </tr>\n",
       "  </thead>\n",
       "  <tbody>\n",
       "    <tr>\n",
       "      <th>2</th>\n",
       "      <td>OverallQual</td>\n",
       "      <td>0.068231</td>\n",
       "    </tr>\n",
       "    <tr>\n",
       "      <th>3</th>\n",
       "      <td>OverallCond</td>\n",
       "      <td>0.036547</td>\n",
       "    </tr>\n",
       "    <tr>\n",
       "      <th>4</th>\n",
       "      <td>TotRmsAbvGrd</td>\n",
       "      <td>0.028729</td>\n",
       "    </tr>\n",
       "    <tr>\n",
       "      <th>5</th>\n",
       "      <td>Fireplaces</td>\n",
       "      <td>0.045729</td>\n",
       "    </tr>\n",
       "    <tr>\n",
       "      <th>6</th>\n",
       "      <td>GarageArea</td>\n",
       "      <td>0.000220</td>\n",
       "    </tr>\n",
       "    <tr>\n",
       "      <th>8</th>\n",
       "      <td>MasVnrArea2</td>\n",
       "      <td>0.002674</td>\n",
       "    </tr>\n",
       "    <tr>\n",
       "      <th>9</th>\n",
       "      <td>total_LivArea</td>\n",
       "      <td>0.287412</td>\n",
       "    </tr>\n",
       "    <tr>\n",
       "      <th>10</th>\n",
       "      <td>num_bathroom</td>\n",
       "      <td>0.022064</td>\n",
       "    </tr>\n",
       "    <tr>\n",
       "      <th>15</th>\n",
       "      <td>HillORDepr</td>\n",
       "      <td>0.048149</td>\n",
       "    </tr>\n",
       "    <tr>\n",
       "      <th>16</th>\n",
       "      <td>PosFeat</td>\n",
       "      <td>0.017976</td>\n",
       "    </tr>\n",
       "    <tr>\n",
       "      <th>17</th>\n",
       "      <td>ExterQual_num</td>\n",
       "      <td>0.010877</td>\n",
       "    </tr>\n",
       "    <tr>\n",
       "      <th>18</th>\n",
       "      <td>BsmtQual_num</td>\n",
       "      <td>0.012154</td>\n",
       "    </tr>\n",
       "    <tr>\n",
       "      <th>19</th>\n",
       "      <td>KitchenQual_num</td>\n",
       "      <td>0.013267</td>\n",
       "    </tr>\n",
       "    <tr>\n",
       "      <th>20</th>\n",
       "      <td>FireplaceQu_num</td>\n",
       "      <td>0.002352</td>\n",
       "    </tr>\n",
       "    <tr>\n",
       "      <th>24</th>\n",
       "      <td>GarageCond_num</td>\n",
       "      <td>0.000036</td>\n",
       "    </tr>\n",
       "    <tr>\n",
       "      <th>25</th>\n",
       "      <td>HeatingQC_num</td>\n",
       "      <td>0.005937</td>\n",
       "    </tr>\n",
       "    <tr>\n",
       "      <th>26</th>\n",
       "      <td>Total_porch_sf</td>\n",
       "      <td>0.002400</td>\n",
       "    </tr>\n",
       "    <tr>\n",
       "      <th>33</th>\n",
       "      <td>HouseStyle_1Story</td>\n",
       "      <td>0.034436</td>\n",
       "    </tr>\n",
       "    <tr>\n",
       "      <th>39</th>\n",
       "      <td>Foundation_CBlock</td>\n",
       "      <td>0.002221</td>\n",
       "    </tr>\n",
       "    <tr>\n",
       "      <th>40</th>\n",
       "      <td>Foundation_PConc</td>\n",
       "      <td>0.016568</td>\n",
       "    </tr>\n",
       "    <tr>\n",
       "      <th>43</th>\n",
       "      <td>Foundation_Wood</td>\n",
       "      <td>0.005943</td>\n",
       "    </tr>\n",
       "    <tr>\n",
       "      <th>44</th>\n",
       "      <td>BsmtExposure_Gd</td>\n",
       "      <td>0.034929</td>\n",
       "    </tr>\n",
       "    <tr>\n",
       "      <th>47</th>\n",
       "      <td>CentralAir_Y</td>\n",
       "      <td>0.048188</td>\n",
       "    </tr>\n",
       "    <tr>\n",
       "      <th>51</th>\n",
       "      <td>GarageType_Attchd</td>\n",
       "      <td>0.016503</td>\n",
       "    </tr>\n",
       "    <tr>\n",
       "      <th>60</th>\n",
       "      <td>PavedDrive_P</td>\n",
       "      <td>0.004407</td>\n",
       "    </tr>\n",
       "    <tr>\n",
       "      <th>61</th>\n",
       "      <td>PavedDrive_Y</td>\n",
       "      <td>0.041289</td>\n",
       "    </tr>\n",
       "    <tr>\n",
       "      <th>62</th>\n",
       "      <td>SaleCondition_AdjLand</td>\n",
       "      <td>0.016669</td>\n",
       "    </tr>\n",
       "    <tr>\n",
       "      <th>63</th>\n",
       "      <td>SaleCondition_Alloca</td>\n",
       "      <td>0.078041</td>\n",
       "    </tr>\n",
       "    <tr>\n",
       "      <th>65</th>\n",
       "      <td>SaleCondition_Normal</td>\n",
       "      <td>0.043664</td>\n",
       "    </tr>\n",
       "    <tr>\n",
       "      <th>66</th>\n",
       "      <td>SaleCondition_Partial</td>\n",
       "      <td>0.092401</td>\n",
       "    </tr>\n",
       "    <tr>\n",
       "      <th>67</th>\n",
       "      <td>SchD_S_5</td>\n",
       "      <td>0.027533</td>\n",
       "    </tr>\n",
       "    <tr>\n",
       "      <th>69</th>\n",
       "      <td>ExtMatl_BrkFace</td>\n",
       "      <td>0.052166</td>\n",
       "    </tr>\n",
       "    <tr>\n",
       "      <th>73</th>\n",
       "      <td>ExtMatl_MetalSd</td>\n",
       "      <td>0.018683</td>\n",
       "    </tr>\n",
       "    <tr>\n",
       "      <th>74</th>\n",
       "      <td>ExtMatl_Mixed</td>\n",
       "      <td>0.009044</td>\n",
       "    </tr>\n",
       "    <tr>\n",
       "      <th>76</th>\n",
       "      <td>ExtMatl_PreCast</td>\n",
       "      <td>0.371679</td>\n",
       "    </tr>\n",
       "    <tr>\n",
       "      <th>81</th>\n",
       "      <td>Funct_3_Normal</td>\n",
       "      <td>0.014251</td>\n",
       "    </tr>\n",
       "  </tbody>\n",
       "</table>\n",
       "</div>"
      ],
      "text/plain": [
       "                  feature      coef\n",
       "2             OverallQual  0.068231\n",
       "3             OverallCond  0.036547\n",
       "4            TotRmsAbvGrd  0.028729\n",
       "5              Fireplaces  0.045729\n",
       "6              GarageArea  0.000220\n",
       "8             MasVnrArea2  0.002674\n",
       "9           total_LivArea  0.287412\n",
       "10           num_bathroom  0.022064\n",
       "15             HillORDepr  0.048149\n",
       "16                PosFeat  0.017976\n",
       "17          ExterQual_num  0.010877\n",
       "18           BsmtQual_num  0.012154\n",
       "19        KitchenQual_num  0.013267\n",
       "20        FireplaceQu_num  0.002352\n",
       "24         GarageCond_num  0.000036\n",
       "25          HeatingQC_num  0.005937\n",
       "26         Total_porch_sf  0.002400\n",
       "33      HouseStyle_1Story  0.034436\n",
       "39      Foundation_CBlock  0.002221\n",
       "40       Foundation_PConc  0.016568\n",
       "43        Foundation_Wood  0.005943\n",
       "44        BsmtExposure_Gd  0.034929\n",
       "47           CentralAir_Y  0.048188\n",
       "51      GarageType_Attchd  0.016503\n",
       "60           PavedDrive_P  0.004407\n",
       "61           PavedDrive_Y  0.041289\n",
       "62  SaleCondition_AdjLand  0.016669\n",
       "63   SaleCondition_Alloca  0.078041\n",
       "65   SaleCondition_Normal  0.043664\n",
       "66  SaleCondition_Partial  0.092401\n",
       "67               SchD_S_5  0.027533\n",
       "69        ExtMatl_BrkFace  0.052166\n",
       "73        ExtMatl_MetalSd  0.018683\n",
       "74          ExtMatl_Mixed  0.009044\n",
       "76        ExtMatl_PreCast  0.371679\n",
       "81         Funct_3_Normal  0.014251"
      ]
     },
     "execution_count": 16,
     "metadata": {},
     "output_type": "execute_result"
    }
   ],
   "source": [
    "# put the alpha value back in the original lasso\n",
    "reg_lasso = Lasso(normalize=True)\n",
    "reg_lasso.set_params(alpha = 2.846e-05)\n",
    "reg_lasso.fit(X_train_lasso, y_train_lasso)\n",
    "lasso_coef_df = pd.DataFrame({'feature':X_train_lasso.columns,\n",
    "                              'coef':reg_lasso.coef_})\n",
    "lasso_coef_df[lasso_coef_df['coef']>0]"
   ]
  },
  {
   "cell_type": "markdown",
   "metadata": {},
   "source": [
    "#### test and train errors (lasso)"
   ]
  },
  {
   "cell_type": "code",
   "execution_count": 17,
   "metadata": {},
   "outputs": [
    {
     "name": "stdout",
     "output_type": "stream",
     "text": [
      "0.9122061513905891\n"
     ]
    },
    {
     "data": {
      "text/plain": [
       "0.8445759479422786"
      ]
     },
     "execution_count": 17,
     "metadata": {},
     "output_type": "execute_result"
    }
   ],
   "source": [
    "print(reg_lasso.score(X_train_lasso, y_train_lasso))\n",
    "reg_lasso.score(X_test_lasso, y_test_lasso)"
   ]
  },
  {
   "cell_type": "code",
   "execution_count": null,
   "metadata": {},
   "outputs": [],
   "source": []
  },
  {
   "cell_type": "code",
   "execution_count": null,
   "metadata": {},
   "outputs": [],
   "source": [
    "# Decision Tree Model\n",
    "tree_reg = DecisionTreeRegressor(max_depth=10).fit(X_train1,y_train1)\n",
    "print(f'R^2 of Train set: {tree_reg.score(X_train1,y_train1)}')\n",
    "print(f'R^2 Test set: {tree_reg.score(X_test1,y_test1)}')\n",
    "\n"
   ]
  },
  {
   "cell_type": "code",
   "execution_count": null,
   "metadata": {},
   "outputs": [],
   "source": [
    "# Random Forest Model\n",
    "forest_reg = RandomForestRegressor(n_estimators=100,max_features=5).fit(X_train1,y_train1)\n",
    "print(f'R^2 of Train set: {forest_reg.score(X_train1,y_train1)}')\n",
    "print(f'R^2 Test set: {forest_reg.score(X_test1,y_test1)}')"
   ]
  },
  {
   "cell_type": "code",
   "execution_count": null,
   "metadata": {},
   "outputs": [],
   "source": []
  },
  {
   "cell_type": "code",
   "execution_count": null,
   "metadata": {},
   "outputs": [],
   "source": [
    "# from sklearn.metrics import mean_squared_error\n",
    "# from sklearn.metrics import r2_score\n",
    "# housing_prediction = lin_reg.predict(X_test)\n",
    "# mean_squared_error(y_train,y_test)\n",
    "# lin_reg2 = LinearRegression().fit(X_train,y_train)\n",
    "# lin_reg.r2_score"
   ]
  }
 ],
 "metadata": {
  "kernelspec": {
   "display_name": "Python 3",
   "language": "python",
   "name": "python3"
  },
  "language_info": {
   "codemirror_mode": {
    "name": "ipython",
    "version": 3
   },
   "file_extension": ".py",
   "mimetype": "text/x-python",
   "name": "python",
   "nbconvert_exporter": "python",
   "pygments_lexer": "ipython3",
   "version": "3.7.6"
  },
  "toc": {
   "base_numbering": 1,
   "nav_menu": {},
   "number_sections": false,
   "sideBar": true,
   "skip_h1_title": false,
   "title_cell": "Table of Contents",
   "title_sidebar": "Contents",
   "toc_cell": false,
   "toc_position": {},
   "toc_section_display": true,
   "toc_window_display": false
  }
 },
 "nbformat": 4,
 "nbformat_minor": 4
}
