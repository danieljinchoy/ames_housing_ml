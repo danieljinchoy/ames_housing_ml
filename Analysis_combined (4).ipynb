{
 "cells": [
  {
   "cell_type": "markdown",
   "metadata": {},
   "source": [
    "#### load libraries"
   ]
  },
  {
   "cell_type": "code",
   "execution_count": 1,
   "metadata": {},
   "outputs": [],
   "source": [
    "import numpy as np\n",
    "import pandas as pd\n",
    "from sklearn.linear_model import LinearRegression, Ridge, RidgeCV, Lasso, LassoCV, ElasticNet, ElasticNetCV, HuberRegressor\n",
    "from sklearn.impute import SimpleImputer\n",
    "from sklearn.tree import DecisionTreeRegressor\n",
    "from sklearn.ensemble import RandomForestRegressor, RandomForestClassifier\n",
    "from sklearn.model_selection import cross_val_score, cross_val_predict,cross_validate, GridSearchCV, train_test_split\n",
    "import statsmodels.api as sm\n",
    "from statsmodels.stats.outliers_influence import variance_inflation_factor \n",
    "import statistics\n",
    "import matplotlib.pyplot as plt\n",
    "import seaborn as sns\n",
    "\n",
    "pd.options.display.max_columns = None\n",
    "pd.options.display.max_rows = None\n",
    "from IPython.core.interactiveshell import InteractiveShell\n",
    "InteractiveShell.ast_node_interactivity = \"all\""
   ]
  },
  {
   "cell_type": "markdown",
   "metadata": {},
   "source": [
    "#### load and inspect data"
   ]
  },
  {
   "cell_type": "code",
   "execution_count": 254,
   "metadata": {
    "scrolled": true
   },
   "outputs": [
    {
     "data": {
      "text/plain": [
       "(2603, 179)"
      ]
     },
     "execution_count": 254,
     "metadata": {},
     "output_type": "execute_result"
    }
   ],
   "source": [
    "ames_df = pd.read_csv('./data/final_df.csv', index_col = 0)\n",
    "\n",
    "# Checking final_df after generating geoCode, found duplicated observations\n",
    "ames_df.shape"
   ]
  },
  {
   "cell_type": "code",
   "execution_count": 255,
   "metadata": {},
   "outputs": [
    {
     "data": {
      "text/plain": [
       "(2558, 179)"
      ]
     },
     "execution_count": 255,
     "metadata": {},
     "output_type": "execute_result"
    }
   ],
   "source": [
    "# drop duplicated observations\n",
    "ames_df = ames_df.drop_duplicates(subset=['PID'],keep = 'first')\n",
    "ames_df.shape"
   ]
  },
  {
   "cell_type": "markdown",
   "metadata": {},
   "source": [
    "#### preprocessing"
   ]
  },
  {
   "cell_type": "code",
   "execution_count": 256,
   "metadata": {
    "scrolled": false
   },
   "outputs": [],
   "source": [
    "ames_df_use = ames_df.copy()\n",
    "\n",
    "# convert MSSubClass to str\n",
    "ames_df_use['MSSubClass'] = ames_df_use[['MSSubClass']].astype('str')\n",
    "\n",
    "# characterize tax distr and sch distr\n",
    "ames_df_use['TxD_S'] = ames_df_use[['TxD_S']].astype('str')\n",
    "ames_df_use['SchD_S'] = ames_df_use[['SchD_S']].astype('str')\n",
    "\n",
    "# convert NA's to 0s in LotFrontage and Alley\n",
    "ames_df_use['LotFrontage'] = np.where(pd.isnull(ames_df_use['LotFrontage']), 0, ames_df_use['LotFrontage'])\n",
    "ames_df_use['Alley'] = np.where(pd.isnull(ames_df_use['Alley']), 0, 1)\n",
    "\n",
    "# impute None to Nan value in columns\n",
    "none_features = ['FireplaceQu','GarageType','GarageFinish','GarageQual','GarageCond','Fence','BsmtQual','BsmtCond']\n",
    "for feature in none_features:\n",
    "    ames_df_use[feature] = ames_df_use[feature].fillna('None')\n",
    "\n",
    "# impute None to 0 values in columns\n",
    "zero_features = ['1stFlrSF','2ndFlrSF','GarageCars','TtlBsmtSF','BsmtFinSF1','BsmtFinSF2','BsmtUnfSF','GarageArea',\n",
    "                 'BsmtFullBath','BsmtHalfBath','FullBath','HalfBath','Fireplaces']\n",
    "for feature in zero_features:\n",
    "    ames_df_use[feature] = ames_df_use[feature].fillna(0)\n",
    "\n",
    "# drop rows with NA garage car / garage area\n",
    "garage_NA_index = ames_df_use.loc[pd.isnull(ames_df_use['GarageArea'])].index\n",
    "ames_df_use = ames_df_use.drop(garage_NA_index,axis=0)\n",
    "\n",
    "# add in proper bathroom numbers for 918 and 2328\n",
    "ames_df_use.at[918, 'num_bathroom'] = 1\n",
    "ames_df_use.at[2328, 'num_bathroom'] = 3.5"
   ]
  },
  {
   "cell_type": "markdown",
   "metadata": {},
   "source": [
    "#### descriptive modeling"
   ]
  },
  {
   "cell_type": "code",
   "execution_count": 257,
   "metadata": {},
   "outputs": [
    {
     "name": "stdout",
     "output_type": "stream",
     "text": [
      "(2558, 66)\n"
     ]
    },
    {
     "name": "stderr",
     "output_type": "stream",
     "text": [
      "C:\\Users\\aznan\\anaconda3\\lib\\site-packages\\ipykernel_launcher.py:7: SettingWithCopyWarning: \n",
      "A value is trying to be set on a copy of a slice from a DataFrame.\n",
      "Try using .loc[row_indexer,col_indexer] = value instead\n",
      "\n",
      "See the caveats in the documentation: https://pandas.pydata.org/pandas-docs/stable/user_guide/indexing.html#returning-a-view-versus-a-copy\n",
      "  import sys\n",
      "C:\\Users\\aznan\\anaconda3\\lib\\site-packages\\ipykernel_launcher.py:8: SettingWithCopyWarning: \n",
      "A value is trying to be set on a copy of a slice from a DataFrame.\n",
      "Try using .loc[row_indexer,col_indexer] = value instead\n",
      "\n",
      "See the caveats in the documentation: https://pandas.pydata.org/pandas-docs/stable/user_guide/indexing.html#returning-a-view-versus-a-copy\n",
      "  \n",
      "C:\\Users\\aznan\\anaconda3\\lib\\site-packages\\ipykernel_launcher.py:11: SettingWithCopyWarning: \n",
      "A value is trying to be set on a copy of a slice from a DataFrame.\n",
      "Try using .loc[row_indexer,col_indexer] = value instead\n",
      "\n",
      "See the caveats in the documentation: https://pandas.pydata.org/pandas-docs/stable/user_guide/indexing.html#returning-a-view-versus-a-copy\n",
      "  # This is added back by InteractiveShellApp.init_path()\n"
     ]
    }
   ],
   "source": [
    "X_full = ames_df_use[['YearBuilt','GrLivArea','OverallQual','OverallCond','TtlBsmtSF','BsmtUnfSF',\\\n",
    "                      'GarageArea','GarageQual','KitchenAbvGr','KitchenQual','BedroomAbvGr','FullBath',\\\n",
    "                      'Fireplaces','FireplaceQu','Neighborhood','MSSubClass','TxD_S']]\n",
    "\n",
    "# X_full['1stFlrSF'] = np.log(X_full['1stFlrSF']+1)\n",
    "# X_full['2ndFlrSF'] = np.log(X_full['2ndFlrSF']+1)\n",
    "X_full['GrLivArea'] = np.log(X_full['GrLivArea'])\n",
    "X_full['TtlBsmtSF'] = np.log(X_full['TtlBsmtSF']+1)\n",
    "# X_full['BsmtFinSF1'] = np.log(X_full['BsmtFinSF1']+1)\n",
    "# X_full['BsmtFinSF2'] = np.log(X_full['BsmtFinSF2']+1)\n",
    "X_full['GarageArea'] = np.log(X_full['GarageArea']+1)\n",
    "\n",
    "X_full_dum = pd.get_dummies(X_full, drop_first = True)\n",
    "print(X_full_dum.shape)\n",
    "\n",
    "y_full = np.log(ames_df_use['SalePrice'])"
   ]
  },
  {
   "cell_type": "code",
   "execution_count": 258,
   "metadata": {
    "scrolled": false
   },
   "outputs": [
    {
     "data": {
      "text/plain": [
       "0.9161352074101354"
      ]
     },
     "execution_count": 258,
     "metadata": {},
     "output_type": "execute_result"
    },
    {
     "name": "stdout",
     "output_type": "stream",
     "text": [
      "                            OLS Regression Results                            \n",
      "==============================================================================\n",
      "Dep. Variable:              SalePrice   R-squared:                       0.916\n",
      "Model:                            OLS   Adj. R-squared:                  0.914\n",
      "Method:                 Least Squares   F-statistic:                     418.8\n",
      "Date:                Mon, 30 Nov 2020   Prob (F-statistic):               0.00\n",
      "Time:                        20:54:28   Log-Likelihood:                 1987.4\n",
      "No. Observations:                2558   AIC:                            -3843.\n",
      "Df Residuals:                    2492   BIC:                            -3457.\n",
      "Df Model:                          65                                         \n",
      "Covariance Type:            nonrobust                                         \n",
      "========================================================================================\n",
      "                           coef    std err          t      P>|t|      [0.025      0.975]\n",
      "----------------------------------------------------------------------------------------\n",
      "const                    0.6695      0.450      1.488      0.137      -0.213       1.552\n",
      "YearBuilt                0.0032      0.000     14.277      0.000       0.003       0.004\n",
      "GrLivArea                0.5727      0.016     35.695      0.000       0.541       0.604\n",
      "OverallQual              0.0564      0.003     17.640      0.000       0.050       0.063\n",
      "OverallCond              0.0525      0.002     21.856      0.000       0.048       0.057\n",
      "TtlBsmtSF                0.0350      0.002     15.550      0.000       0.031       0.039\n",
      "BsmtUnfSF            -7.656e-05   6.47e-06    -11.840      0.000   -8.92e-05   -6.39e-05\n",
      "GarageArea               0.0679      0.008      8.645      0.000       0.052       0.083\n",
      "KitchenAbvGr            -0.0932      0.021     -4.522      0.000      -0.134      -0.053\n",
      "BedroomAbvGr            -0.0179      0.004     -4.328      0.000      -0.026      -0.010\n",
      "FullBath                 0.0079      0.007      1.184      0.237      -0.005       0.021\n",
      "Fireplaces               0.0440      0.008      5.272      0.000       0.028       0.060\n",
      "GarageQual_Fa           -0.1653      0.067     -2.457      0.014      -0.297      -0.033\n",
      "GarageQual_Gd           -0.1197      0.071     -1.687      0.092      -0.259       0.019\n",
      "GarageQual_None          0.1885      0.083      2.263      0.024       0.025       0.352\n",
      "GarageQual_Po           -0.2804      0.088     -3.194      0.001      -0.453      -0.108\n",
      "GarageQual_TA           -0.1556      0.066     -2.348      0.019      -0.286      -0.026\n",
      "KitchenQual_Fa          -0.1213      0.020     -5.962      0.000      -0.161      -0.081\n",
      "KitchenQual_Gd          -0.0906      0.012     -7.576      0.000      -0.114      -0.067\n",
      "KitchenQual_Po          -0.0448      0.117     -0.385      0.701      -0.273       0.184\n",
      "KitchenQual_TA          -0.1146      0.013     -8.611      0.000      -0.141      -0.088\n",
      "FireplaceQu_Fa          -0.0352      0.025     -1.417      0.157      -0.084       0.014\n",
      "FireplaceQu_Gd          -0.0314      0.020     -1.537      0.124      -0.071       0.009\n",
      "FireplaceQu_None        -0.0233      0.023     -1.011      0.312      -0.068       0.022\n",
      "FireplaceQu_Po          -0.0415      0.027     -1.528      0.127      -0.095       0.012\n",
      "FireplaceQu_TA          -0.0486      0.021     -2.325      0.020      -0.090      -0.008\n",
      "Neighborhood_Blueste     0.0464      0.041      1.125      0.261      -0.034       0.127\n",
      "Neighborhood_BrDale      0.0005      0.031      0.015      0.988      -0.060       0.061\n",
      "Neighborhood_BrkSide     0.0024      0.022      0.108      0.914      -0.041       0.045\n",
      "Neighborhood_ClearCr     0.1153      0.027      4.203      0.000       0.062       0.169\n",
      "Neighborhood_CollgCr     0.0401      0.025      1.625      0.104      -0.008       0.088\n",
      "Neighborhood_Crawfor     0.1163      0.023      5.130      0.000       0.072       0.161\n",
      "Neighborhood_Edwards    -0.0330      0.021     -1.549      0.121      -0.075       0.009\n",
      "Neighborhood_Gilbert    -0.0212      0.028     -0.767      0.443      -0.075       0.033\n",
      "Neighborhood_Greens      0.1024      0.044      2.329      0.020       0.016       0.189\n",
      "Neighborhood_IDOTRR     -0.0758      0.022     -3.413      0.001      -0.119      -0.032\n",
      "Neighborhood_MeadowV    -0.0713      0.031     -2.336      0.020      -0.131      -0.011\n",
      "Neighborhood_Mitchel     0.0252      0.025      1.021      0.307      -0.023       0.074\n",
      "Neighborhood_NAmes      -0.0040      0.020     -0.200      0.842      -0.043       0.035\n",
      "Neighborhood_NPkVill     0.0467      0.031      1.502      0.133      -0.014       0.108\n",
      "Neighborhood_NWAmes     -0.0171      0.023     -0.744      0.457      -0.062       0.028\n",
      "Neighborhood_NoRidge     0.1725      0.027      6.301      0.000       0.119       0.226\n",
      "Neighborhood_NridgHt     0.1022      0.027      3.749      0.000       0.049       0.156\n",
      "Neighborhood_OldTown    -0.0578      0.019     -3.000      0.003      -0.096      -0.020\n",
      "Neighborhood_SWISU      -0.0409      0.025     -1.623      0.105      -0.090       0.009\n",
      "Neighborhood_Sawyer      0.0048      0.022      0.218      0.827      -0.038       0.048\n",
      "Neighborhood_SawyerW     0.0058      0.025      0.231      0.817      -0.043       0.055\n",
      "Neighborhood_Somerst     0.1195      0.026      4.650      0.000       0.069       0.170\n",
      "Neighborhood_StoneBr     0.1566      0.030      5.222      0.000       0.098       0.215\n",
      "Neighborhood_Timber      0.0774      0.028      2.791      0.005       0.023       0.132\n",
      "Neighborhood_Veenker     0.0471      0.031      1.500      0.134      -0.014       0.109\n",
      "MSSubClass_150          -0.3867      0.118     -3.275      0.001      -0.618      -0.155\n",
      "MSSubClass_160          -0.1841      0.018    -10.301      0.000      -0.219      -0.149\n",
      "MSSubClass_180          -0.0142      0.035     -0.407      0.684      -0.083       0.054\n",
      "MSSubClass_190           0.0457      0.023      1.957      0.050   -9.16e-05       0.092\n",
      "MSSubClass_20            0.0890      0.012      7.250      0.000       0.065       0.113\n",
      "MSSubClass_30            0.0641      0.019      3.386      0.001       0.027       0.101\n",
      "MSSubClass_40            0.0244      0.048      0.503      0.615      -0.071       0.119\n",
      "MSSubClass_45            0.0832      0.031      2.641      0.008       0.021       0.145\n",
      "MSSubClass_50            0.0190      0.017      1.116      0.265      -0.014       0.052\n",
      "MSSubClass_60           -0.0168      0.014     -1.197      0.231      -0.044       0.011\n",
      "MSSubClass_70            0.0234      0.021      1.119      0.263      -0.018       0.064\n",
      "MSSubClass_75            0.0615      0.032      1.939      0.053      -0.001       0.124\n",
      "MSSubClass_80            0.0406      0.017      2.441      0.015       0.008       0.073\n",
      "MSSubClass_85            0.1161      0.021      5.420      0.000       0.074       0.158\n",
      "MSSubClass_90            0.0618      0.025      2.477      0.013       0.013       0.111\n",
      "TxD_S_45                 0.0472      0.034      1.400      0.162      -0.019       0.113\n",
      "==============================================================================\n",
      "Omnibus:                     1106.544   Durbin-Watson:                   1.970\n",
      "Prob(Omnibus):                  0.000   Jarque-Bera (JB):            28837.710\n",
      "Skew:                          -1.471   Prob(JB):                         0.00\n",
      "Kurtosis:                      19.184   Cond. No.                     2.74e+15\n",
      "==============================================================================\n",
      "\n",
      "Warnings:\n",
      "[1] Standard Errors assume that the covariance matrix of the errors is correctly specified.\n",
      "[2] The smallest eigenvalue is 1.43e-21. This might indicate that there are\n",
      "strong multicollinearity problems or that the design matrix is singular.\n"
     ]
    },
    {
     "data": {
      "text/plain": [
       "YearBuilt                1.640017e-44\n",
       "GrLivArea               9.338704e-226\n",
       "OverallQual              1.015881e-65\n",
       "OverallCond              4.982948e-97\n",
       "TtlBsmtSF                4.125374e-52\n",
       "BsmtUnfSF                1.665407e-31\n",
       "GarageArea               9.468491e-18\n",
       "KitchenAbvGr             6.422256e-06\n",
       "BedroomAbvGr             1.567246e-05\n",
       "Fireplaces               1.468775e-07\n",
       "GarageQual_Fa            1.406765e-02\n",
       "GarageQual_None          2.369733e-02\n",
       "GarageQual_Po            1.419613e-03\n",
       "GarageQual_TA            1.893787e-02\n",
       "KitchenQual_Fa           2.844699e-09\n",
       "KitchenQual_Gd           4.986836e-14\n",
       "KitchenQual_TA           1.264190e-17\n",
       "FireplaceQu_TA           2.016512e-02\n",
       "Neighborhood_ClearCr     2.729804e-05\n",
       "Neighborhood_Crawfor     3.119073e-07\n",
       "Neighborhood_Greens      1.994292e-02\n",
       "Neighborhood_IDOTRR      6.533642e-04\n",
       "Neighborhood_MeadowV     1.957688e-02\n",
       "Neighborhood_NoRidge     3.489850e-10\n",
       "Neighborhood_NridgHt     1.815439e-04\n",
       "Neighborhood_OldTown     2.725094e-03\n",
       "Neighborhood_Somerst     3.489915e-06\n",
       "Neighborhood_StoneBr     1.917382e-07\n",
       "Neighborhood_Timber      5.299003e-03\n",
       "MSSubClass_150           1.070511e-03\n",
       "MSSubClass_160           2.125791e-24\n",
       "MSSubClass_20            5.534146e-13\n",
       "MSSubClass_30            7.205426e-04\n",
       "MSSubClass_45            8.318795e-03\n",
       "MSSubClass_80            1.471644e-02\n",
       "MSSubClass_85            6.515654e-08\n",
       "MSSubClass_90            1.329911e-02\n",
       "dtype: float64"
      ]
     },
     "execution_count": 258,
     "metadata": {},
     "output_type": "execute_result"
    }
   ],
   "source": [
    "lin_reg = LinearRegression(normalize = True).fit(X_full_dum, y_full)\n",
    "lin_reg.score(X_full_dum, y_full)\n",
    "\n",
    "x_feature = sm.add_constant(X_full_dum)\n",
    "\n",
    "model = sm.OLS(y_full, x_feature)\n",
    "results_feature = model.fit()\n",
    "print(results_feature.summary())\n",
    "pValue = results_feature.pvalues\n",
    "pValue[pValue<0.05]"
   ]
  },
  {
   "cell_type": "code",
   "execution_count": 259,
   "metadata": {},
   "outputs": [
    {
     "name": "stdout",
     "output_type": "stream",
     "text": [
      "Index(['GrLivArea', 'SalePrice', 'Distance', 'MSSubClass', 'MSZoning',\n",
      "       'LotFrontage', 'LotArea', 'Alley', 'LotShape', 'LandContour',\n",
      "       'LotConfig', 'LandSlope', 'Neighborhood', 'Condition1', 'Condition2',\n",
      "       'BldgType', 'HouseStyle', 'OverallQual', 'OverallCond', 'YearBuilt',\n",
      "       'YearRemodAdd', 'RoofStyle', 'RoofMatl', 'Exterior1st', 'Exterior2nd',\n",
      "       'ExterQual', 'ExterCond', 'Foundation', 'BsmtQual', 'BsmtCond',\n",
      "       'BsmtExposure', 'BsmtFinSF1', 'BsmtFinSF2', 'BsmtUnfSF', 'HeatingQC',\n",
      "       'CentralAir', 'Electrical', 'BedroomAbvGr', 'KitchenAbvGr',\n",
      "       'KitchenQual', 'TotRmsAbvGrd', 'Functional', 'Fireplaces',\n",
      "       'FireplaceQu', 'GarageType', 'GarageFinish', 'GarageCars', 'GarageArea',\n",
      "       'GarageQual', 'GarageCond', 'PavedDrive', 'WoodDeckSF', 'OpenPorchSF',\n",
      "       'EnclosedPorch', '3SsnPorch', 'ScreenPorch', 'Fence', 'MoSold',\n",
      "       'YrSold', 'SaleCondition', 'MasVnrArea2', 'BasmtFinSF1', 'BasmtFinSF2',\n",
      "       'total_LivArea', 'num_bathroom', 'TxD_S'],\n",
      "      dtype='object')\n",
      "has null: Index(['BsmtExposure', 'Electrical'], dtype='object')\n"
     ]
    }
   ],
   "source": [
    "# remove unnecessary columns\n",
    "ames_df_use = ames_df_use.drop(\n",
    "    ['PA-PreD','PA-PostD','PA-UnTyp','PA-UntNo','X1TPr_D','X1TSc_D','Rcrd_Mo','Legal_Pr','SchD_S',\\\n",
    "    'X2TPr_D','X2TSc_D','X1TPr_S','X1TSc_S','X2TPr_S','X2TSc_S','ISU_lat_long','address','MA_Ownr1','MA_Ownr2',\\\n",
    "    'MA_Line1','MA_Line2','MA_City','MA_State','address3','location2','point2','SaleCond','Source','Date',\\\n",
    "    'ParType','BldgNo_S','DwlgNo_S','YrBuilt','Ext1','Ext2','GLA','GarYrBlt','Cars','MA_Zip1','MA_Zip2',\\\n",
    "    'ZngCdPr','ZngCdSc','ZngOLPr','ZngOLSc','PA-Nmbr','PA-Strt','PA-StSfx','Inst1_No','Inst1_Yr','Inst1_Mo',\\\n",
    "    'Inst1TPr','TtlVal_AsrYr','ValType','OthAc_S','ImpAc_S','LndAc_S','Prop_Addr','HSTtl_D','MilVal_D',\\\n",
    "    'HSTtl_S','MilVal_S','GeoRefNo','Tier','Range','AcreX_S1','ClassPr_S','ClassSc_S','LndAcX1S','ImpAcX1S',\\\n",
    "    'Central Air','ImpAcX2S','AcreGr','AcreNt_S','ParclRel','Rcrd_Yr','address2','SaleType',\\\n",
    "    'latitude2','longitude2','ISU_lat','ISU_long','altitude2','Central Air',\\\n",
    "\n",
    "    'index','MiscVal','YrSold_YYYY','MoSold_MM','PoolArea','PoolQC','MiscFeature','Street','PID','Utilities',\\\n",
    "    'BsmtHalfBath2','FullBath','HalfBath','TtlBsmtSF','HalfBath2','BsmtFullBath','BsmtHalfBath',\\\n",
    "    'BsmtFinType1','BsmtFinType2','LowQualFinSF',\\\n",
    "    '1stFlrSF','2ndFlrSF','MasVnrType','MasVnrArea','GarageArea2','PoolArea2','NmbrBRs',\\\n",
    "    'TotalBsmtSF','GarageYrBlt','BasmtFinSF','Heating'],\\\n",
    "    axis=1)\n",
    "\n",
    "print(ames_df_use.columns)\n",
    "print(f'has null: {ames_df_use.columns[ames_df_use.isnull().sum() > 0]}')"
   ]
  },
  {
   "cell_type": "markdown",
   "metadata": {},
   "source": [
    "#### feature engineering"
   ]
  },
  {
   "cell_type": "code",
   "execution_count": 260,
   "metadata": {},
   "outputs": [],
   "source": [
    "def feature_eng(df):\n",
    "    # num_bathroom = adding up all the bathroom variables\n",
    "    \n",
    "    # calculate age of building\n",
    "    df['BldgAge'] = df['YrSold'] - df['YearBuilt']\n",
    "    #effectiveage: df['BldgAge'] = df['YearBuilt'] - df['YearRemodAdd']\n",
    "    \n",
    "    # adding up BsmtFinSF 1 and 2\n",
    "    df['BsmtTtlFinSF'] = df['BsmtFinSF1'] + df['BsmtFinSF2']\n",
    "    \n",
    "    # binarize YearRemodAdd\n",
    "    df['Remodeled'] = np.where(df['YearRemodAdd'] == df['YearBuilt'], 0, 1)\n",
    "\n",
    "    # binarize MSSubClass to PUD or not PUD\n",
    "    df['IsPUD'] = np.where(df['MSSubClass'].isin(['120','150','160','180']), 1, 0)\n",
    "    \n",
    "    # binarize Condition1/2 to positive feature or no positive feature\n",
    "    df['PosFeat'] = np.where(df['Condition1'].isin(['PosN','PosA'])|df['Condition2'].isin(['PosN','PosA']), 1, 0)\n",
    "    \n",
    "    # combine exterior material 1/2 to one column\n",
    "    df['ExtMatl'] = np.where((df['Exterior1st']==df['Exterior2nd']),df['Exterior1st'], 'Mixed')\n",
    "    \n",
    "    # simply qual/cond features\n",
    "    for col in ['ExterQual','BsmtQual','KitchenQual','FireplaceQu','GarageQual','ExterCond',\\\n",
    "                'BsmtCond','GarageCond','HeatingQC']:\n",
    "        df[col+'_num'] = df[col].replace(['Ex','Gd','TA','Fa','Po','None'],[10,8,6,4,2,0])\n",
    "\n",
    "    # sum up porch/housefront area\n",
    "    df['TotalPorchSF'] = df['OpenPorchSF'] + df['3SsnPorch'] + df['EnclosedPorch'] +\\\n",
    "                                df['ScreenPorch'] + df['WoodDeckSF']\n",
    "    \n",
    "    # binarize fences to having a fence or not having a fence\n",
    "    df['HasFence'] = np.where(df['Fence']=='None', 0, 1)\n",
    "\n",
    "    # simplify Functional to 3 classes\n",
    "    df['Funct_3'] = df['Functional'].replace(['Maj1', 'Maj2', 'Min1', 'Min2', 'Mod', 'Sal', 'Typ'],\\\n",
    "                                             ['ModToSev','ModToSev','Minor','Minor','ModToSev','ModToSev','Normal'])\n",
    "    \n",
    "    # assign a direction for each neighborhood\n",
    "    df['Direction'] = df['Neighborhood'].replace(['Blmngtn','Blueste','BrDale','BrkSide','ClearCr','CollgCr','Crawfor',\\\n",
    "                                                  'Edwards','Gilbert','Greens','IDOTRR','MeadowV','Mitchel','NAmes',\\\n",
    "                                                  'NPkVill','NWAmes','NoRidge','NridgHt','OldTown','SWISU','Sawyer',\\\n",
    "                                                  'SawyerW','Somerst','StoneBr','Timber','Veenker'],\\\n",
    "                                                 ['N','S','N','E','N','W','S','W','N','S','W','S','S','N','N','N','N',\\\n",
    "                                                 'N','E','S','W','W','N','N','S','N'])\n",
    "    \n",
    "    # drop the original columns or unused columns\n",
    "    df = df.drop(['MSSubClass','YearBuilt','YearRemodAdd','LotFrontage','LotArea','LotConfig','LandSlope',\\\n",
    "                  'Condition1','Condition2','Exterior1st','Exterior2nd','LotShape','LandContour',\\\n",
    "                  'OpenPorchSF','3SsnPorch','EnclosedPorch','ScreenPorch','WoodDeckSF',\\\n",
    "                  'Fence','Functional','ExterQual','BsmtQual','KitchenQual','FireplaceQu',\\\n",
    "                  'GarageQual','ExterCond','BsmtCond','GarageCond','HeatingQC','MSZoning',\\\n",
    "                  'GarageCars','RoofStyle','RoofMatl','KitchenAbvGr','Functional','Neighborhood',\\\n",
    "                  'BsmtFinSF1', 'BsmtFinSF2','BasmtFinSF1', 'BasmtFinSF2','BedroomAbvGr',\\\n",
    "                 'total_LivArea','Alley','MoSold','YrSold'],\\\n",
    "                 axis = 1)\n",
    "#     df = df.drop(['MSSubClass','YearBuilt','YearRemodAdd','LotFrontage','LotArea','LotConfig','LandSlope',\\\n",
    "#                   'Condition1','Condition2','Exterior1st','Exterior2nd','LotShape','LandContour',\\\n",
    "#                   'OpenPorchSF','3SsnPorch','EnclosedPorch','ScreenPorch','WoodDeckSF',\\\n",
    "#                   'Fence','Functional','ExterQual','BsmtQual','KitchenQual','FireplaceQu',\\\n",
    "#                   'GarageQual','ExterCond','BsmtCond','GarageCond','HeatingQC',\\\n",
    "#                   'GarageCars','RoofStyle','RoofMatl','KitchenAbvGr'],\\\n",
    "    #,'ExterQual_num','ExterCond_num'\n",
    "    return df"
   ]
  },
  {
   "cell_type": "code",
   "execution_count": 261,
   "metadata": {},
   "outputs": [],
   "source": [
    "ames_df_eng = feature_eng(ames_df_use)"
   ]
  },
  {
   "cell_type": "code",
   "execution_count": 262,
   "metadata": {
    "scrolled": true
   },
   "outputs": [
    {
     "data": {
      "text/plain": [
       "Index(['GrLivArea', 'SalePrice', 'Distance', 'BldgType', 'HouseStyle',\n",
       "       'OverallQual', 'OverallCond', 'Foundation', 'BsmtExposure', 'BsmtUnfSF',\n",
       "       'CentralAir', 'Electrical', 'TotRmsAbvGrd', 'Fireplaces', 'GarageType',\n",
       "       'GarageFinish', 'GarageArea', 'PavedDrive', 'SaleCondition',\n",
       "       'MasVnrArea2', 'num_bathroom', 'TxD_S', 'BldgAge', 'BsmtTtlFinSF',\n",
       "       'Remodeled', 'IsPUD', 'PosFeat', 'ExtMatl', 'ExterQual_num',\n",
       "       'BsmtQual_num', 'KitchenQual_num', 'FireplaceQu_num', 'GarageQual_num',\n",
       "       'ExterCond_num', 'BsmtCond_num', 'GarageCond_num', 'HeatingQC_num',\n",
       "       'TotalPorchSF', 'HasFence', 'Funct_3', 'Direction'],\n",
       "      dtype='object')"
      ]
     },
     "execution_count": 262,
     "metadata": {},
     "output_type": "execute_result"
    }
   ],
   "source": [
    "ames_df_eng.columns"
   ]
  },
  {
   "cell_type": "markdown",
   "metadata": {},
   "source": [
    "#### dummification and log transformation"
   ]
  },
  {
   "cell_type": "code",
   "execution_count": 263,
   "metadata": {},
   "outputs": [
    {
     "name": "stdout",
     "output_type": "stream",
     "text": [
      "(2558, 84)\n",
      "(2558, 84)\n"
     ]
    }
   ],
   "source": [
    "# dummify the dataset\n",
    "ames_df_dum = pd.get_dummies(ames_df_eng, drop_first=True)\n",
    "print(ames_df_dum.shape)\n",
    "print(ames_df_dum.shape)\n",
    "\n",
    "# apply log()\n",
    "ames_df_dum['SalePrice'] = np.log(ames_df_dum['SalePrice'])\n",
    "ames_df_dum['GrLivArea'] = np.log(ames_df_dum['GrLivArea'])\n",
    "ames_df_dum['BsmtUnfSF'] = np.log(ames_df_dum['BsmtUnfSF']+1)\n",
    "ames_df_dum['BsmtTtlFinSF'] = np.log(ames_df_dum['BsmtTtlFinSF']+1)\n",
    "# ames_df_dum['total_LivArea'] = np.log(ames_df_dum['total_LivArea'])\n",
    "# ames_df_dum['Distance'] = np.log(X_train_dum['Distance'])\n",
    "ames_df_dum['TotalPorchSF'] = np.log(ames_df_dum['TotalPorchSF']+1)"
   ]
  },
  {
   "cell_type": "markdown",
   "metadata": {},
   "source": [
    "#### test-train split"
   ]
  },
  {
   "cell_type": "code",
   "execution_count": 264,
   "metadata": {},
   "outputs": [
    {
     "name": "stdout",
     "output_type": "stream",
     "text": [
      "(2046, 83)\n",
      "(512, 83)\n",
      "(2046,)\n",
      "(512,)\n"
     ]
    }
   ],
   "source": [
    "features = ames_df_dum.drop('SalePrice', axis = 1)\n",
    "target = ames_df_dum['SalePrice']\n",
    "\n",
    "X_train, X_test, y_train, y_test = train_test_split(features, target, test_size=0.2)\n",
    "\n",
    "print(X_train.shape)\n",
    "print(X_test.shape)\n",
    "print(y_train.shape)\n",
    "print(y_test.shape)"
   ]
  },
  {
   "cell_type": "markdown",
   "metadata": {},
   "source": [
    "#### linear regression, p-values, and VIFs"
   ]
  },
  {
   "cell_type": "code",
   "execution_count": 265,
   "metadata": {
    "scrolled": false
   },
   "outputs": [
    {
     "data": {
      "text/plain": [
       "0.9168072510551726"
      ]
     },
     "execution_count": 265,
     "metadata": {},
     "output_type": "execute_result"
    },
    {
     "name": "stdout",
     "output_type": "stream",
     "text": [
      "                            OLS Regression Results                            \n",
      "==============================================================================\n",
      "Dep. Variable:              SalePrice   R-squared:                       0.917\n",
      "Model:                            OLS   Adj. R-squared:                  0.913\n",
      "Method:                 Least Squares   F-statistic:                     263.8\n",
      "Date:                Mon, 30 Nov 2020   Prob (F-statistic):               0.00\n",
      "Time:                        20:54:39   Log-Likelihood:                 1593.7\n",
      "No. Observations:                2046   AIC:                            -3021.\n",
      "Df Residuals:                    1963   BIC:                            -2555.\n",
      "Df Model:                          82                                         \n",
      "Covariance Type:            nonrobust                                         \n",
      "=========================================================================================\n",
      "                            coef    std err          t      P>|t|      [0.025      0.975]\n",
      "-----------------------------------------------------------------------------------------\n",
      "const                     6.8851      0.144     47.668      0.000       6.602       7.168\n",
      "GrLivArea                 0.5073      0.021     24.571      0.000       0.467       0.548\n",
      "Distance                 -0.0231      0.004     -6.516      0.000      -0.030      -0.016\n",
      "OverallQual               0.0571      0.004     15.699      0.000       0.050       0.064\n",
      "OverallCond               0.0489      0.003     15.871      0.000       0.043       0.055\n",
      "BsmtUnfSF                -0.0023      0.002     -1.175      0.240      -0.006       0.002\n",
      "TotRmsAbvGrd              0.0049      0.003      1.527      0.127      -0.001       0.011\n",
      "Fireplaces                0.0365      0.008      4.384      0.000       0.020       0.053\n",
      "GarageArea                0.0002   1.98e-05      8.825      0.000       0.000       0.000\n",
      "MasVnrArea2               0.0014      0.006      0.216      0.829      -0.011       0.014\n",
      "num_bathroom              0.0270      0.006      4.858      0.000       0.016       0.038\n",
      "BldgAge                  -0.0023      0.000     -9.222      0.000      -0.003      -0.002\n",
      "BsmtTtlFinSF              0.0092      0.001      7.623      0.000       0.007       0.012\n",
      "Remodeled                -0.0151      0.006     -2.345      0.019      -0.028      -0.002\n",
      "IsPUD                     0.0132      0.067      0.198      0.843      -0.118       0.144\n",
      "PosFeat                  -0.0064      0.018     -0.352      0.725      -0.042       0.029\n",
      "ExterQual_num             0.0131      0.004      3.270      0.001       0.005       0.021\n",
      "BsmtQual_num              0.0153      0.003      4.914      0.000       0.009       0.021\n",
      "KitchenQual_num           0.0152      0.003      4.879      0.000       0.009       0.021\n",
      "FireplaceQu_num          -0.0019      0.002     -1.243      0.214      -0.005       0.001\n",
      "GarageQual_num            0.0052      0.006      0.836      0.403      -0.007       0.017\n",
      "ExterCond_num            -0.0025      0.004     -0.640      0.522      -0.010       0.005\n",
      "BsmtCond_num              0.0045      0.004      1.146      0.252      -0.003       0.012\n",
      "GarageCond_num            0.0091      0.006      1.396      0.163      -0.004       0.022\n",
      "HeatingQC_num             0.0063      0.002      3.524      0.000       0.003       0.010\n",
      "TotalPorchSF              0.0035      0.001      2.434      0.015       0.001       0.006\n",
      "HasFence                  0.0032      0.007      0.465      0.642      -0.010       0.017\n",
      "BldgType_2fmCon          -0.0306      0.021     -1.466      0.143      -0.072       0.010\n",
      "BldgType_Duplex          -0.1219      0.018     -6.786      0.000      -0.157      -0.087\n",
      "BldgType_Twnhs           -0.1617      0.068     -2.367      0.018      -0.296      -0.028\n",
      "BldgType_TwnhsE          -0.0992      0.067     -1.478      0.140      -0.231       0.032\n",
      "HouseStyle_1.5Unf         0.1020      0.030      3.395      0.001       0.043       0.161\n",
      "HouseStyle_1Story         0.0778      0.011      7.086      0.000       0.056       0.099\n",
      "HouseStyle_2.5Fin        -0.0361      0.054     -0.672      0.501      -0.141       0.069\n",
      "HouseStyle_2.5Unf         0.0392      0.031      1.277      0.202      -0.021       0.099\n",
      "HouseStyle_2Story        -0.0239      0.011     -2.263      0.024      -0.045      -0.003\n",
      "HouseStyle_SFoyer         0.0741      0.022      3.388      0.001       0.031       0.117\n",
      "HouseStyle_SLvl           0.0084      0.017      0.507      0.612      -0.024       0.041\n",
      "Foundation_CBlock         0.0083      0.012      0.712      0.477      -0.015       0.031\n",
      "Foundation_PConc          0.0278      0.013      2.122      0.034       0.002       0.053\n",
      "Foundation_Slab           0.0244      0.032      0.757      0.449      -0.039       0.088\n",
      "Foundation_Stone          0.0726      0.043      1.704      0.089      -0.011       0.156\n",
      "Foundation_Wood          -0.0720      0.054     -1.323      0.186      -0.179       0.035\n",
      "BsmtExposure_Gd           0.0423      0.011      3.737      0.000       0.020       0.064\n",
      "BsmtExposure_Mn          -0.0477      0.012     -4.098      0.000      -0.071      -0.025\n",
      "BsmtExposure_No          -0.0445      0.009     -5.152      0.000      -0.061      -0.028\n",
      "CentralAir_Y              0.0310      0.013      2.314      0.021       0.005       0.057\n",
      "Electrical_FuseF         -0.0127      0.023     -0.566      0.572      -0.057       0.031\n",
      "Electrical_FuseP         -0.0033      0.054     -0.061      0.951      -0.109       0.103\n",
      "Electrical_SBrkr         -0.0160      0.011     -1.398      0.162      -0.038       0.006\n",
      "GarageType_Attchd         0.0282      0.030      0.945      0.345      -0.030       0.087\n",
      "GarageType_Basment       -0.0177      0.040     -0.442      0.658      -0.096       0.061\n",
      "GarageType_BuiltIn        0.0044      0.032      0.136      0.892      -0.058       0.067\n",
      "GarageType_CarPort       -0.0028      0.056     -0.051      0.959      -0.112       0.106\n",
      "GarageType_Detchd         0.0233      0.030      0.783      0.433      -0.035       0.082\n",
      "GarageType_None           0.1251      0.124      1.006      0.314      -0.119       0.369\n",
      "GarageFinish_None        -0.0103      0.127     -0.081      0.936      -0.259       0.239\n",
      "GarageFinish_RFn         -0.0059      0.007     -0.794      0.427      -0.020       0.009\n",
      "GarageFinish_Unf          0.0092      0.009      1.019      0.308      -0.009       0.027\n",
      "PavedDrive_P              0.0084      0.019      0.432      0.666      -0.030       0.046\n",
      "PavedDrive_Y              0.0210      0.013      1.679      0.093      -0.004       0.046\n",
      "SaleCondition_AdjLand -7.591e-17   9.28e-17     -0.818      0.413   -2.58e-16    1.06e-16\n",
      "SaleCondition_Alloca      0.1037      0.118      0.877      0.380      -0.128       0.336\n",
      "SaleCondition_Family     -0.0157      0.036     -0.432      0.666      -0.087       0.056\n",
      "SaleCondition_Normal      0.0858      0.017      4.974      0.000       0.052       0.120\n",
      "SaleCondition_Partial     0.1221      0.023      5.342      0.000       0.077       0.167\n",
      "TxD_S_45                  0.0361      0.010      3.477      0.001       0.016       0.057\n",
      "ExtMatl_AsphShn           0.0977      0.087      1.127      0.260      -0.072       0.268\n",
      "ExtMatl_BrkFace           0.1406      0.032      4.453      0.000       0.079       0.202\n",
      "ExtMatl_CBlock            0.0351      0.118      0.298      0.766      -0.196       0.266\n",
      "ExtMatl_HdBoard           0.0931      0.026      3.558      0.000       0.042       0.144\n",
      "ExtMatl_ImStucc           0.1106      0.117      0.946      0.344      -0.119       0.340\n",
      "ExtMatl_MetalSd           0.1111      0.026      4.316      0.000       0.061       0.162\n",
      "ExtMatl_Mixed             0.1073      0.026      4.141      0.000       0.056       0.158\n",
      "ExtMatl_Plywood           0.0928      0.027      3.394      0.001       0.039       0.146\n",
      "ExtMatl_PreCast           0.5237      0.119      4.417      0.000       0.291       0.756\n",
      "ExtMatl_Stucco            0.1096      0.035      3.088      0.002       0.040       0.179\n",
      "ExtMatl_VinylSd           0.1096      0.026      4.234      0.000       0.059       0.160\n",
      "ExtMatl_Wd Sdng           0.0969      0.026      3.767      0.000       0.046       0.147\n",
      "Funct_3_ModToSev         -0.0207      0.022     -0.964      0.335      -0.063       0.021\n",
      "Funct_3_Normal            0.0395      0.013      3.099      0.002       0.015       0.064\n",
      "Direction_N               0.0265      0.012      2.234      0.026       0.003       0.050\n",
      "Direction_S               0.0414      0.012      3.386      0.001       0.017       0.065\n",
      "Direction_W              -0.0120      0.012     -1.038      0.299      -0.035       0.011\n",
      "==============================================================================\n",
      "Omnibus:                     1010.764   Durbin-Watson:                   1.981\n",
      "Prob(Omnibus):                  0.000   Jarque-Bera (JB):            33713.338\n",
      "Skew:                          -1.692   Prob(JB):                         0.00\n",
      "Kurtosis:                      22.596   Cond. No.                     1.09e+16\n",
      "==============================================================================\n",
      "\n",
      "Warnings:\n",
      "[1] Standard Errors assume that the covariance matrix of the errors is correctly specified.\n",
      "[2] The smallest eigenvalue is 4.48e-24. This might indicate that there are\n",
      "strong multicollinearity problems or that the design matrix is singular.\n"
     ]
    },
    {
     "data": {
      "text/plain": [
       "const                     0.000000e+00\n",
       "GrLivArea                1.846055e-116\n",
       "Distance                  9.164807e-11\n",
       "OverallQual               2.075130e-52\n",
       "OverallCond               1.839280e-53\n",
       "Fireplaces                1.227234e-05\n",
       "GarageArea                2.369191e-18\n",
       "num_bathroom              1.282327e-06\n",
       "BldgAge                   7.290454e-20\n",
       "BsmtTtlFinSF              3.819523e-14\n",
       "Remodeled                 1.912591e-02\n",
       "ExterQual_num             1.094350e-03\n",
       "BsmtQual_num              9.643604e-07\n",
       "KitchenQual_num           1.150365e-06\n",
       "HeatingQC_num             4.341507e-04\n",
       "TotalPorchSF              1.502765e-02\n",
       "BldgType_Duplex           1.526434e-11\n",
       "BldgType_Twnhs            1.800779e-02\n",
       "HouseStyle_1.5Unf         6.991112e-04\n",
       "HouseStyle_1Story         1.912052e-12\n",
       "HouseStyle_2Story         2.376466e-02\n",
       "HouseStyle_SFoyer         7.176247e-04\n",
       "Foundation_PConc          3.392929e-02\n",
       "BsmtExposure_Gd           1.913596e-04\n",
       "BsmtExposure_Mn           4.339350e-05\n",
       "BsmtExposure_No           2.836915e-07\n",
       "CentralAir_Y              2.077832e-02\n",
       "SaleCondition_Normal      7.115470e-07\n",
       "SaleCondition_Partial     1.026126e-07\n",
       "TxD_S_45                  5.186566e-04\n",
       "ExtMatl_BrkFace           8.933182e-06\n",
       "ExtMatl_HdBoard           3.829064e-04\n",
       "ExtMatl_MetalSd           1.669473e-05\n",
       "ExtMatl_Mixed             3.605990e-05\n",
       "ExtMatl_Plywood           7.024378e-04\n",
       "ExtMatl_PreCast           1.057166e-05\n",
       "ExtMatl_Stucco            2.045744e-03\n",
       "ExtMatl_VinylSd           2.405993e-05\n",
       "ExtMatl_Wd Sdng           1.702235e-04\n",
       "Funct_3_Normal            1.969572e-03\n",
       "Direction_N               2.559730e-02\n",
       "Direction_S               7.229048e-04\n",
       "dtype: float64"
      ]
     },
     "execution_count": 265,
     "metadata": {},
     "output_type": "execute_result"
    },
    {
     "name": "stdout",
     "output_type": "stream",
     "text": [
      "                  feature         VIF\n",
      "0               GrLivArea  298.484037\n",
      "1                Distance   16.025057\n",
      "2             OverallQual   70.582935\n",
      "3             OverallCond   40.597790\n",
      "4              Fireplaces    2.809241\n",
      "5              GarageArea   10.299096\n",
      "6            num_bathroom   23.029594\n",
      "7                 BldgAge   13.242638\n",
      "8            BsmtTtlFinSF    5.135345\n",
      "9               Remodeled    2.873469\n",
      "10          ExterQual_num  110.280083\n",
      "11           BsmtQual_num   42.316412\n",
      "12        KitchenQual_num   75.386694\n",
      "13          HeatingQC_num   35.013638\n",
      "14           TotalPorchSF    7.114611\n",
      "15        BldgType_Duplex    1.382368\n",
      "16         BldgType_Twnhs    1.177987\n",
      "17      HouseStyle_1.5Unf    1.078427\n",
      "18      HouseStyle_1Story    4.961935\n",
      "19      HouseStyle_2Story    3.664722\n",
      "20      HouseStyle_SFoyer    1.426759\n",
      "21       Foundation_PConc    4.815561\n",
      "22        BsmtExposure_Gd    1.834909\n",
      "23        BsmtExposure_Mn    1.796025\n",
      "24        BsmtExposure_No    6.976635\n",
      "25           CentralAir_Y   22.032070\n",
      "26   SaleCondition_Normal   32.996875\n",
      "27  SaleCondition_Partial    2.222845\n",
      "28               TxD_S_45    1.912469\n",
      "29        ExtMatl_BrkFace    2.540982\n",
      "30        ExtMatl_HdBoard   12.221693\n",
      "31        ExtMatl_MetalSd   12.643377\n",
      "32          ExtMatl_Mixed   13.179298\n",
      "33        ExtMatl_Plywood    6.042621\n",
      "34        ExtMatl_PreCast    1.068640\n",
      "35         ExtMatl_Stucco    1.828082\n",
      "36        ExtMatl_VinylSd   28.196612\n",
      "37        ExtMatl_Wd Sdng   10.761235\n",
      "38         Funct_3_Normal   16.578396\n",
      "39            Direction_N    3.339710\n",
      "40            Direction_S    1.618329\n"
     ]
    }
   ],
   "source": [
    "lin_reg = LinearRegression().fit(X_train, y_train)\n",
    "lin_reg.score(X_train, y_train)\n",
    "\n",
    "x_feature = sm.add_constant(X_train)\n",
    "\n",
    "model = sm.OLS(y_train, x_feature)\n",
    "results_feature = model.fit()\n",
    "print(results_feature.summary())\n",
    "pValue = results_feature.pvalues\n",
    "pValue[pValue<0.05]\n",
    "\n",
    "#X_vif = X_train_dum[pValue[pValue<0.05].index]\n",
    "X_vif = X_train[pValue[pValue<0.05].drop('const').index]\n",
    "vif_data = pd.DataFrame() \n",
    "vif_data[\"feature\"] = X_vif.columns\n",
    "vif_data[\"VIF\"] = [variance_inflation_factor(X_vif.values, i) \n",
    "                          for i in range(len(X_vif.columns))] \n",
    "print(vif_data)"
   ]
  },
  {
   "cell_type": "code",
   "execution_count": 266,
   "metadata": {},
   "outputs": [
    {
     "name": "stdout",
     "output_type": "stream",
     "text": [
      "Num of features: 83\n",
      "AIC: -3021.370803173573\n",
      "BIC: -2554.6085216131128\n",
      "train score: 0.9168072510551726\n",
      "test score: 0.9220260378715811\n"
     ]
    }
   ],
   "source": [
    "print(f'Num of features: {len(X_train.columns)}')\n",
    "print(f'AIC: {results_feature.aic}')\n",
    "print(f'BIC: {results_feature.bic}')\n",
    "print(f'train score: {lin_reg.score(X_train, y_train)}')\n",
    "print(f'test score: {lin_reg.score(X_test, y_test)}')"
   ]
  },
  {
   "cell_type": "code",
   "execution_count": null,
   "metadata": {},
   "outputs": [],
   "source": []
  },
  {
   "cell_type": "code",
   "execution_count": 267,
   "metadata": {},
   "outputs": [],
   "source": [
    "sig_feat = pValue[pValue<0.05].index.drop('const')"
   ]
  },
  {
   "cell_type": "code",
   "execution_count": 268,
   "metadata": {},
   "outputs": [],
   "source": [
    "X_train2 = X_train[sig_feat]\n",
    "X_test2 = X_test[sig_feat]"
   ]
  },
  {
   "cell_type": "code",
   "execution_count": 269,
   "metadata": {
    "scrolled": false
   },
   "outputs": [
    {
     "data": {
      "text/plain": [
       "0.9115344426897539"
      ]
     },
     "execution_count": 269,
     "metadata": {},
     "output_type": "execute_result"
    },
    {
     "name": "stdout",
     "output_type": "stream",
     "text": [
      "                            OLS Regression Results                            \n",
      "==============================================================================\n",
      "Dep. Variable:              SalePrice   R-squared:                       0.912\n",
      "Model:                            OLS   Adj. R-squared:                  0.910\n",
      "Method:                 Least Squares   F-statistic:                     503.6\n",
      "Date:                Mon, 30 Nov 2020   Prob (F-statistic):               0.00\n",
      "Time:                        20:55:18   Log-Likelihood:                 1530.8\n",
      "No. Observations:                2046   AIC:                            -2978.\n",
      "Df Residuals:                    2004   BIC:                            -2741.\n",
      "Df Model:                          41                                         \n",
      "Covariance Type:            nonrobust                                         \n",
      "=========================================================================================\n",
      "                            coef    std err          t      P>|t|      [0.025      0.975]\n",
      "-----------------------------------------------------------------------------------------\n",
      "const                     6.7819      0.107     63.603      0.000       6.573       6.991\n",
      "GrLivArea                 0.5415      0.015     35.194      0.000       0.511       0.572\n",
      "Distance                 -0.0200      0.003     -5.962      0.000      -0.027      -0.013\n",
      "OverallQual               0.0564      0.004     15.721      0.000       0.049       0.063\n",
      "OverallCond               0.0522      0.003     18.198      0.000       0.047       0.058\n",
      "Fireplaces                0.0299      0.005      5.956      0.000       0.020       0.040\n",
      "GarageArea                0.0002   1.64e-05     11.599      0.000       0.000       0.000\n",
      "num_bathroom              0.0246      0.005      4.503      0.000       0.014       0.035\n",
      "BldgAge                  -0.0022      0.000    -11.114      0.000      -0.003      -0.002\n",
      "BsmtTtlFinSF              0.0104      0.001      9.472      0.000       0.008       0.013\n",
      "Remodeled                -0.0140      0.006     -2.191      0.029      -0.027      -0.001\n",
      "ExterQual_num             0.0095      0.004      2.406      0.016       0.002       0.017\n",
      "BsmtQual_num              0.0135      0.002      5.764      0.000       0.009       0.018\n",
      "KitchenQual_num           0.0144      0.003      4.578      0.000       0.008       0.021\n",
      "HeatingQC_num             0.0059      0.002      3.298      0.001       0.002       0.009\n",
      "TotalPorchSF              0.0026      0.001      1.790      0.074      -0.000       0.005\n",
      "BldgType_Duplex          -0.1066      0.017     -6.381      0.000      -0.139      -0.074\n",
      "BldgType_Twnhs           -0.1309      0.015     -8.778      0.000      -0.160      -0.102\n",
      "HouseStyle_1.5Unf         0.1058      0.030      3.585      0.000       0.048       0.164\n",
      "HouseStyle_1Story         0.0750      0.009      8.661      0.000       0.058       0.092\n",
      "HouseStyle_2Story        -0.0285      0.009     -3.212      0.001      -0.046      -0.011\n",
      "HouseStyle_SFoyer         0.0700      0.020      3.579      0.000       0.032       0.108\n",
      "Foundation_PConc          0.0157      0.009      1.836      0.067      -0.001       0.033\n",
      "BsmtExposure_Gd           0.0400      0.011      3.542      0.000       0.018       0.062\n",
      "BsmtExposure_Mn          -0.0515      0.012     -4.454      0.000      -0.074      -0.029\n",
      "BsmtExposure_No          -0.0442      0.008     -5.331      0.000      -0.060      -0.028\n",
      "CentralAir_Y              0.0354      0.012      2.842      0.005       0.011       0.060\n",
      "SaleCondition_Normal      0.0845      0.015      5.528      0.000       0.054       0.114\n",
      "SaleCondition_Partial     0.1238      0.022      5.729      0.000       0.081       0.166\n",
      "TxD_S_45                  0.0226      0.010      2.276      0.023       0.003       0.042\n",
      "ExtMatl_BrkFace           0.1351      0.030      4.485      0.000       0.076       0.194\n",
      "ExtMatl_HdBoard           0.0950      0.024      3.885      0.000       0.047       0.143\n",
      "ExtMatl_MetalSd           0.1014      0.024      4.219      0.000       0.054       0.148\n",
      "ExtMatl_Mixed             0.1009      0.024      4.168      0.000       0.053       0.148\n",
      "ExtMatl_Plywood           0.0857      0.026      3.327      0.001       0.035       0.136\n",
      "ExtMatl_PreCast           0.5146      0.120      4.303      0.000       0.280       0.749\n",
      "ExtMatl_Stucco            0.1041      0.034      3.021      0.003       0.037       0.172\n",
      "ExtMatl_VinylSd           0.1125      0.024      4.661      0.000       0.065       0.160\n",
      "ExtMatl_Wd Sdng           0.0942      0.024      3.917      0.000       0.047       0.141\n",
      "Funct_3_Normal            0.0511      0.011      4.601      0.000       0.029       0.073\n",
      "Direction_N               0.0357      0.007      5.186      0.000       0.022       0.049\n",
      "Direction_S               0.0413      0.009      4.657      0.000       0.024       0.059\n",
      "==============================================================================\n",
      "Omnibus:                     1010.069   Durbin-Watson:                   1.992\n",
      "Prob(Omnibus):                  0.000   Jarque-Bera (JB):            33173.443\n",
      "Skew:                          -1.695   Prob(JB):                         0.00\n",
      "Kurtosis:                      22.433   Cond. No.                     2.41e+04\n",
      "==============================================================================\n",
      "\n",
      "Warnings:\n",
      "[1] Standard Errors assume that the covariance matrix of the errors is correctly specified.\n",
      "[2] The condition number is large, 2.41e+04. This might indicate that there are\n",
      "strong multicollinearity or other numerical problems.\n"
     ]
    },
    {
     "data": {
      "text/plain": [
       "const                     0.000000e+00\n",
       "GrLivArea                1.105746e-211\n",
       "Distance                  2.935085e-09\n",
       "OverallQual               1.330314e-52\n",
       "OverallCond               1.322262e-68\n",
       "Fireplaces                3.052968e-09\n",
       "GarageArea                3.759839e-30\n",
       "num_bathroom              7.078829e-06\n",
       "BldgAge                   6.851615e-28\n",
       "BsmtTtlFinSF              7.406162e-21\n",
       "Remodeled                 2.853064e-02\n",
       "ExterQual_num             1.620654e-02\n",
       "BsmtQual_num              9.507711e-09\n",
       "KitchenQual_num           4.983658e-06\n",
       "HeatingQC_num             9.896317e-04\n",
       "BldgType_Duplex           2.179503e-10\n",
       "BldgType_Twnhs            3.490368e-18\n",
       "HouseStyle_1.5Unf         3.455591e-04\n",
       "HouseStyle_1Story         9.462515e-18\n",
       "HouseStyle_2Story         1.337532e-03\n",
       "HouseStyle_SFoyer         3.527103e-04\n",
       "BsmtExposure_Gd           4.055178e-04\n",
       "BsmtExposure_Mn           8.874218e-06\n",
       "BsmtExposure_No           1.084120e-07\n",
       "CentralAir_Y              4.533229e-03\n",
       "SaleCondition_Normal      3.662213e-08\n",
       "SaleCondition_Partial     1.165416e-08\n",
       "TxD_S_45                  2.297127e-02\n",
       "ExtMatl_BrkFace           7.713452e-06\n",
       "ExtMatl_HdBoard           1.057935e-04\n",
       "ExtMatl_MetalSd           2.567229e-05\n",
       "ExtMatl_Mixed             3.210503e-05\n",
       "ExtMatl_Plywood           8.951539e-04\n",
       "ExtMatl_PreCast           1.767578e-05\n",
       "ExtMatl_Stucco            2.550326e-03\n",
       "ExtMatl_VinylSd           3.354295e-06\n",
       "ExtMatl_Wd Sdng           9.275472e-05\n",
       "Funct_3_Normal            4.474086e-06\n",
       "Direction_N               2.369904e-07\n",
       "Direction_S               3.417451e-06\n",
       "dtype: float64"
      ]
     },
     "execution_count": 269,
     "metadata": {},
     "output_type": "execute_result"
    }
   ],
   "source": [
    "lin_reg = LinearRegression().fit(X_train2, y_train)\n",
    "lin_reg.score(X_train2, y_train)\n",
    "\n",
    "x_feature = sm.add_constant(X_train2)\n",
    "model = sm.OLS(y_train, x_feature)\n",
    "results_feature = model.fit()\n",
    "print(results_feature.summary())\n",
    "pValue = results_feature.pvalues\n",
    "pValue[pValue<0.05]"
   ]
  },
  {
   "cell_type": "code",
   "execution_count": 270,
   "metadata": {},
   "outputs": [
    {
     "name": "stdout",
     "output_type": "stream",
     "text": [
      "Num of features: 41\n",
      "AIC: -2977.637757701563\n",
      "BIC: -2741.4447959480767\n",
      "train score: 0.9115344426897539\n",
      "test score: 0.9188429718714325\n"
     ]
    }
   ],
   "source": [
    "print(f'Num of features: {len(X_train2.columns)}')\n",
    "print(f'AIC: {results_feature.aic}')\n",
    "print(f'BIC: {results_feature.bic}')\n",
    "print(f'train score: {lin_reg.score(X_train2, y_train)}')\n",
    "print(f'test score: {lin_reg.score(X_test2, y_test)}')#### train and test error"
   ]
  },
  {
   "cell_type": "code",
   "execution_count": null,
   "metadata": {},
   "outputs": [],
   "source": []
  },
  {
   "cell_type": "code",
   "execution_count": null,
   "metadata": {},
   "outputs": [],
   "source": []
  },
  {
   "cell_type": "markdown",
   "metadata": {},
   "source": [
    "#### lasso (use the original features)"
   ]
  },
  {
   "cell_type": "code",
   "execution_count": 271,
   "metadata": {
    "scrolled": true
   },
   "outputs": [
    {
     "data": {
      "text/plain": [
       "LassoCV(alphas=None, copy_X=True, cv=None, eps=0.001, fit_intercept=True,\n",
       "        max_iter=10000, n_alphas=100, n_jobs=None, normalize=True,\n",
       "        positive=False, precompute='auto', random_state=None,\n",
       "        selection='cyclic', tol=0.0001, verbose=False)"
      ]
     },
     "execution_count": 271,
     "metadata": {},
     "output_type": "execute_result"
    },
    {
     "data": {
      "text/plain": [
       "3.230835817195771e-05"
      ]
     },
     "execution_count": 271,
     "metadata": {},
     "output_type": "execute_result"
    }
   ],
   "source": [
    "# best best fit alpha\n",
    "reg_lasso_cv = LassoCV(normalize = True, max_iter = 10000)\n",
    "reg_lasso_cv.fit(X_train, y_train)\n",
    "reg_lasso_cv.alpha_"
   ]
  },
  {
   "cell_type": "code",
   "execution_count": 276,
   "metadata": {
    "scrolled": false
   },
   "outputs": [
    {
     "data": {
      "text/plain": [
       "Lasso(alpha=3.230835817195771e-05, copy_X=True, fit_intercept=True,\n",
       "      max_iter=1000, normalize=True, positive=False, precompute=False,\n",
       "      random_state=None, selection='cyclic', tol=0.0001, warm_start=False)"
      ]
     },
     "execution_count": 276,
     "metadata": {},
     "output_type": "execute_result"
    },
    {
     "data": {
      "text/plain": [
       "Lasso(alpha=3.230835817195771e-05, copy_X=True, fit_intercept=True,\n",
       "      max_iter=1000, normalize=True, positive=False, precompute=False,\n",
       "      random_state=None, selection='cyclic', tol=0.0001, warm_start=False)"
      ]
     },
     "execution_count": 276,
     "metadata": {},
     "output_type": "execute_result"
    },
    {
     "name": "stdout",
     "output_type": "stream",
     "text": [
      "59 non-zero features\n"
     ]
    },
    {
     "data": {
      "text/html": [
       "<div>\n",
       "<style scoped>\n",
       "    .dataframe tbody tr th:only-of-type {\n",
       "        vertical-align: middle;\n",
       "    }\n",
       "\n",
       "    .dataframe tbody tr th {\n",
       "        vertical-align: top;\n",
       "    }\n",
       "\n",
       "    .dataframe thead th {\n",
       "        text-align: right;\n",
       "    }\n",
       "</style>\n",
       "<table border=\"1\" class=\"dataframe\">\n",
       "  <thead>\n",
       "    <tr style=\"text-align: right;\">\n",
       "      <th></th>\n",
       "      <th>feature</th>\n",
       "      <th>coef</th>\n",
       "    </tr>\n",
       "  </thead>\n",
       "  <tbody>\n",
       "    <tr>\n",
       "      <th>0</th>\n",
       "      <td>GrLivArea</td>\n",
       "      <td>0.493854</td>\n",
       "    </tr>\n",
       "    <tr>\n",
       "      <th>1</th>\n",
       "      <td>Distance</td>\n",
       "      <td>-0.017307</td>\n",
       "    </tr>\n",
       "    <tr>\n",
       "      <th>2</th>\n",
       "      <td>OverallQual</td>\n",
       "      <td>0.061690</td>\n",
       "    </tr>\n",
       "    <tr>\n",
       "      <th>3</th>\n",
       "      <td>OverallCond</td>\n",
       "      <td>0.047575</td>\n",
       "    </tr>\n",
       "    <tr>\n",
       "      <th>4</th>\n",
       "      <td>BsmtUnfSF</td>\n",
       "      <td>-0.000496</td>\n",
       "    </tr>\n",
       "    <tr>\n",
       "      <th>5</th>\n",
       "      <td>TotRmsAbvGrd</td>\n",
       "      <td>0.001859</td>\n",
       "    </tr>\n",
       "    <tr>\n",
       "      <th>6</th>\n",
       "      <td>Fireplaces</td>\n",
       "      <td>0.029912</td>\n",
       "    </tr>\n",
       "    <tr>\n",
       "      <th>7</th>\n",
       "      <td>GarageArea</td>\n",
       "      <td>0.000167</td>\n",
       "    </tr>\n",
       "    <tr>\n",
       "      <th>9</th>\n",
       "      <td>num_bathroom</td>\n",
       "      <td>0.025387</td>\n",
       "    </tr>\n",
       "    <tr>\n",
       "      <th>10</th>\n",
       "      <td>BldgAge</td>\n",
       "      <td>-0.002181</td>\n",
       "    </tr>\n",
       "    <tr>\n",
       "      <th>11</th>\n",
       "      <td>BsmtTtlFinSF</td>\n",
       "      <td>0.009780</td>\n",
       "    </tr>\n",
       "    <tr>\n",
       "      <th>12</th>\n",
       "      <td>Remodeled</td>\n",
       "      <td>-0.012464</td>\n",
       "    </tr>\n",
       "    <tr>\n",
       "      <th>13</th>\n",
       "      <td>IsPUD</td>\n",
       "      <td>-0.083338</td>\n",
       "    </tr>\n",
       "    <tr>\n",
       "      <th>15</th>\n",
       "      <td>ExterQual_num</td>\n",
       "      <td>0.013295</td>\n",
       "    </tr>\n",
       "    <tr>\n",
       "      <th>16</th>\n",
       "      <td>BsmtQual_num</td>\n",
       "      <td>0.014446</td>\n",
       "    </tr>\n",
       "    <tr>\n",
       "      <th>17</th>\n",
       "      <td>KitchenQual_num</td>\n",
       "      <td>0.015510</td>\n",
       "    </tr>\n",
       "    <tr>\n",
       "      <th>21</th>\n",
       "      <td>BsmtCond_num</td>\n",
       "      <td>0.000912</td>\n",
       "    </tr>\n",
       "    <tr>\n",
       "      <th>22</th>\n",
       "      <td>GarageCond_num</td>\n",
       "      <td>0.001462</td>\n",
       "    </tr>\n",
       "    <tr>\n",
       "      <th>23</th>\n",
       "      <td>HeatingQC_num</td>\n",
       "      <td>0.005955</td>\n",
       "    </tr>\n",
       "    <tr>\n",
       "      <th>24</th>\n",
       "      <td>TotalPorchSF</td>\n",
       "      <td>0.002715</td>\n",
       "    </tr>\n",
       "    <tr>\n",
       "      <th>26</th>\n",
       "      <td>BldgType_2fmCon</td>\n",
       "      <td>-0.009364</td>\n",
       "    </tr>\n",
       "    <tr>\n",
       "      <th>27</th>\n",
       "      <td>BldgType_Duplex</td>\n",
       "      <td>-0.090858</td>\n",
       "    </tr>\n",
       "    <tr>\n",
       "      <th>28</th>\n",
       "      <td>BldgType_Twnhs</td>\n",
       "      <td>-0.058266</td>\n",
       "    </tr>\n",
       "    <tr>\n",
       "      <th>30</th>\n",
       "      <td>HouseStyle_1.5Unf</td>\n",
       "      <td>0.066703</td>\n",
       "    </tr>\n",
       "    <tr>\n",
       "      <th>31</th>\n",
       "      <td>HouseStyle_1Story</td>\n",
       "      <td>0.067598</td>\n",
       "    </tr>\n",
       "    <tr>\n",
       "      <th>33</th>\n",
       "      <td>HouseStyle_2.5Unf</td>\n",
       "      <td>0.007587</td>\n",
       "    </tr>\n",
       "    <tr>\n",
       "      <th>34</th>\n",
       "      <td>HouseStyle_2Story</td>\n",
       "      <td>-0.024058</td>\n",
       "    </tr>\n",
       "    <tr>\n",
       "      <th>35</th>\n",
       "      <td>HouseStyle_SFoyer</td>\n",
       "      <td>0.054047</td>\n",
       "    </tr>\n",
       "    <tr>\n",
       "      <th>38</th>\n",
       "      <td>Foundation_PConc</td>\n",
       "      <td>0.018250</td>\n",
       "    </tr>\n",
       "    <tr>\n",
       "      <th>40</th>\n",
       "      <td>Foundation_Stone</td>\n",
       "      <td>0.022134</td>\n",
       "    </tr>\n",
       "    <tr>\n",
       "      <th>41</th>\n",
       "      <td>Foundation_Wood</td>\n",
       "      <td>-0.042142</td>\n",
       "    </tr>\n",
       "    <tr>\n",
       "      <th>42</th>\n",
       "      <td>BsmtExposure_Gd</td>\n",
       "      <td>0.044240</td>\n",
       "    </tr>\n",
       "    <tr>\n",
       "      <th>43</th>\n",
       "      <td>BsmtExposure_Mn</td>\n",
       "      <td>-0.038033</td>\n",
       "    </tr>\n",
       "    <tr>\n",
       "      <th>44</th>\n",
       "      <td>BsmtExposure_No</td>\n",
       "      <td>-0.038781</td>\n",
       "    </tr>\n",
       "    <tr>\n",
       "      <th>45</th>\n",
       "      <td>CentralAir_Y</td>\n",
       "      <td>0.039266</td>\n",
       "    </tr>\n",
       "    <tr>\n",
       "      <th>48</th>\n",
       "      <td>Electrical_SBrkr</td>\n",
       "      <td>-0.003518</td>\n",
       "    </tr>\n",
       "    <tr>\n",
       "      <th>49</th>\n",
       "      <td>GarageType_Attchd</td>\n",
       "      <td>0.007164</td>\n",
       "    </tr>\n",
       "    <tr>\n",
       "      <th>50</th>\n",
       "      <td>GarageType_Basment</td>\n",
       "      <td>-0.023359</td>\n",
       "    </tr>\n",
       "    <tr>\n",
       "      <th>51</th>\n",
       "      <td>GarageType_BuiltIn</td>\n",
       "      <td>-0.008065</td>\n",
       "    </tr>\n",
       "    <tr>\n",
       "      <th>52</th>\n",
       "      <td>GarageType_CarPort</td>\n",
       "      <td>-0.000172</td>\n",
       "    </tr>\n",
       "    <tr>\n",
       "      <th>56</th>\n",
       "      <td>GarageFinish_RFn</td>\n",
       "      <td>-0.004312</td>\n",
       "    </tr>\n",
       "    <tr>\n",
       "      <th>59</th>\n",
       "      <td>PavedDrive_Y</td>\n",
       "      <td>0.020352</td>\n",
       "    </tr>\n",
       "    <tr>\n",
       "      <th>61</th>\n",
       "      <td>SaleCondition_Alloca</td>\n",
       "      <td>0.021007</td>\n",
       "    </tr>\n",
       "    <tr>\n",
       "      <th>62</th>\n",
       "      <td>SaleCondition_Family</td>\n",
       "      <td>-0.020881</td>\n",
       "    </tr>\n",
       "    <tr>\n",
       "      <th>63</th>\n",
       "      <td>SaleCondition_Normal</td>\n",
       "      <td>0.069422</td>\n",
       "    </tr>\n",
       "    <tr>\n",
       "      <th>64</th>\n",
       "      <td>SaleCondition_Partial</td>\n",
       "      <td>0.101746</td>\n",
       "    </tr>\n",
       "    <tr>\n",
       "      <th>65</th>\n",
       "      <td>TxD_S_45</td>\n",
       "      <td>0.026274</td>\n",
       "    </tr>\n",
       "    <tr>\n",
       "      <th>67</th>\n",
       "      <td>ExtMatl_BrkFace</td>\n",
       "      <td>0.028951</td>\n",
       "    </tr>\n",
       "    <tr>\n",
       "      <th>68</th>\n",
       "      <td>ExtMatl_CBlock</td>\n",
       "      <td>-0.001478</td>\n",
       "    </tr>\n",
       "    <tr>\n",
       "      <th>69</th>\n",
       "      <td>ExtMatl_HdBoard</td>\n",
       "      <td>-0.000789</td>\n",
       "    </tr>\n",
       "    <tr>\n",
       "      <th>71</th>\n",
       "      <td>ExtMatl_MetalSd</td>\n",
       "      <td>0.008433</td>\n",
       "    </tr>\n",
       "    <tr>\n",
       "      <th>72</th>\n",
       "      <td>ExtMatl_Mixed</td>\n",
       "      <td>0.007068</td>\n",
       "    </tr>\n",
       "    <tr>\n",
       "      <th>74</th>\n",
       "      <td>ExtMatl_PreCast</td>\n",
       "      <td>0.378203</td>\n",
       "    </tr>\n",
       "    <tr>\n",
       "      <th>76</th>\n",
       "      <td>ExtMatl_VinylSd</td>\n",
       "      <td>0.006585</td>\n",
       "    </tr>\n",
       "    <tr>\n",
       "      <th>78</th>\n",
       "      <td>Funct_3_ModToSev</td>\n",
       "      <td>-0.019273</td>\n",
       "    </tr>\n",
       "    <tr>\n",
       "      <th>79</th>\n",
       "      <td>Funct_3_Normal</td>\n",
       "      <td>0.029990</td>\n",
       "    </tr>\n",
       "    <tr>\n",
       "      <th>80</th>\n",
       "      <td>Direction_N</td>\n",
       "      <td>0.027279</td>\n",
       "    </tr>\n",
       "    <tr>\n",
       "      <th>81</th>\n",
       "      <td>Direction_S</td>\n",
       "      <td>0.035888</td>\n",
       "    </tr>\n",
       "    <tr>\n",
       "      <th>82</th>\n",
       "      <td>Direction_W</td>\n",
       "      <td>-0.006260</td>\n",
       "    </tr>\n",
       "  </tbody>\n",
       "</table>\n",
       "</div>"
      ],
      "text/plain": [
       "                  feature      coef\n",
       "0               GrLivArea  0.493854\n",
       "1                Distance -0.017307\n",
       "2             OverallQual  0.061690\n",
       "3             OverallCond  0.047575\n",
       "4               BsmtUnfSF -0.000496\n",
       "5            TotRmsAbvGrd  0.001859\n",
       "6              Fireplaces  0.029912\n",
       "7              GarageArea  0.000167\n",
       "9            num_bathroom  0.025387\n",
       "10                BldgAge -0.002181\n",
       "11           BsmtTtlFinSF  0.009780\n",
       "12              Remodeled -0.012464\n",
       "13                  IsPUD -0.083338\n",
       "15          ExterQual_num  0.013295\n",
       "16           BsmtQual_num  0.014446\n",
       "17        KitchenQual_num  0.015510\n",
       "21           BsmtCond_num  0.000912\n",
       "22         GarageCond_num  0.001462\n",
       "23          HeatingQC_num  0.005955\n",
       "24           TotalPorchSF  0.002715\n",
       "26        BldgType_2fmCon -0.009364\n",
       "27        BldgType_Duplex -0.090858\n",
       "28         BldgType_Twnhs -0.058266\n",
       "30      HouseStyle_1.5Unf  0.066703\n",
       "31      HouseStyle_1Story  0.067598\n",
       "33      HouseStyle_2.5Unf  0.007587\n",
       "34      HouseStyle_2Story -0.024058\n",
       "35      HouseStyle_SFoyer  0.054047\n",
       "38       Foundation_PConc  0.018250\n",
       "40       Foundation_Stone  0.022134\n",
       "41        Foundation_Wood -0.042142\n",
       "42        BsmtExposure_Gd  0.044240\n",
       "43        BsmtExposure_Mn -0.038033\n",
       "44        BsmtExposure_No -0.038781\n",
       "45           CentralAir_Y  0.039266\n",
       "48       Electrical_SBrkr -0.003518\n",
       "49      GarageType_Attchd  0.007164\n",
       "50     GarageType_Basment -0.023359\n",
       "51     GarageType_BuiltIn -0.008065\n",
       "52     GarageType_CarPort -0.000172\n",
       "56       GarageFinish_RFn -0.004312\n",
       "59           PavedDrive_Y  0.020352\n",
       "61   SaleCondition_Alloca  0.021007\n",
       "62   SaleCondition_Family -0.020881\n",
       "63   SaleCondition_Normal  0.069422\n",
       "64  SaleCondition_Partial  0.101746\n",
       "65               TxD_S_45  0.026274\n",
       "67        ExtMatl_BrkFace  0.028951\n",
       "68         ExtMatl_CBlock -0.001478\n",
       "69        ExtMatl_HdBoard -0.000789\n",
       "71        ExtMatl_MetalSd  0.008433\n",
       "72          ExtMatl_Mixed  0.007068\n",
       "74        ExtMatl_PreCast  0.378203\n",
       "76        ExtMatl_VinylSd  0.006585\n",
       "78       Funct_3_ModToSev -0.019273\n",
       "79         Funct_3_Normal  0.029990\n",
       "80            Direction_N  0.027279\n",
       "81            Direction_S  0.035888\n",
       "82            Direction_W -0.006260"
      ]
     },
     "execution_count": 276,
     "metadata": {},
     "output_type": "execute_result"
    }
   ],
   "source": [
    "# put the alpha value back in the original lasso\n",
    "reg_lasso = Lasso(normalize=True)\n",
    "reg_lasso.set_params(alpha = reg_lasso_cv.alpha_)\n",
    "reg_lasso.fit(X_train, y_train)\n",
    "lasso_coef_df = pd.DataFrame({'feature':X_train.columns,\n",
    "                              'coef':reg_lasso.coef_})\n",
    "\n",
    "num_feat = len(lasso_coef_df[lasso_coef_df['coef']!=0])\n",
    "print(f'{num_feat} non-zero features')\n",
    "lasso_coef_df[lasso_coef_df['coef']!=0]"
   ]
  },
  {
   "cell_type": "markdown",
   "metadata": {},
   "source": [
    "#### test and train errors"
   ]
  },
  {
   "cell_type": "code",
   "execution_count": 277,
   "metadata": {
    "scrolled": true
   },
   "outputs": [
    {
     "name": "stdout",
     "output_type": "stream",
     "text": [
      "0.9145479204748681\n"
     ]
    },
    {
     "data": {
      "text/plain": [
       "0.9211465022319905"
      ]
     },
     "execution_count": 277,
     "metadata": {},
     "output_type": "execute_result"
    }
   ],
   "source": [
    "print(reg_lasso.score(X_train, y_train))\n",
    "reg_lasso.score(X_test, y_test)"
   ]
  },
  {
   "cell_type": "markdown",
   "metadata": {},
   "source": [
    "#### lasso (using engineered features)"
   ]
  },
  {
   "cell_type": "code",
   "execution_count": 279,
   "metadata": {},
   "outputs": [
    {
     "data": {
      "text/plain": [
       "LassoCV(alphas=None, copy_X=True, cv=None, eps=0.001, fit_intercept=True,\n",
       "        max_iter=10000, n_alphas=100, n_jobs=None, normalize=True,\n",
       "        positive=False, precompute='auto', random_state=None,\n",
       "        selection='cyclic', tol=0.0001, verbose=False)"
      ]
     },
     "execution_count": 279,
     "metadata": {},
     "output_type": "execute_result"
    },
    {
     "data": {
      "text/plain": [
       "1.9824108989935334e-05"
      ]
     },
     "execution_count": 279,
     "metadata": {},
     "output_type": "execute_result"
    }
   ],
   "source": [
    "reg_lasso_cv = LassoCV(normalize = True, max_iter = 10000)\n",
    "reg_lasso_cv.fit(X_train2, y_train)\n",
    "reg_lasso_cv.alpha_"
   ]
  },
  {
   "cell_type": "code",
   "execution_count": 280,
   "metadata": {
    "scrolled": true
   },
   "outputs": [
    {
     "data": {
      "text/plain": [
       "Lasso(alpha=1.9824108989935334e-05, copy_X=True, fit_intercept=True,\n",
       "      max_iter=1000, normalize=True, positive=False, precompute=False,\n",
       "      random_state=None, selection='cyclic', tol=0.0001, warm_start=False)"
      ]
     },
     "execution_count": 280,
     "metadata": {},
     "output_type": "execute_result"
    },
    {
     "data": {
      "text/plain": [
       "Lasso(alpha=1.9824108989935334e-05, copy_X=True, fit_intercept=True,\n",
       "      max_iter=1000, normalize=True, positive=False, precompute=False,\n",
       "      random_state=None, selection='cyclic', tol=0.0001, warm_start=False)"
      ]
     },
     "execution_count": 280,
     "metadata": {},
     "output_type": "execute_result"
    },
    {
     "name": "stdout",
     "output_type": "stream",
     "text": [
      "39 non-zero features\n"
     ]
    }
   ],
   "source": [
    "# put the alpha value back in the original lasso\n",
    "reg_lasso = Lasso(normalize=True)\n",
    "reg_lasso.set_params(alpha = reg_lasso_cv.alpha_)\n",
    "reg_lasso.fit(X_train2, y_train)\n",
    "lasso_coef_df = pd.DataFrame({'feature':X_train2.columns,\n",
    "                              'coef':reg_lasso.coef_})\n",
    "\n",
    "num_feat = len(lasso_coef_df[lasso_coef_df['coef']!=0])\n",
    "print(f'{num_feat} non-zero features')"
   ]
  },
  {
   "cell_type": "code",
   "execution_count": 281,
   "metadata": {},
   "outputs": [
    {
     "name": "stdout",
     "output_type": "stream",
     "text": [
      "0.9105871721955869\n"
     ]
    },
    {
     "data": {
      "text/plain": [
       "0.9178068516999432"
      ]
     },
     "execution_count": 281,
     "metadata": {},
     "output_type": "execute_result"
    }
   ],
   "source": [
    "print(reg_lasso.score(X_train2, y_train))\n",
    "reg_lasso.score(X_test2, y_test)"
   ]
  },
  {
   "cell_type": "code",
   "execution_count": null,
   "metadata": {},
   "outputs": [],
   "source": []
  },
  {
   "cell_type": "markdown",
   "metadata": {},
   "source": [
    "#### ridge (using original features)"
   ]
  },
  {
   "cell_type": "code",
   "execution_count": 282,
   "metadata": {},
   "outputs": [],
   "source": [
    "alphas_ridge = np.linspace(1e-5,10,200).tolist()"
   ]
  },
  {
   "cell_type": "code",
   "execution_count": 283,
   "metadata": {},
   "outputs": [
    {
     "data": {
      "text/plain": [
       "RidgeCV(alphas=array([1.00000000e-05, 5.02612060e-02, 1.00512412e-01, 1.50763618e-01,\n",
       "       2.01014824e-01, 2.51266030e-01, 3.01517236e-01, 3.51768442e-01,\n",
       "       4.02019648e-01, 4.52270854e-01, 5.02522060e-01, 5.52773266e-01,\n",
       "       6.03024472e-01, 6.53275678e-01, 7.03526884e-01, 7.53778090e-01,\n",
       "       8.04029296e-01, 8.54280503e-01, 9.04531709e-01, 9.54782915e-01,\n",
       "       1.00503412e+00, 1.05528533e+0...\n",
       "       9.04522709e+00, 9.09547829e+00, 9.14572950e+00, 9.19598070e+00,\n",
       "       9.24623191e+00, 9.29648312e+00, 9.34673432e+00, 9.39698553e+00,\n",
       "       9.44723673e+00, 9.49748794e+00, 9.54773915e+00, 9.59799035e+00,\n",
       "       9.64824156e+00, 9.69849276e+00, 9.74874397e+00, 9.79899518e+00,\n",
       "       9.84924638e+00, 9.89949759e+00, 9.94974879e+00, 1.00000000e+01]),\n",
       "        cv=None, fit_intercept=True, gcv_mode=None, normalize=True,\n",
       "        scoring=None, store_cv_values=False)"
      ]
     },
     "execution_count": 283,
     "metadata": {},
     "output_type": "execute_result"
    },
    {
     "data": {
      "text/plain": [
       "1e-05"
      ]
     },
     "execution_count": 283,
     "metadata": {},
     "output_type": "execute_result"
    }
   ],
   "source": [
    "# best best fit alpha\n",
    "reg_ridge_cv = RidgeCV(normalize = True, alphas = alphas_ridge)\n",
    "reg_ridge_cv.fit(X_train, y_train)\n",
    "reg_ridge_cv.alpha_"
   ]
  },
  {
   "cell_type": "code",
   "execution_count": 284,
   "metadata": {},
   "outputs": [
    {
     "data": {
      "text/plain": [
       "Ridge(alpha=1e-05, copy_X=True, fit_intercept=True, max_iter=None,\n",
       "      normalize=True, random_state=None, solver='auto', tol=0.001)"
      ]
     },
     "execution_count": 284,
     "metadata": {},
     "output_type": "execute_result"
    }
   ],
   "source": [
    "reg_ridge = Ridge(normalize=True, alpha = reg_ridge_cv.alpha_)\n",
    "reg_ridge.fit(X_train, y_train)"
   ]
  },
  {
   "cell_type": "code",
   "execution_count": 286,
   "metadata": {},
   "outputs": [
    {
     "name": "stdout",
     "output_type": "stream",
     "text": [
      "0.9168072502749562\n"
     ]
    },
    {
     "data": {
      "text/plain": [
       "0.9220267002749363"
      ]
     },
     "execution_count": 286,
     "metadata": {},
     "output_type": "execute_result"
    }
   ],
   "source": [
    "print(reg_ridge.score(X_train, y_train))\n",
    "reg_ridge.score(X_test, y_test)"
   ]
  },
  {
   "cell_type": "markdown",
   "metadata": {},
   "source": [
    "#### ridge (using engineered features)"
   ]
  },
  {
   "cell_type": "code",
   "execution_count": 287,
   "metadata": {},
   "outputs": [
    {
     "data": {
      "text/plain": [
       "RidgeCV(alphas=array([1.00000000e-05, 5.02612060e-02, 1.00512412e-01, 1.50763618e-01,\n",
       "       2.01014824e-01, 2.51266030e-01, 3.01517236e-01, 3.51768442e-01,\n",
       "       4.02019648e-01, 4.52270854e-01, 5.02522060e-01, 5.52773266e-01,\n",
       "       6.03024472e-01, 6.53275678e-01, 7.03526884e-01, 7.53778090e-01,\n",
       "       8.04029296e-01, 8.54280503e-01, 9.04531709e-01, 9.54782915e-01,\n",
       "       1.00503412e+00, 1.05528533e+0...\n",
       "       9.04522709e+00, 9.09547829e+00, 9.14572950e+00, 9.19598070e+00,\n",
       "       9.24623191e+00, 9.29648312e+00, 9.34673432e+00, 9.39698553e+00,\n",
       "       9.44723673e+00, 9.49748794e+00, 9.54773915e+00, 9.59799035e+00,\n",
       "       9.64824156e+00, 9.69849276e+00, 9.74874397e+00, 9.79899518e+00,\n",
       "       9.84924638e+00, 9.89949759e+00, 9.94974879e+00, 1.00000000e+01]),\n",
       "        cv=None, fit_intercept=True, gcv_mode=None, normalize=True,\n",
       "        scoring=None, store_cv_values=False)"
      ]
     },
     "execution_count": 287,
     "metadata": {},
     "output_type": "execute_result"
    },
    {
     "data": {
      "text/plain": [
       "1e-05"
      ]
     },
     "execution_count": 287,
     "metadata": {},
     "output_type": "execute_result"
    }
   ],
   "source": [
    "# best best fit alpha\n",
    "reg_ridge_cv = RidgeCV(normalize = True, alphas = alphas_ridge)\n",
    "reg_ridge_cv.fit(X_train2, y_train)\n",
    "reg_ridge_cv.alpha_"
   ]
  },
  {
   "cell_type": "code",
   "execution_count": 288,
   "metadata": {
    "scrolled": false
   },
   "outputs": [
    {
     "data": {
      "text/plain": [
       "Ridge(alpha=1e-05, copy_X=True, fit_intercept=True, max_iter=None,\n",
       "      normalize=True, random_state=None, solver='auto', tol=0.001)"
      ]
     },
     "execution_count": 288,
     "metadata": {},
     "output_type": "execute_result"
    }
   ],
   "source": [
    "# put the alpha value back in the original ridge\n",
    "reg_ridge = Ridge(normalize=True, alpha = reg_ridge_cv.alpha_)\n",
    "reg_ridge.fit(X_train2, y_train)"
   ]
  },
  {
   "cell_type": "markdown",
   "metadata": {},
   "source": [
    "#### test and train errors"
   ]
  },
  {
   "cell_type": "code",
   "execution_count": 289,
   "metadata": {},
   "outputs": [
    {
     "name": "stdout",
     "output_type": "stream",
     "text": [
      "0.9115344422453068\n"
     ]
    },
    {
     "data": {
      "text/plain": [
       "0.9188429760817837"
      ]
     },
     "execution_count": 289,
     "metadata": {},
     "output_type": "execute_result"
    }
   ],
   "source": [
    "print(reg_ridge.score(X_train2, y_train))\n",
    "reg_ridge.score(X_test2, y_test)"
   ]
  },
  {
   "cell_type": "code",
   "execution_count": null,
   "metadata": {},
   "outputs": [],
   "source": []
  },
  {
   "cell_type": "markdown",
   "metadata": {},
   "source": [
    "#### elastic net"
   ]
  },
  {
   "cell_type": "code",
   "execution_count": null,
   "metadata": {},
   "outputs": [],
   "source": [
    "X_train_elnt = X_train_orig.copy()\n",
    "y_train_elnt = y_train_orig.copy()\n",
    "X_test_elnt = X_test_orig.copy()\n",
    "y_test_elnt = y_test_orig.copy()"
   ]
  },
  {
   "cell_type": "code",
   "execution_count": null,
   "metadata": {},
   "outputs": [],
   "source": [
    "reg_elasticnet_cv = ElasticNetCV(l1_ratio = 0.5, cv=5, n_alphas = 200, normalize = True)\n",
    "reg_elasticnet_cv.fit(X_train_elnt, y_train_elnt)"
   ]
  },
  {
   "cell_type": "code",
   "execution_count": null,
   "metadata": {},
   "outputs": [],
   "source": [
    "print(reg_elasticnet_cv.alpha_)\n",
    "print(reg_elasticnet_cv.l1_ratio_)"
   ]
  },
  {
   "cell_type": "code",
   "execution_count": null,
   "metadata": {},
   "outputs": [],
   "source": [
    "reg_elasticnet = ElasticNet(alpha = reg_elasticnet_cv.alpha_, normalize = True)\n",
    "reg_elasticnet.fit(X_train_elnt, y_train_elnt)"
   ]
  },
  {
   "cell_type": "code",
   "execution_count": null,
   "metadata": {},
   "outputs": [],
   "source": [
    "elnt_coef_df = pd.DataFrame({'feature':X_train_elnt.columns,\n",
    "                              'coef':reg_elasticnet.coef_})\n",
    "\n",
    "num_feat = len(elnt_coef_df[elnt_coef_df['coef']!=0])\n",
    "print(f'{num_feat} non-zero features')"
   ]
  },
  {
   "cell_type": "code",
   "execution_count": null,
   "metadata": {},
   "outputs": [],
   "source": [
    "print(reg_elasticnet.score(X_train_elnt, y_train_elnt))\n",
    "reg_elasticnet.score(X_test_elnt, y_test_elnt)"
   ]
  },
  {
   "cell_type": "code",
   "execution_count": null,
   "metadata": {},
   "outputs": [],
   "source": [
    "ratio = np.linspace(0.01,1,20)\n",
    "reg_elasticnet_cv = ElasticNetCV(l1_ratio = ratio, cv=5, n_alphas = 200, normalize = True)\n",
    "reg_elasticnet_cv.fit(X_train_elnt, y_train_elnt)\n",
    "print(reg_elasticnet_cv.alpha_)\n",
    "print(reg_elasticnet_cv.l1_ratio_)"
   ]
  },
  {
   "cell_type": "markdown",
   "metadata": {},
   "source": [
    "#### huber regression"
   ]
  },
  {
   "cell_type": "code",
   "execution_count": null,
   "metadata": {},
   "outputs": [],
   "source": []
  },
  {
   "cell_type": "code",
   "execution_count": null,
   "metadata": {},
   "outputs": [],
   "source": [
    "X_train_huber = X_train.copy()\n",
    "y_train_huber = y_train.copy()\n",
    "X_test_huber = X_test.copy()\n",
    "y_test_huber = y_test.copy()"
   ]
  },
  {
   "cell_type": "code",
   "execution_count": null,
   "metadata": {},
   "outputs": [],
   "source": [
    "reg_huber = HuberRegressor(max_iter = 30000)\n",
    "reg_huber.fit(X_train_huber, y_train_huber)"
   ]
  },
  {
   "cell_type": "code",
   "execution_count": null,
   "metadata": {},
   "outputs": [],
   "source": [
    "huber_coef_df = pd.DataFrame({'feature':X_train_huber.columns,\n",
    "                              'coef':reg_huber.coef_})\n",
    "#huber_coef_df"
   ]
  },
  {
   "cell_type": "code",
   "execution_count": null,
   "metadata": {},
   "outputs": [],
   "source": [
    "print(reg_huber.score(X_train_huber, y_train_huber))\n",
    "reg_huber.score(X_test_huber, y_test_huber)"
   ]
  },
  {
   "cell_type": "code",
   "execution_count": null,
   "metadata": {},
   "outputs": [],
   "source": []
  },
  {
   "cell_type": "markdown",
   "metadata": {},
   "source": [
    "#### deceision tree"
   ]
  },
  {
   "cell_type": "code",
   "execution_count": null,
   "metadata": {},
   "outputs": [],
   "source": [
    "from sklearn import ensemble\n",
    "from sklearn import tree"
   ]
  },
  {
   "cell_type": "code",
   "execution_count": null,
   "metadata": {},
   "outputs": [],
   "source": [
    "tree_model = tree.DecisionTreeRegressor(criterion = 'mse', max_depth = 5)\n",
    "RF = ensemble.RandomForestRegressor()\n",
    "BAgg = ensemble.BaggingClassifier()"
   ]
  },
  {
   "cell_type": "code",
   "execution_count": null,
   "metadata": {},
   "outputs": [],
   "source": [
    "X_train_tree = X_train.copy()\n",
    "y_train_tree = y_train.copy()\n",
    "X_test_tree = X_test.copy()\n",
    "y_test_tree = y_test.copy()"
   ]
  },
  {
   "cell_type": "code",
   "execution_count": null,
   "metadata": {
    "scrolled": true
   },
   "outputs": [],
   "source": [
    "tree_model.set_params()\n",
    "print(tree_model.fit(X_train_tree, y_train_tree))\n",
    "print(tree_model.score(X_test_tree, y_test_tree))"
   ]
  },
  {
   "cell_type": "code",
   "execution_count": null,
   "metadata": {},
   "outputs": [],
   "source": [
    "# grid search"
   ]
  },
  {
   "cell_type": "markdown",
   "metadata": {},
   "source": [
    "#### random forest"
   ]
  },
  {
   "cell_type": "code",
   "execution_count": null,
   "metadata": {},
   "outputs": [],
   "source": [
    "RF.set_params(oob_score=True, random_state=108)\n",
    "RF.fit(X_train_tree, y_train_tree)"
   ]
  },
  {
   "cell_type": "code",
   "execution_count": null,
   "metadata": {},
   "outputs": [],
   "source": [
    "RF.oob_score_"
   ]
  },
  {
   "cell_type": "code",
   "execution_count": null,
   "metadata": {},
   "outputs": [],
   "source": [
    "forest_grid_params = [{\n",
    "    \"n_estimators\": [25, 50, 100],\n",
    "    \"criterion\": ['mse','friedman_mse','mae'],\n",
    "    \"min_samples_leaf\": range(1, 10),\n",
    "    \"min_samples_split\": np.linspace(start=2, stop=30, num=15, dtype=int),\n",
    "    \"random_state\": [108]}]\n",
    "RF_grid = GridSearchCV(RF, forest_grid_params, scoring='r2', cv=5, n_jobs=-1)\n",
    "%time RF_grid.fit(X_train, y_train)"
   ]
  },
  {
   "cell_type": "code",
   "execution_count": null,
   "metadata": {},
   "outputs": [],
   "source": []
  },
  {
   "cell_type": "code",
   "execution_count": null,
   "metadata": {},
   "outputs": [],
   "source": []
  },
  {
   "cell_type": "code",
   "execution_count": null,
   "metadata": {},
   "outputs": [],
   "source": [
    "# dummify the dataset\n",
    "orig_dum = pd.get_dummies(ames_df_use, drop_first=True)\n",
    "print(orig_dum.shape)\n",
    "\n",
    "# apply log()\n",
    "orig_dum['SalePrice'] = np.log(orig_dum['SalePrice'])\n",
    "orig_dum['total_LivArea'] = np.log(orig_dum['total_LivArea'])\n",
    "orig_dum['total_LivArea'] = np.log(orig_dum['total_LivArea'])\n",
    "orig_dum['total_LivArea'] = np.log(orig_dum['total_LivArea'])\n",
    "orig_dum['LotFrontage'] = np.log(orig_dum['LotFrontage']+1)\n",
    "orig_dum['WoodDeckSF'] = np.log(orig_dum['WoodDeckSF']+1)\n",
    "orig_dum['OpenPorchSF'] = np.log(orig_dum['OpenPorchSF']+1)\n",
    "orig_dum['EnclosedPorch'] = np.log(orig_dum['EnclosedPorch']+1)\n",
    "orig_dum['3SsnPorch'] = np.log(orig_dum['3SsnPorch']+1)\n",
    "orig_dum['ScreenPorch'] = np.log(orig_dum['ScreenPorch']+1)"
   ]
  },
  {
   "cell_type": "code",
   "execution_count": null,
   "metadata": {},
   "outputs": [],
   "source": [
    "train_orig = orig_dum[orig_dum['YrSold']!=2010]\n",
    "test_orig = orig_dum[orig_dum['YrSold']==2010]\n",
    "print(train_orig.shape)\n",
    "print(test_orig.shape)\n",
    "X_train_orig, X_test, y_train, y_test = train_test_split(X, y, test_size=0.2)\n",
    "\n",
    "X_train_orig = train_orig.drop(['SalePrice','YrSold'],axis=1)\n",
    "y_train_orig = train_orig['SalePrice']\n",
    "X_test_orig = test_orig.drop(['SalePrice','YrSold'],axis=1)\n",
    "y_test_orig = test_orig['SalePrice']"
   ]
  },
  {
   "cell_type": "markdown",
   "metadata": {},
   "source": [
    "#### initial testing"
   ]
  },
  {
   "cell_type": "code",
   "execution_count": null,
   "metadata": {
    "scrolled": false
   },
   "outputs": [],
   "source": [
    "lin_reg = LinearRegression().fit(X_train_orig, y_train_orig)\n",
    "lin_reg.score(X_train_orig, y_train_orig)\n",
    "\n",
    "x_feature = sm.add_constant(X_train_orig)\n",
    "\n",
    "model = sm.OLS(y_train_orig, x_feature)\n",
    "results_feature = model.fit()\n",
    "print(results_feature.summary())\n",
    "pValue = results_feature.pvalues\n",
    "pValue[pValue<0.05]\n",
    "\n",
    "#X_vif = X_train_dum[pValue[pValue<0.05].index]\n",
    "X_vif = X_train_orig[pValue[pValue<0.05].drop('const').index]\n",
    "vif_data = pd.DataFrame() \n",
    "vif_data[\"feature\"] = X_vif.columns\n",
    "vif_data[\"VIF\"] = [variance_inflation_factor(X_vif.values, i) \n",
    "                          for i in range(len(X_vif.columns))] \n",
    "print(vif_data)"
   ]
  },
  {
   "cell_type": "code",
   "execution_count": null,
   "metadata": {
    "scrolled": true
   },
   "outputs": [],
   "source": [
    "print(f'Num of features: {len(X_train_orig.columns)}')\n",
    "print(f'AIC: {results_feature.aic}')\n",
    "print(f'BIC: {results_feature.bic}')\n",
    "print(f'train score: {lin_reg.score(X_train_orig, y_train_orig)}')\n",
    "print(f'test score: {lin_reg.score(X_test_orig, y_test_orig)}')"
   ]
  },
  {
   "cell_type": "markdown",
   "metadata": {},
   "source": [
    "#### minimum sample/class size"
   ]
  },
  {
   "cell_type": "code",
   "execution_count": null,
   "metadata": {},
   "outputs": [],
   "source": [
    "(1.96 * statistics.stdev(ames_df_use['SalePrice']) / 20000)**2"
   ]
  },
  {
   "cell_type": "code",
   "execution_count": null,
   "metadata": {},
   "outputs": [],
   "source": [
    "set(ames_df['Neighborhood'])"
   ]
  },
  {
   "cell_type": "code",
   "execution_count": 150,
   "metadata": {
    "scrolled": true
   },
   "outputs": [
    {
     "name": "stdout",
     "output_type": "stream",
     "text": [
      "BsmtQual\n",
      "BsmtCond\n",
      "BsmtExposure\n",
      "BsmtFinType1\n",
      "BsmtFinSF1\n",
      "BsmtFinType2\n",
      "BsmtFinSF2\n",
      "BsmtUnfSF\n",
      "TotalBsmtSF\n",
      "BsmtFullBath\n",
      "BsmtHalfBath\n",
      "BsmtHalfBath2\n",
      "TtlBsmtSF\n"
     ]
    }
   ],
   "source": [
    "for col in ames_df.columns.tolist():\n",
    "    if col.find('Bsmt')!=-1:\n",
    "        print(col)"
   ]
  },
  {
   "cell_type": "code",
   "execution_count": null,
   "metadata": {},
   "outputs": [],
   "source": []
  },
  {
   "cell_type": "code",
   "execution_count": null,
   "metadata": {},
   "outputs": [],
   "source": [
    "# Decision Tree Model\n",
    "tree_reg = DecisionTreeRegressor(max_depth=10).fit(X_train1,y_train1)\n",
    "print(f'R^2 of Train set: {tree_reg.score(X_train1,y_train1)}')\n",
    "print(f'R^2 Test set: {tree_reg.score(X_test1,y_test1)}')\n",
    "\n"
   ]
  },
  {
   "cell_type": "code",
   "execution_count": null,
   "metadata": {},
   "outputs": [],
   "source": [
    "# Random Forest Model\n",
    "forest_reg = RandomForestRegressor(n_estimators=100,max_features=5).fit(X_train1,y_train1)\n",
    "print(f'R^2 of Train set: {forest_reg.score(X_train1,y_train1)}')\n",
    "print(f'R^2 Test set: {forest_reg.score(X_test1,y_test1)}')"
   ]
  },
  {
   "cell_type": "code",
   "execution_count": null,
   "metadata": {},
   "outputs": [],
   "source": []
  },
  {
   "cell_type": "code",
   "execution_count": null,
   "metadata": {},
   "outputs": [],
   "source": [
    "# from sklearn.metrics import mean_squared_error\n",
    "# from sklearn.metrics import r2_score\n",
    "# housing_prediction = lin_reg.predict(X_test)\n",
    "# mean_squared_error(y_train,y_test)\n",
    "# lin_reg2 = LinearRegression().fit(X_train,y_train)\n",
    "# lin_reg.r2_score"
   ]
  }
 ],
 "metadata": {
  "kernelspec": {
   "display_name": "Python 3",
   "language": "python",
   "name": "python3"
  },
  "language_info": {
   "codemirror_mode": {
    "name": "ipython",
    "version": 3
   },
   "file_extension": ".py",
   "mimetype": "text/x-python",
   "name": "python",
   "nbconvert_exporter": "python",
   "pygments_lexer": "ipython3",
   "version": "3.7.6"
  }
 },
 "nbformat": 4,
 "nbformat_minor": 4
}
