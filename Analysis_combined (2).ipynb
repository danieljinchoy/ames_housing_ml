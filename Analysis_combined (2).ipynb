{
 "cells": [
  {
   "cell_type": "markdown",
   "metadata": {},
   "source": [
    "#### load libraries"
   ]
  },
  {
   "cell_type": "code",
   "execution_count": 1,
   "metadata": {},
   "outputs": [],
   "source": [
    "import numpy as np\n",
    "import pandas as pd\n",
    "from sklearn.linear_model import LinearRegression, Ridge, RidgeCV, Lasso, LassoCV, ElasticNet, ElasticNetCV, HuberRegressor\n",
    "from sklearn.impute import SimpleImputer\n",
    "from sklearn.tree import DecisionTreeRegressor\n",
    "from sklearn.ensemble import RandomForestRegressor, RandomForestClassifier\n",
    "from sklearn.model_selection import cross_val_score, cross_val_predict,cross_validate, GridSearchCV, train_test_split\n",
    "import statsmodels.api as sm\n",
    "from statsmodels.stats.outliers_influence import variance_inflation_factor \n",
    "import statistics\n",
    "import matplotlib.pyplot as plt\n",
    "import seaborn as sns\n",
    "\n",
    "pd.options.display.max_columns = None\n",
    "pd.options.display.max_rows = None\n",
    "from IPython.core.interactiveshell import InteractiveShell\n",
    "InteractiveShell.ast_node_interactivity = \"all\""
   ]
  },
  {
   "cell_type": "markdown",
   "metadata": {},
   "source": [
    "#### load and inspect data"
   ]
  },
  {
   "cell_type": "code",
   "execution_count": 2,
   "metadata": {
    "scrolled": true
   },
   "outputs": [
    {
     "data": {
      "text/plain": [
       "(2603, 179)"
      ]
     },
     "execution_count": 2,
     "metadata": {},
     "output_type": "execute_result"
    }
   ],
   "source": [
    "ames_df = pd.read_csv('./data/final_df.csv', index_col = 0)\n",
    "\n",
    "# Checking final_df after generating geoCode, found duplicated observations\n",
    "ames_df.shape"
   ]
  },
  {
   "cell_type": "code",
   "execution_count": 3,
   "metadata": {},
   "outputs": [
    {
     "data": {
      "text/plain": [
       "(2558, 179)"
      ]
     },
     "execution_count": 3,
     "metadata": {},
     "output_type": "execute_result"
    }
   ],
   "source": [
    "# drop duplicated observations\n",
    "ames_df = ames_df.drop_duplicates(subset=['PID'],keep = 'first')\n",
    "ames_df.shape"
   ]
  },
  {
   "cell_type": "markdown",
   "metadata": {},
   "source": [
    "#### preprocessing"
   ]
  },
  {
   "cell_type": "code",
   "execution_count": 4,
   "metadata": {
    "scrolled": true
   },
   "outputs": [
    {
     "name": "stdout",
     "output_type": "stream",
     "text": [
      "Index(['SalePrice', 'Distance', 'MSSubClass', 'MSZoning', 'LotFrontage',\n",
      "       'LotArea', 'Alley', 'LotShape', 'LandContour', 'LotConfig', 'LandSlope',\n",
      "       'Condition1', 'Condition2', 'BldgType', 'HouseStyle', 'OverallQual',\n",
      "       'OverallCond', 'YearBuilt', 'YearRemodAdd', 'RoofStyle', 'RoofMatl',\n",
      "       'Exterior1st', 'Exterior2nd', 'ExterQual', 'ExterCond', 'Foundation',\n",
      "       'BsmtQual', 'BsmtCond', 'BsmtExposure', 'HeatingQC', 'CentralAir',\n",
      "       'Electrical', 'KitchenAbvGr', 'KitchenQual', 'TotRmsAbvGrd',\n",
      "       'Functional', 'Fireplaces', 'FireplaceQu', 'GarageType', 'GarageFinish',\n",
      "       'GarageCars', 'GarageArea', 'GarageQual', 'GarageCond', 'PavedDrive',\n",
      "       'WoodDeckSF', 'OpenPorchSF', 'EnclosedPorch', '3SsnPorch',\n",
      "       'ScreenPorch', 'Fence', 'MoSold', 'YrSold', 'SaleCondition',\n",
      "       'MasVnrArea2', 'total_LivArea', 'num_bathroom', 'SchD_S'],\n",
      "      dtype='object')\n",
      "has null: Index(['BsmtExposure', 'Electrical'], dtype='object')\n"
     ]
    }
   ],
   "source": [
    "ames_df_use = ames_df.copy()\n",
    "\n",
    "# convert MSSubClass to str\n",
    "ames_df_use['MSSubClass'] = ames_df_use[['MSSubClass']].astype('str')\n",
    "\n",
    "# characterize tax distr and sch distr\n",
    "ames_df_use['TxD_S'] = ames_df_use[['TxD_S']].astype('str')\n",
    "ames_df_use['SchD_S'] = ames_df_use[['SchD_S']].astype('str')\n",
    "\n",
    "# convert NA's to 0s in LotFrontage and Alley\n",
    "ames_df_use['LotFrontage'] = np.where(pd.isnull(ames_df_use['LotFrontage']), 0, ames_df_use['LotFrontage'])\n",
    "ames_df_use['Alley'] = np.where(pd.isnull(ames_df_use['Alley']), 0, 1)\n",
    "\n",
    "# Impute None to Nan value in columns\n",
    "none_features = ['FireplaceQu','GarageType','GarageFinish','GarageQual','GarageCond','Fence','BsmtQual','BsmtCond']\n",
    "for feature in none_features:\n",
    "    ames_df_use[feature] = ames_df_use[feature].fillna('None')\n",
    "\n",
    "# drop rows with NA garage car / garage area\n",
    "garage_NA_index = ames_df_use.loc[pd.isnull(ames_df_use['GarageArea'])].index\n",
    "ames_df_use = ames_df_use.drop(garage_NA_index,axis=0)\n",
    "\n",
    "# add in proper bathroom numbers for 918 and 2328\n",
    "ames_df_use.at[918, 'num_bathroom'] = 1\n",
    "ames_df_use.at[2328, 'num_bathroom'] = 3.5\n",
    "\n",
    "# remove unnecessary columns\n",
    "ames_df_use = ames_df_use.drop(\n",
    "    ['PA-PreD','PA-PostD','PA-UnTyp','PA-UntNo','X1TPr_D','X1TSc_D','Rcrd_Mo','Legal_Pr','TxD_S',\\\n",
    "    'X2TPr_D','X2TSc_D','X1TPr_S','X1TSc_S','X2TPr_S','X2TSc_S','ISU_lat_long','address','MA_Ownr1','MA_Ownr2',\\\n",
    "    'MA_Line1','MA_Line2','MA_City','MA_State','address3','location2','point2','SaleCond','Source','Date',\\\n",
    "    'ParType','BldgNo_S','DwlgNo_S','YrBuilt','Ext1','Ext2','GLA','GarYrBlt','Cars','MA_Zip1','MA_Zip2',\\\n",
    "    'ZngCdPr','ZngCdSc','ZngOLPr','ZngOLSc','PA-Nmbr','PA-Strt','PA-StSfx','Inst1_No','Inst1_Yr','Inst1_Mo',\\\n",
    "    'Inst1TPr','TtlVal_AsrYr','ValType','OthAc_S','ImpAc_S','LndAc_S','Prop_Addr','HSTtl_D','MilVal_D',\\\n",
    "    'HSTtl_S','MilVal_S','GeoRefNo','Tier','Range','AcreX_S1','ClassPr_S','ClassSc_S','LndAcX1S','ImpAcX1S',\\\n",
    "    'Central Air','ImpAcX2S','AcreGr','AcreNt_S','ParclRel','Rcrd_Yr','address2','SaleType',\\\n",
    "    'latitude2','longitude2','ISU_lat','ISU_long','altitude2','Central Air',\\\n",
    "\n",
    "    'index','MiscVal','YrSold_YYYY','MoSold_MM','PoolArea','PoolQC','MiscFeature','Street','PID','Utilities',\\\n",
    "    'BsmtHalfBath2','FullBath','HalfBath','TtlBsmtSF','HalfBath2','BsmtFullBath','BsmtHalfBath',\\\n",
    "    'BsmtFinSF1','BsmtFinSF2','BsmtFinType1','BsmtFinType2','BsmtUnfSF','LowQualFinSF','BasmtFinSF2','BasmtFinSF1',\\\n",
    "    'GrLivArea','1stFlrSF','2ndFlrSF','BedroomAbvGr','MasVnrType','MasVnrArea','GarageArea2','PoolArea2','NmbrBRs',\\\n",
    "    'Neighborhood','TotalBsmtSF','GarageYrBlt','BasmtFinSF','Heating'],\\\n",
    "    axis=1)\n",
    "\n",
    "print(ames_df_use.columns)\n",
    "print(f'has null: {ames_df_use.columns[ames_df_use.isnull().sum() > 0]}')"
   ]
  },
  {
   "cell_type": "markdown",
   "metadata": {},
   "source": [
    "#### test-train split"
   ]
  },
  {
   "cell_type": "code",
   "execution_count": 5,
   "metadata": {},
   "outputs": [
    {
     "data": {
      "text/plain": [
       "2007    595\n",
       "2009    576\n",
       "2008    561\n",
       "2006    511\n",
       "2010    314\n",
       "Name: YrSold, dtype: int64"
      ]
     },
     "execution_count": 5,
     "metadata": {},
     "output_type": "execute_result"
    }
   ],
   "source": [
    "ames_df_use.YrSold.value_counts()"
   ]
  },
  {
   "cell_type": "code",
   "execution_count": 6,
   "metadata": {},
   "outputs": [
    {
     "data": {
      "text/plain": [
       "F_onewayResult(statistic=0.4853231382751426, pvalue=0.7465518551782976)"
      ]
     },
     "execution_count": 6,
     "metadata": {},
     "output_type": "execute_result"
    }
   ],
   "source": [
    "# one way ANOVA test\n",
    "SalePr_YrSold = ames_df_use[['YrSold','SalePrice']]\n",
    "from scipy.stats import f_oneway\n",
    "f_oneway(SalePr_YrSold.loc[SalePr_YrSold['YrSold']==2006]['SalePrice'],\n",
    "         SalePr_YrSold.loc[SalePr_YrSold['YrSold']==2007]['SalePrice'],\n",
    "         SalePr_YrSold.loc[SalePr_YrSold['YrSold']==2008]['SalePrice'],\n",
    "         SalePr_YrSold.loc[SalePr_YrSold['YrSold']==2009]['SalePrice'],\n",
    "         SalePr_YrSold.loc[SalePr_YrSold['YrSold']==2010]['SalePrice'])"
   ]
  },
  {
   "cell_type": "markdown",
   "metadata": {},
   "source": [
    "#### initial testing"
   ]
  },
  {
   "cell_type": "code",
   "execution_count": 7,
   "metadata": {},
   "outputs": [
    {
     "name": "stdout",
     "output_type": "stream",
     "text": [
      "(2557, 201)\n"
     ]
    }
   ],
   "source": [
    "# dummify the dataset\n",
    "orig_dum = pd.get_dummies(ames_df_use, drop_first=True)\n",
    "print(orig_dum.shape)\n",
    "\n",
    "# apply log()\n",
    "orig_dum['SalePrice'] = np.log(orig_dum['SalePrice'])\n",
    "orig_dum['total_LivArea'] = np.log(orig_dum['total_LivArea'])\n",
    "orig_dum['LotFrontage'] = np.log(orig_dum['LotFrontage']+1)\n",
    "orig_dum['WoodDeckSF'] = np.log(orig_dum['WoodDeckSF']+1)\n",
    "orig_dum['OpenPorchSF'] = np.log(orig_dum['OpenPorchSF']+1)\n",
    "orig_dum['EnclosedPorch'] = np.log(orig_dum['EnclosedPorch']+1)\n",
    "orig_dum['3SsnPorch'] = np.log(orig_dum['3SsnPorch']+1)\n",
    "orig_dum['ScreenPorch'] = np.log(orig_dum['ScreenPorch']+1)"
   ]
  },
  {
   "cell_type": "code",
   "execution_count": 8,
   "metadata": {},
   "outputs": [
    {
     "name": "stdout",
     "output_type": "stream",
     "text": [
      "(2243, 201)\n",
      "(314, 201)\n"
     ]
    }
   ],
   "source": [
    "train_orig = orig_dum[orig_dum['YrSold']!=2010]\n",
    "test_orig = orig_dum[orig_dum['YrSold']==2010]\n",
    "print(train_orig.shape)\n",
    "print(test_orig.shape)\n",
    "\n",
    "X_train_orig = train_orig.drop(['SalePrice','YrSold'],axis=1)\n",
    "y_train_orig = train_orig['SalePrice']\n",
    "X_test_orig = test_orig.drop(['SalePrice','YrSold'],axis=1)\n",
    "y_test_orig = test_orig['SalePrice']"
   ]
  },
  {
   "cell_type": "code",
   "execution_count": 9,
   "metadata": {
    "scrolled": false
   },
   "outputs": [
    {
     "data": {
      "text/plain": [
       "0.9321469682347108"
      ]
     },
     "execution_count": 9,
     "metadata": {},
     "output_type": "execute_result"
    },
    {
     "name": "stdout",
     "output_type": "stream",
     "text": [
      "                            OLS Regression Results                            \n",
      "==============================================================================\n",
      "Dep. Variable:              SalePrice   R-squared:                       0.932\n",
      "Model:                            OLS   Adj. R-squared:                  0.926\n",
      "Method:                 Least Squares   F-statistic:                     146.7\n",
      "Date:                Sun, 29 Nov 2020   Prob (F-statistic):               0.00\n",
      "Time:                        20:57:54   Log-Likelihood:                 1991.9\n",
      "No. Observations:                2243   AIC:                            -3598.\n",
      "Df Residuals:                    2050   BIC:                            -2495.\n",
      "Df Model:                         192                                         \n",
      "Covariance Type:            nonrobust                                         \n",
      "=========================================================================================\n",
      "                            coef    std err          t      P>|t|      [0.025      0.975]\n",
      "-----------------------------------------------------------------------------------------\n",
      "const                     4.7172      0.632      7.466      0.000       3.478       5.956\n",
      "Distance                 -0.0192      0.003     -5.614      0.000      -0.026      -0.013\n",
      "LotFrontage               0.0013      0.002      0.833      0.405      -0.002       0.004\n",
      "LotArea                3.241e-06   4.08e-07      7.952      0.000    2.44e-06    4.04e-06\n",
      "Alley                    -0.0155      0.011     -1.406      0.160      -0.037       0.006\n",
      "OverallQual               0.0604      0.003     17.788      0.000       0.054       0.067\n",
      "OverallCond               0.0366      0.003     12.350      0.000       0.031       0.042\n",
      "YearBuilt                 0.0015      0.000      5.431      0.000       0.001       0.002\n",
      "YearRemodAdd              0.0006      0.000      2.960      0.003       0.000       0.001\n",
      "KitchenAbvGr             -0.0218      0.025     -0.872      0.383      -0.071       0.027\n",
      "TotRmsAbvGrd              0.0283      0.003     11.021      0.000       0.023       0.033\n",
      "Fireplaces                0.0432      0.008      5.087      0.000       0.027       0.060\n",
      "GarageCars                0.0219      0.008      2.734      0.006       0.006       0.038\n",
      "GarageArea                0.0002   2.64e-05      6.104      0.000       0.000       0.000\n",
      "WoodDeckSF                0.0016      0.001      1.529      0.126      -0.000       0.004\n",
      "OpenPorchSF               0.0051      0.001      3.806      0.000       0.002       0.008\n",
      "EnclosedPorch             0.0023      0.002      1.454      0.146      -0.001       0.005\n",
      "3SsnPorch                 0.0041      0.004      1.020      0.308      -0.004       0.012\n",
      "ScreenPorch               0.0086      0.002      5.176      0.000       0.005       0.012\n",
      "MoSold                   -0.0004      0.001     -0.446      0.656      -0.002       0.001\n",
      "MasVnrArea2               0.0122      0.006      2.082      0.037       0.001       0.024\n",
      "total_LivArea             0.2657      0.012     21.580      0.000       0.242       0.290\n",
      "num_bathroom              0.0197      0.005      3.926      0.000       0.010       0.030\n",
      "MSSubClass_150           -0.2217      0.119     -1.867      0.062      -0.455       0.011\n",
      "MSSubClass_160           -0.0404      0.031     -1.299      0.194      -0.101       0.021\n",
      "MSSubClass_180           -0.0499      0.046     -1.088      0.277      -0.140       0.040\n",
      "MSSubClass_190           -0.1125      0.096     -1.168      0.243      -0.302       0.076\n",
      "MSSubClass_20            -0.0839      0.049     -1.706      0.088      -0.180       0.013\n",
      "MSSubClass_30            -0.1194      0.052     -2.318      0.021      -0.220      -0.018\n",
      "MSSubClass_40            -0.0999      0.070     -1.428      0.153      -0.237       0.037\n",
      "MSSubClass_45            -0.0436      0.093     -0.469      0.639      -0.226       0.139\n",
      "MSSubClass_50            -0.0324      0.057     -0.568      0.570      -0.144       0.079\n",
      "MSSubClass_60            -0.0945      0.055     -1.709      0.088      -0.203       0.014\n",
      "MSSubClass_70            -0.0510      0.056     -0.904      0.366      -0.161       0.060\n",
      "MSSubClass_75            -0.0134      0.071     -0.188      0.851      -0.153       0.127\n",
      "MSSubClass_80            -0.1228      0.067     -1.824      0.068      -0.255       0.009\n",
      "MSSubClass_85            -0.0532      0.061     -0.867      0.386      -0.173       0.067\n",
      "MSSubClass_90            -0.0721      0.028     -2.540      0.011      -0.128      -0.016\n",
      "MSZoning_FV               0.2706      0.037      7.238      0.000       0.197       0.344\n",
      "MSZoning_I (all)          0.2494      0.127      1.971      0.049       0.001       0.498\n",
      "MSZoning_RH               0.1904      0.044      4.290      0.000       0.103       0.277\n",
      "MSZoning_RL               0.2268      0.034      6.608      0.000       0.160       0.294\n",
      "MSZoning_RM               0.1725      0.034      5.017      0.000       0.105       0.240\n",
      "LotShape_IR2             -0.0043      0.015     -0.293      0.769      -0.033       0.025\n",
      "LotShape_IR3             -0.0277      0.032     -0.880      0.379      -0.090       0.034\n",
      "LotShape_Reg             -0.0096      0.006     -1.631      0.103      -0.021       0.002\n",
      "LandContour_HLS           0.0574      0.018      3.214      0.001       0.022       0.092\n",
      "LandContour_Low           0.0229      0.024      0.970      0.332      -0.023       0.069\n",
      "LandContour_Lvl           0.0283      0.013      2.116      0.035       0.002       0.055\n",
      "LotConfig_CulDSac         0.0198      0.011      1.733      0.083      -0.003       0.042\n",
      "LotConfig_FR2            -0.0268      0.015     -1.809      0.071      -0.056       0.002\n",
      "LotConfig_FR3            -0.0540      0.032     -1.689      0.091      -0.117       0.009\n",
      "LotConfig_Inside          0.0040      0.007      0.617      0.537      -0.009       0.017\n",
      "LandSlope_Mod             0.0299      0.015      2.055      0.040       0.001       0.058\n",
      "LandSlope_Sev            -0.1214      0.049     -2.460      0.014      -0.218      -0.025\n",
      "Condition1_Feedr          0.0313      0.018      1.723      0.085      -0.004       0.067\n",
      "Condition1_Norm           0.0872      0.015      5.715      0.000       0.057       0.117\n",
      "Condition1_PosA           0.1340      0.033      4.021      0.000       0.069       0.199\n",
      "Condition1_PosN           0.1153      0.025      4.664      0.000       0.067       0.164\n",
      "Condition1_RRAe           0.0152      0.028      0.548      0.584      -0.039       0.070\n",
      "Condition1_RRAn           0.0382      0.024      1.589      0.112      -0.009       0.085\n",
      "Condition1_RRNe           0.1088      0.064      1.707      0.088      -0.016       0.234\n",
      "Condition1_RRNn           0.0294      0.045      0.653      0.514      -0.059       0.118\n",
      "Condition2_Feedr         -0.1583      0.078     -2.040      0.041      -0.310      -0.006\n",
      "Condition2_Norm          -0.0971      0.069     -1.401      0.161      -0.233       0.039\n",
      "Condition2_PosA          -0.0228      0.107     -0.214      0.831      -0.232       0.186\n",
      "Condition2_PosN          -0.4960      0.095     -5.195      0.000      -0.683      -0.309\n",
      "Condition2_RRAe          -0.1381      0.155     -0.889      0.374      -0.443       0.166\n",
      "Condition2_RRAn          -0.1194      0.128     -0.936      0.349      -0.370       0.131\n",
      "Condition2_RRNn          -0.0715      0.103     -0.692      0.489      -0.274       0.131\n",
      "BldgType_2fmCon           0.0033      0.083      0.040      0.968      -0.159       0.166\n",
      "BldgType_Duplex          -0.0721      0.028     -2.540      0.011      -0.128      -0.016\n",
      "BldgType_Twnhs           -0.1488      0.051     -2.924      0.003      -0.249      -0.049\n",
      "BldgType_TwnhsE          -0.1182      0.049     -2.408      0.016      -0.215      -0.022\n",
      "HouseStyle_1.5Unf         0.0269      0.074      0.362      0.717      -0.119       0.172\n",
      "HouseStyle_1Story         0.0518      0.028      1.861      0.063      -0.003       0.106\n",
      "HouseStyle_2.5Fin        -0.1227      0.067     -1.843      0.066      -0.253       0.008\n",
      "HouseStyle_2.5Unf         0.0010      0.049      0.020      0.984      -0.096       0.098\n",
      "HouseStyle_2Story         0.0181      0.027      0.662      0.508      -0.035       0.072\n",
      "HouseStyle_SFoyer        -0.0002      0.039     -0.006      0.996      -0.077       0.077\n",
      "HouseStyle_SLvl           0.0286      0.049      0.586      0.558      -0.067       0.124\n",
      "RoofStyle_Gable           0.0193      0.056      0.345      0.730      -0.090       0.129\n",
      "RoofStyle_Gambrel        -0.0417      0.063     -0.666      0.506      -0.165       0.081\n",
      "RoofStyle_Hip             0.0222      0.056      0.396      0.692      -0.088       0.133\n",
      "RoofStyle_Mansard        -0.0135      0.070     -0.193      0.847      -0.150       0.123\n",
      "RoofStyle_Shed            0.0339      0.099      0.343      0.731      -0.159       0.227\n",
      "RoofMatl_Membran          0.1635      0.129      1.269      0.205      -0.089       0.416\n",
      "RoofMatl_Metal            0.1660      0.130      1.274      0.203      -0.090       0.422\n",
      "RoofMatl_Roll             0.0676      0.112      0.605      0.545      -0.151       0.286\n",
      "RoofMatl_Tar&Grv          0.0261      0.049      0.536      0.592      -0.069       0.122\n",
      "RoofMatl_WdShake         -0.0571      0.047     -1.208      0.227      -0.150       0.036\n",
      "RoofMatl_WdShngl          0.1294      0.045      2.854      0.004       0.040       0.218\n",
      "Exterior1st_AsphShn      -0.0102      0.145     -0.070      0.944      -0.295       0.275\n",
      "Exterior1st_BrkComm       0.2442      0.068      3.608      0.000       0.111       0.377\n",
      "Exterior1st_BrkFace       0.1715      0.045      3.773      0.000       0.082       0.261\n",
      "Exterior1st_CBlock       -0.0213      0.169     -0.126      0.900      -0.353       0.311\n",
      "Exterior1st_CemntBd      -0.0440      0.080     -0.549      0.583      -0.201       0.113\n",
      "Exterior1st_HdBoard       0.0445      0.044      1.002      0.316      -0.043       0.132\n",
      "Exterior1st_ImStucc       0.0547      0.120      0.456      0.649      -0.181       0.290\n",
      "Exterior1st_MetalSd       0.0753      0.050      1.512      0.131      -0.022       0.173\n",
      "Exterior1st_Plywood       0.0433      0.044      0.988      0.323      -0.043       0.129\n",
      "Exterior1st_PreCast       0.2013      0.058      3.464      0.001       0.087       0.315\n",
      "Exterior1st_Stucco        0.0808      0.049      1.653      0.098      -0.015       0.177\n",
      "Exterior1st_VinylSd       0.0196      0.051      0.384      0.701      -0.080       0.120\n",
      "Exterior1st_Wd Sdng       0.0385      0.043      0.898      0.369      -0.046       0.123\n",
      "Exterior1st_WdShing       0.0396      0.047      0.843      0.399      -0.053       0.132\n",
      "Exterior2nd_AsphShn       0.0438      0.092      0.475      0.635      -0.137       0.224\n",
      "Exterior2nd_Brk Cmn      -0.0169      0.054     -0.313      0.754      -0.123       0.089\n",
      "Exterior2nd_BrkFace      -0.0654      0.050     -1.320      0.187      -0.163       0.032\n",
      "Exterior2nd_CBlock       -0.0374      0.128     -0.293      0.770      -0.288       0.213\n",
      "Exterior2nd_CmentBd       0.0742      0.082      0.907      0.365      -0.086       0.235\n",
      "Exterior2nd_HdBoard      -0.0232      0.047     -0.498      0.618      -0.115       0.068\n",
      "Exterior2nd_ImStucc      -0.0190      0.056     -0.337      0.736      -0.129       0.091\n",
      "Exterior2nd_MetalSd      -0.0180      0.052     -0.348      0.728      -0.120       0.084\n",
      "Exterior2nd_Plywood      -0.0236      0.045     -0.523      0.601      -0.112       0.065\n",
      "Exterior2nd_PreCast       0.2013      0.058      3.464      0.001       0.087       0.315\n",
      "Exterior2nd_Stone        -0.0015      0.075     -0.020      0.984      -0.148       0.145\n",
      "Exterior2nd_Stucco       -0.0187      0.051     -0.369      0.712      -0.118       0.081\n",
      "Exterior2nd_VinylSd       0.0170      0.053      0.322      0.748      -0.086       0.120\n",
      "Exterior2nd_Wd Sdng      -0.0055      0.045     -0.122      0.903      -0.094       0.083\n",
      "Exterior2nd_Wd Shng      -0.0199      0.048     -0.417      0.676      -0.113       0.074\n",
      "ExterQual_Fa              0.0042      0.034      0.124      0.901      -0.063       0.071\n",
      "ExterQual_Gd             -0.0115      0.018     -0.619      0.536      -0.048       0.025\n",
      "ExterQual_TA             -0.0318      0.020     -1.569      0.117      -0.071       0.008\n",
      "ExterCond_Fa              0.0192      0.040      0.475      0.635      -0.060       0.099\n",
      "ExterCond_Gd              0.0200      0.036      0.560      0.576      -0.050       0.090\n",
      "ExterCond_Po           2.752e-16    2.6e-16      1.057      0.290   -2.35e-16    7.86e-16\n",
      "ExterCond_TA              0.0384      0.035      1.084      0.279      -0.031       0.108\n",
      "Foundation_CBlock         0.0083      0.011      0.766      0.444      -0.013       0.029\n",
      "Foundation_PConc          0.0263      0.012      2.193      0.028       0.003       0.050\n",
      "Foundation_Slab          -0.0334      0.032     -1.029      0.304      -0.097       0.030\n",
      "Foundation_Stone          0.0123      0.042      0.291      0.771      -0.071       0.095\n",
      "Foundation_Wood           0.0424      0.055      0.765      0.445      -0.066       0.151\n",
      "BsmtQual_Fa              -0.0724      0.021     -3.448      0.001      -0.114      -0.031\n",
      "BsmtQual_Gd              -0.0454      0.012     -3.874      0.000      -0.068      -0.022\n",
      "BsmtQual_None            -0.0506      0.036     -1.420      0.156      -0.120       0.019\n",
      "BsmtQual_Po               0.1324      0.094      1.412      0.158      -0.052       0.316\n",
      "BsmtQual_TA              -0.0538      0.015     -3.690      0.000      -0.082      -0.025\n",
      "BsmtCond_Fa               0.0499      0.065      0.763      0.446      -0.078       0.178\n",
      "BsmtCond_Gd               0.0478      0.065      0.740      0.459      -0.079       0.174\n",
      "BsmtCond_None            -0.0506      0.036     -1.420      0.156      -0.120       0.019\n",
      "BsmtCond_Po               0.1719      0.094      1.824      0.068      -0.013       0.357\n",
      "BsmtCond_TA               0.0392      0.064      0.614      0.539      -0.086       0.164\n",
      "BsmtExposure_Gd           0.0283      0.011      2.693      0.007       0.008       0.049\n",
      "BsmtExposure_Mn          -0.0193      0.011     -1.806      0.071      -0.040       0.002\n",
      "BsmtExposure_No          -0.0141      0.008     -1.738      0.082      -0.030       0.002\n",
      "HeatingQC_Fa             -0.0308      0.015     -2.002      0.045      -0.061      -0.001\n",
      "HeatingQC_Gd             -0.0100      0.007     -1.396      0.163      -0.024       0.004\n",
      "HeatingQC_Po             -0.1024      0.114     -0.899      0.369      -0.326       0.121\n",
      "HeatingQC_TA             -0.0249      0.007     -3.551      0.000      -0.039      -0.011\n",
      "CentralAir_Y              0.0374      0.013      2.829      0.005       0.011       0.063\n",
      "Electrical_FuseF         -0.0372      0.022     -1.670      0.095      -0.081       0.006\n",
      "Electrical_FuseP          0.0464      0.047      0.991      0.322      -0.045       0.138\n",
      "Electrical_SBrkr         -0.0139      0.010     -1.373      0.170      -0.034       0.006\n",
      "KitchenQual_Fa           -0.0727      0.022     -3.275      0.001      -0.116      -0.029\n",
      "KitchenQual_Gd           -0.0612      0.014     -4.529      0.000      -0.088      -0.035\n",
      "KitchenQual_Po        -1.274e-16   1.13e-16     -1.129      0.259   -3.49e-16    9.39e-17\n",
      "KitchenQual_TA           -0.0694      0.015     -4.700      0.000      -0.098      -0.040\n",
      "Functional_Maj2          -0.0973      0.050     -1.932      0.054      -0.196       0.001\n",
      "Functional_Min1           0.0915      0.032      2.903      0.004       0.030       0.153\n",
      "Functional_Min2           0.0922      0.031      2.927      0.003       0.030       0.154\n",
      "Functional_Mod            0.0830      0.036      2.329      0.020       0.013       0.153\n",
      "Functional_Sal           -0.3604      0.117     -3.084      0.002      -0.590      -0.131\n",
      "Functional_Typ            0.1145      0.028      4.128      0.000       0.060       0.169\n",
      "FireplaceQu_Fa           -0.0355      0.025     -1.429      0.153      -0.084       0.013\n",
      "FireplaceQu_Gd           -0.0162      0.020     -0.804      0.422      -0.056       0.023\n",
      "FireplaceQu_None         -0.0276      0.023     -1.205      0.228      -0.073       0.017\n",
      "FireplaceQu_Po           -0.0380      0.027     -1.404      0.160      -0.091       0.015\n",
      "FireplaceQu_TA           -0.0310      0.021     -1.503      0.133      -0.071       0.009\n",
      "GarageType_Attchd         0.0732      0.027      2.720      0.007       0.020       0.126\n",
      "GarageType_Basment        0.0724      0.037      1.977      0.048       0.001       0.144\n",
      "GarageType_BuiltIn        0.0722      0.029      2.505      0.012       0.016       0.129\n",
      "GarageType_CarPort        0.0070      0.050      0.141      0.888      -0.090       0.104\n",
      "GarageType_Detchd         0.0621      0.027      2.328      0.020       0.010       0.114\n",
      "GarageType_None           0.0077      0.146      0.053      0.958      -0.278       0.293\n",
      "GarageFinish_None         0.0121      0.053      0.228      0.819      -0.091       0.116\n",
      "GarageFinish_RFn          0.0005      0.007      0.076      0.940      -0.013       0.014\n",
      "GarageFinish_Unf          0.0032      0.008      0.388      0.698      -0.013       0.019\n",
      "GarageQual_Fa            -0.2387      0.093     -2.555      0.011      -0.422      -0.055\n",
      "GarageQual_Gd            -0.1988      0.093     -2.147      0.032      -0.380      -0.017\n",
      "GarageQual_None           0.0121      0.053      0.228      0.819      -0.091       0.116\n",
      "GarageQual_Po            -0.3854      0.116     -3.317      0.001      -0.613      -0.158\n",
      "GarageQual_TA            -0.2250      0.093     -2.431      0.015      -0.407      -0.043\n",
      "GarageCond_Fa             0.1653      0.090      1.835      0.067      -0.011       0.342\n",
      "GarageCond_Gd             0.1688      0.093      1.817      0.069      -0.013       0.351\n",
      "GarageCond_None           0.0121      0.053      0.228      0.819      -0.091       0.116\n",
      "GarageCond_Po             0.2000      0.098      2.041      0.041       0.008       0.392\n",
      "GarageCond_TA             0.1950      0.089      2.202      0.028       0.021       0.369\n",
      "PavedDrive_P              0.0035      0.018      0.193      0.847      -0.032       0.039\n",
      "PavedDrive_Y              0.0255      0.012      2.189      0.029       0.003       0.048\n",
      "Fence_GdWo               -0.0029      0.016     -0.177      0.859      -0.035       0.029\n",
      "Fence_MnPrv              -0.0051      0.013     -0.389      0.697      -0.031       0.021\n",
      "Fence_MnWw               -0.0152      0.036     -0.425      0.671      -0.085       0.055\n",
      "Fence_None               -0.0023      0.012     -0.193      0.847      -0.025       0.021\n",
      "SaleCondition_AdjLand     0.0271      0.084      0.320      0.749      -0.139       0.193\n",
      "SaleCondition_Alloca      0.1181      0.065      1.812      0.070      -0.010       0.246\n",
      "SaleCondition_Family     -0.0843      0.031     -2.691      0.007      -0.146      -0.023\n",
      "SaleCondition_Normal      0.0499      0.016      3.114      0.002       0.018       0.081\n",
      "SaleCondition_Partial     0.0945      0.021      4.557      0.000       0.054       0.135\n",
      "SchD_S_5                  0.0200      0.009      2.117      0.034       0.001       0.038\n",
      "==============================================================================\n",
      "Omnibus:                      335.426   Durbin-Watson:                   2.052\n",
      "Prob(Omnibus):                  0.000   Jarque-Bera (JB):             2315.590\n",
      "Skew:                          -0.509   Prob(JB):                         0.00\n",
      "Kurtosis:                       7.873   Cond. No.                     8.41e+18\n",
      "==============================================================================\n",
      "\n",
      "Warnings:\n",
      "[1] Standard Errors assume that the covariance matrix of the errors is correctly specified.\n",
      "[2] The smallest eigenvalue is 5.69e-27. This might indicate that there are\n",
      "strong multicollinearity problems or that the design matrix is singular.\n"
     ]
    },
    {
     "data": {
      "text/plain": [
       "const                    1.217777e-13\n",
       "Distance                 2.247028e-08\n",
       "LotArea                  3.006918e-15\n",
       "OverallQual              6.107765e-66\n",
       "OverallCond              7.502397e-34\n",
       "YearBuilt                6.279212e-08\n",
       "YearRemodAdd             3.109154e-03\n",
       "TotRmsAbvGrd             1.751382e-27\n",
       "Fireplaces               3.976665e-07\n",
       "GarageCars               6.319923e-03\n",
       "GarageArea               1.237243e-09\n",
       "OpenPorchSF              1.455422e-04\n",
       "ScreenPorch              2.492661e-07\n",
       "MasVnrArea2              3.749355e-02\n",
       "total_LivArea            3.052351e-93\n",
       "num_bathroom             8.908032e-05\n",
       "MSSubClass_30            2.056005e-02\n",
       "MSSubClass_90            1.114662e-02\n",
       "MSZoning_FV              6.386606e-13\n",
       "MSZoning_I (all)         4.887759e-02\n",
       "MSZoning_RH              1.870698e-05\n",
       "MSZoning_RL              4.952866e-11\n",
       "MSZoning_RM              5.696572e-07\n",
       "LandContour_HLS          1.328972e-03\n",
       "LandContour_Lvl          3.450664e-02\n",
       "LandSlope_Mod            3.996790e-02\n",
       "LandSlope_Sev            1.396459e-02\n",
       "Condition1_Norm          1.258764e-08\n",
       "Condition1_PosA          6.012219e-05\n",
       "Condition1_PosN          3.299677e-06\n",
       "Condition2_Feedr         4.144704e-02\n",
       "Condition2_PosN          2.253284e-07\n",
       "BldgType_Duplex          1.114662e-02\n",
       "BldgType_Twnhs           3.488689e-03\n",
       "BldgType_TwnhsE          1.612020e-02\n",
       "RoofMatl_WdShngl         4.360933e-03\n",
       "Exterior1st_BrkComm      3.159497e-04\n",
       "Exterior1st_BrkFace      1.659743e-04\n",
       "Exterior1st_PreCast      5.430753e-04\n",
       "Exterior2nd_PreCast      5.430753e-04\n",
       "Foundation_PConc         2.844536e-02\n",
       "BsmtQual_Fa              5.770608e-04\n",
       "BsmtQual_Gd              1.103611e-04\n",
       "BsmtQual_TA              2.299670e-04\n",
       "BsmtExposure_Gd          7.142709e-03\n",
       "HeatingQC_Fa             4.543972e-02\n",
       "HeatingQC_TA             3.927855e-04\n",
       "CentralAir_Y             4.712020e-03\n",
       "KitchenQual_Fa           1.074399e-03\n",
       "KitchenQual_Gd           6.265612e-06\n",
       "KitchenQual_TA           2.775426e-06\n",
       "Functional_Min1          3.737313e-03\n",
       "Functional_Min2          3.458030e-03\n",
       "Functional_Mod           1.996248e-02\n",
       "Functional_Sal           2.068051e-03\n",
       "Functional_Typ           3.805791e-05\n",
       "GarageType_Attchd        6.579148e-03\n",
       "GarageType_Basment       4.821560e-02\n",
       "GarageType_BuiltIn       1.231587e-02\n",
       "GarageType_Detchd        2.003255e-02\n",
       "GarageQual_Fa            1.069574e-02\n",
       "GarageQual_Gd            3.187331e-02\n",
       "GarageQual_Po            9.269584e-04\n",
       "GarageQual_TA            1.515548e-02\n",
       "GarageCond_Po            4.135981e-02\n",
       "GarageCond_TA            2.774860e-02\n",
       "PavedDrive_Y             2.872318e-02\n",
       "SaleCondition_Family     7.189929e-03\n",
       "SaleCondition_Normal     1.872588e-03\n",
       "SaleCondition_Partial    5.496961e-06\n",
       "SchD_S_5                 3.439207e-02\n",
       "dtype: float64"
      ]
     },
     "execution_count": 9,
     "metadata": {},
     "output_type": "execute_result"
    },
    {
     "name": "stderr",
     "output_type": "stream",
     "text": [
      "C:\\Users\\aznan\\anaconda3\\lib\\site-packages\\statsmodels\\stats\\outliers_influence.py:193: RuntimeWarning: divide by zero encountered in double_scalars\n",
      "  vif = 1. / (1. - r_squared_i)\n"
     ]
    },
    {
     "name": "stdout",
     "output_type": "stream",
     "text": [
      "                  feature           VIF\n",
      "0                Distance  1.733094e+01\n",
      "1                 LotArea  4.535944e+00\n",
      "2             OverallQual  6.944906e+01\n",
      "3             OverallCond  4.826939e+01\n",
      "4               YearBuilt  1.614602e+04\n",
      "5            YearRemodAdd  1.662665e+04\n",
      "6            TotRmsAbvGrd  4.147561e+01\n",
      "7              Fireplaces  3.056007e+00\n",
      "8              GarageCars  4.480739e+01\n",
      "9              GarageArea  3.430907e+01\n",
      "10            OpenPorchSF  3.176855e+00\n",
      "11            ScreenPorch  1.203835e+00\n",
      "12            MasVnrArea2  2.447298e+00\n",
      "13          total_LivArea  1.469745e+03\n",
      "14           num_bathroom  2.381829e+01\n",
      "15          MSSubClass_30  1.440441e+00\n",
      "16          MSSubClass_90           inf\n",
      "17            MSZoning_FV  9.381444e+00\n",
      "18       MSZoning_I (all)  1.191444e+00\n",
      "19            MSZoning_RH  2.137131e+00\n",
      "20            MSZoning_RL  1.434239e+02\n",
      "21            MSZoning_RM  2.852436e+01\n",
      "22        LandContour_HLS  1.837600e+00\n",
      "23        LandContour_Lvl  2.341635e+01\n",
      "24          LandSlope_Mod  1.442284e+00\n",
      "25          LandSlope_Sev  1.579160e+00\n",
      "26        Condition1_Norm  9.807132e+00\n",
      "27        Condition1_PosA  1.115954e+00\n",
      "28        Condition1_PosN  1.286723e+00\n",
      "29       Condition2_Feedr  1.079940e+00\n",
      "30        Condition2_PosN  1.148475e+00\n",
      "31        BldgType_Duplex           inf\n",
      "32         BldgType_Twnhs  1.364313e+00\n",
      "33        BldgType_TwnhsE  1.590705e+00\n",
      "34       RoofMatl_WdShngl  1.072008e+00\n",
      "35    Exterior1st_BrkComm  1.081302e+00\n",
      "36    Exterior1st_BrkFace  1.139579e+00\n",
      "37    Exterior1st_PreCast           inf\n",
      "38    Exterior2nd_PreCast           inf\n",
      "39       Foundation_PConc  4.571115e+00\n",
      "40            BsmtQual_Fa  1.692873e+00\n",
      "41            BsmtQual_Gd  6.875177e+00\n",
      "42            BsmtQual_TA  9.273827e+00\n",
      "43        BsmtExposure_Gd  1.539100e+00\n",
      "44           HeatingQC_Fa  1.284286e+00\n",
      "45           HeatingQC_TA  2.078217e+00\n",
      "46           CentralAir_Y  2.653195e+01\n",
      "47         KitchenQual_Fa  2.034320e+00\n",
      "48         KitchenQual_Gd  1.101482e+01\n",
      "49         KitchenQual_TA  1.756882e+01\n",
      "50        Functional_Min1  3.219827e+00\n",
      "51        Functional_Min2  3.527395e+00\n",
      "52         Functional_Mod  2.094280e+00\n",
      "53         Functional_Sal  1.124971e+00\n",
      "54         Functional_Typ  9.495908e+01\n",
      "55      GarageType_Attchd  5.195503e+01\n",
      "56     GarageType_Basment  1.932335e+00\n",
      "57     GarageType_BuiltIn  6.565139e+00\n",
      "58      GarageType_Detchd  2.371314e+01\n",
      "59          GarageQual_Fa  6.901318e+00\n",
      "60          GarageQual_Gd  2.194665e+00\n",
      "61          GarageQual_Po  1.518562e+00\n",
      "62          GarageQual_TA  1.345943e+02\n",
      "63          GarageCond_Po  1.457612e+00\n",
      "64          GarageCond_TA  3.791618e+01\n",
      "65           PavedDrive_Y  1.693218e+01\n",
      "66   SaleCondition_Family  1.346431e+00\n",
      "67   SaleCondition_Normal  4.175277e+01\n",
      "68  SaleCondition_Partial  2.712220e+00\n",
      "69               SchD_S_5  2.011786e+00\n"
     ]
    }
   ],
   "source": [
    "lin_reg = LinearRegression().fit(X_train_orig, y_train_orig)\n",
    "lin_reg.score(X_train_orig, y_train_orig)\n",
    "\n",
    "x_feature = sm.add_constant(X_train_orig)\n",
    "\n",
    "model = sm.OLS(y_train_orig, x_feature)\n",
    "results_feature = model.fit()\n",
    "print(results_feature.summary())\n",
    "pValue = results_feature.pvalues\n",
    "pValue[pValue<0.05]\n",
    "\n",
    "#X_vif = X_train_dum[pValue[pValue<0.05].index]\n",
    "X_vif = X_train_orig[pValue[pValue<0.05].drop('const').index]\n",
    "vif_data = pd.DataFrame() \n",
    "vif_data[\"feature\"] = X_vif.columns\n",
    "vif_data[\"VIF\"] = [variance_inflation_factor(X_vif.values, i) \n",
    "                          for i in range(len(X_vif.columns))] \n",
    "print(vif_data)"
   ]
  },
  {
   "cell_type": "code",
   "execution_count": 10,
   "metadata": {},
   "outputs": [
    {
     "data": {
      "text/plain": [
       "0.9321469682347108"
      ]
     },
     "execution_count": 10,
     "metadata": {},
     "output_type": "execute_result"
    },
    {
     "data": {
      "text/plain": [
       "0.8670913091600575"
      ]
     },
     "execution_count": 10,
     "metadata": {},
     "output_type": "execute_result"
    }
   ],
   "source": [
    "lin_reg.score(X_train_orig, y_train_orig)\n",
    "lin_reg.score(X_test_orig, y_test_orig)"
   ]
  },
  {
   "cell_type": "markdown",
   "metadata": {},
   "source": [
    "#### minimum sample/class size"
   ]
  },
  {
   "cell_type": "code",
   "execution_count": 11,
   "metadata": {},
   "outputs": [
    {
     "data": {
      "text/plain": [
       "53.87076177104101"
      ]
     },
     "execution_count": 11,
     "metadata": {},
     "output_type": "execute_result"
    }
   ],
   "source": [
    "(1.96 * statistics.stdev(ames_df_use['SalePrice']) / 20000)**2"
   ]
  },
  {
   "cell_type": "markdown",
   "metadata": {},
   "source": [
    "#### feature engineering"
   ]
  },
  {
   "cell_type": "code",
   "execution_count": 12,
   "metadata": {},
   "outputs": [],
   "source": [
    "def feature_eng(df):\n",
    "    # calculate age of building\n",
    "    df['BldgAge'] = df['YrSold'] - df['YearBuilt']\n",
    "    #effectiveage: df['BldgAge'] = df['YearBuilt'] - df['YearRemodAdd']\n",
    "\n",
    "    # binarize YearRemodAdd\n",
    "    df['Remodeled'] = np.where(df['YearRemodAdd'] == df['YearBuilt'], 0, 1)\n",
    "\n",
    "    # binarize MSSubClass to PUD or not PUD\n",
    "    df['IsPUD'] = np.where(df['MSSubClass'].isin(['120','150','160','180']), 1, 0)\n",
    "    \n",
    "    # binarize LotShape to Reg/not Reg\n",
    "    df['LotIsReg'] = np.where(df['LotShape']=='Reg', 1, 0)\n",
    "    \n",
    "    # binarize LandContour to HLS and Low vs not HLS or Low\n",
    "    df['HillORDepr'] = np.where(df['LandContour'].isin(['HLS','Low']), 1, 0)\n",
    "    \n",
    "    # binarize Condition1/2 to positive feature or no positive feature\n",
    "    df['PosFeat'] = np.where(df['Condition1'].isin(['PosN','PosA'])|df['Condition2'].isin(['PosN','PosA']), 1, 0)\n",
    "    \n",
    "    # combine exterior material 1/2 to one column\n",
    "    df['ExtMatl'] = np.where((df['Exterior1st']==df['Exterior2nd']),df['Exterior1st'], 'Mixed')\n",
    "    \n",
    "    # simply qual/cond features\n",
    "    for col in ['ExterQual','BsmtQual','KitchenQual','FireplaceQu','GarageQual','ExterCond',\\\n",
    "                'BsmtCond','GarageCond','HeatingQC']:\n",
    "        df[col+'_num'] = df[col].replace(['Ex','Gd','TA','Fa','Po','None'],[10,8,6,4,2,0])\n",
    "\n",
    "    # sum up porch/housefront area\n",
    "    df['TotalPorchSF'] = df['OpenPorchSF'] + df['3SsnPorch'] + df['EnclosedPorch'] +\\\n",
    "                                df['ScreenPorch'] + df['WoodDeckSF']\n",
    "    \n",
    "    # binarize fences to having a fence or not having a fence\n",
    "    df['HasFence'] = np.where(df['Fence']=='None', 0, 1)\n",
    "\n",
    "    # simplify Functional to 3 classes\n",
    "    df['Funct_3'] = df['Functional'].replace(['Maj1', 'Maj2', 'Min1', 'Min2', 'Mod', 'Sal', 'Typ'],\\\n",
    "                                             ['ModToSev','ModToSev','Minor','Minor','ModToSev','ModToSev','Normal'])\n",
    "    \n",
    "    # drop the original columns or unused columns\n",
    "    df = df.drop(['MSSubClass','YearBuilt','YearRemodAdd','LotFrontage','LotArea','LotConfig','LandSlope',\\\n",
    "                  'Condition1','Condition2','Exterior1st','Exterior2nd','LotShape','LandContour',\\\n",
    "                  'OpenPorchSF','3SsnPorch','EnclosedPorch','ScreenPorch','WoodDeckSF',\\\n",
    "                  'Fence','Functional','ExterQual','BsmtQual','KitchenQual','FireplaceQu',\\\n",
    "                  'GarageQual','ExterCond','BsmtCond','GarageCond','HeatingQC',\\\n",
    "                  'GarageCars','RoofStyle','RoofMatl','KitchenAbvGr'],\\\n",
    "                 axis = 1)\n",
    "    return df"
   ]
  },
  {
   "cell_type": "code",
   "execution_count": 13,
   "metadata": {},
   "outputs": [],
   "source": [
    "ames_df_eng = feature_eng(ames_df_use)"
   ]
  },
  {
   "cell_type": "code",
   "execution_count": 14,
   "metadata": {
    "scrolled": true
   },
   "outputs": [
    {
     "data": {
      "text/plain": [
       "Index(['SalePrice', 'Distance', 'MSZoning', 'Alley', 'BldgType', 'HouseStyle',\n",
       "       'OverallQual', 'OverallCond', 'Foundation', 'BsmtExposure',\n",
       "       'CentralAir', 'Electrical', 'TotRmsAbvGrd', 'Fireplaces', 'GarageType',\n",
       "       'GarageFinish', 'GarageArea', 'PavedDrive', 'MoSold', 'YrSold',\n",
       "       'SaleCondition', 'MasVnrArea2', 'total_LivArea', 'num_bathroom',\n",
       "       'SchD_S', 'BldgAge', 'Remodeled', 'IsPUD', 'LotIsReg', 'HillORDepr',\n",
       "       'PosFeat', 'ExtMatl', 'ExterQual_num', 'BsmtQual_num',\n",
       "       'KitchenQual_num', 'FireplaceQu_num', 'GarageQual_num', 'ExterCond_num',\n",
       "       'BsmtCond_num', 'GarageCond_num', 'HeatingQC_num', 'TotalPorchSF',\n",
       "       'HasFence', 'Funct_3'],\n",
       "      dtype='object')"
      ]
     },
     "execution_count": 14,
     "metadata": {},
     "output_type": "execute_result"
    }
   ],
   "source": [
    "ames_df_eng.columns"
   ]
  },
  {
   "cell_type": "markdown",
   "metadata": {},
   "source": [
    "#### dummification and log transformation"
   ]
  },
  {
   "cell_type": "code",
   "execution_count": 15,
   "metadata": {},
   "outputs": [
    {
     "name": "stdout",
     "output_type": "stream",
     "text": [
      "(2557, 89)\n",
      "(2557, 89)\n"
     ]
    }
   ],
   "source": [
    "# dummify the dataset\n",
    "ames_df_dum = pd.get_dummies(ames_df_eng, drop_first=True)\n",
    "print(ames_df_dum.shape)\n",
    "print(ames_df_dum.shape)\n",
    "\n",
    "# apply log()\n",
    "ames_df_dum['SalePrice'] = np.log(ames_df_dum['SalePrice'])\n",
    "ames_df_dum['total_LivArea'] = np.log(ames_df_dum['total_LivArea'])\n",
    "#ames_df_dum['Distance'] = np.log(X_train_dum['Distance'])\n",
    "ames_df_dum['TotalPorchSF'] = np.log(ames_df_dum['TotalPorchSF']+1)"
   ]
  },
  {
   "cell_type": "code",
   "execution_count": 16,
   "metadata": {},
   "outputs": [
    {
     "name": "stdout",
     "output_type": "stream",
     "text": [
      "(2243, 89)\n",
      "(314, 89)\n"
     ]
    }
   ],
   "source": [
    "train = ames_df_dum[ames_df_dum['YrSold']!=2010]\n",
    "test = ames_df_dum[ames_df_dum['YrSold']==2010]\n",
    "print(train.shape)\n",
    "print(test.shape)\n",
    "\n",
    "X_train = train.drop(['SalePrice','YrSold'],axis=1)\n",
    "y_train = train['SalePrice']\n",
    "X_test = test.drop(['SalePrice','YrSold'],axis=1)\n",
    "y_test = test['SalePrice']"
   ]
  },
  {
   "cell_type": "markdown",
   "metadata": {},
   "source": [
    "#### linear regression, p-values, and VIFs"
   ]
  },
  {
   "cell_type": "code",
   "execution_count": 17,
   "metadata": {
    "scrolled": false
   },
   "outputs": [
    {
     "data": {
      "text/plain": [
       "0.9170440020274087"
      ]
     },
     "execution_count": 17,
     "metadata": {},
     "output_type": "execute_result"
    },
    {
     "name": "stdout",
     "output_type": "stream",
     "text": [
      "                            OLS Regression Results                            \n",
      "==============================================================================\n",
      "Dep. Variable:              SalePrice   R-squared:                       0.917\n",
      "Model:                            OLS   Adj. R-squared:                  0.914\n",
      "Method:                 Least Squares   F-statistic:                     273.8\n",
      "Date:                Sun, 29 Nov 2020   Prob (F-statistic):               0.00\n",
      "Time:                        20:57:55   Log-Likelihood:                 1766.5\n",
      "No. Observations:                2243   AIC:                            -3357.\n",
      "Df Residuals:                    2155   BIC:                            -2854.\n",
      "Df Model:                          87                                         \n",
      "Covariance Type:            nonrobust                                         \n",
      "=========================================================================================\n",
      "                            coef    std err          t      P>|t|      [0.025      0.975]\n",
      "-----------------------------------------------------------------------------------------\n",
      "const                     8.2750      0.105     78.678      0.000       8.069       8.481\n",
      "Distance                 -0.0145      0.003     -4.270      0.000      -0.021      -0.008\n",
      "Alley                    -0.0082      0.012     -0.711      0.477      -0.031       0.014\n",
      "OverallQual               0.0645      0.003     18.890      0.000       0.058       0.071\n",
      "OverallCond               0.0402      0.003     13.738      0.000       0.034       0.046\n",
      "TotRmsAbvGrd              0.0313      0.003     12.165      0.000       0.026       0.036\n",
      "Fireplaces                0.0459      0.008      5.925      0.000       0.031       0.061\n",
      "GarageArea                0.0002   1.86e-05     11.969      0.000       0.000       0.000\n",
      "MoSold                   -0.0006      0.001     -0.663      0.508      -0.002       0.001\n",
      "MasVnrArea2               0.0113      0.006      1.902      0.057      -0.000       0.023\n",
      "total_LivArea             0.2859      0.013     22.569      0.000       0.261       0.311\n",
      "num_bathroom              0.0204      0.005      3.944      0.000       0.010       0.031\n",
      "BldgAge                  -0.0011      0.000     -4.789      0.000      -0.002      -0.001\n",
      "Remodeled                -0.0107      0.006     -1.787      0.074      -0.022       0.001\n",
      "IsPUD                     0.0186      0.052      0.361      0.718      -0.083       0.120\n",
      "LotIsReg                 -0.0127      0.006     -2.299      0.022      -0.024      -0.002\n",
      "HillORDepr                0.0506      0.011      4.571      0.000       0.029       0.072\n",
      "PosFeat                   0.0200      0.017      1.208      0.227      -0.012       0.052\n",
      "ExterQual_num             0.0092      0.004      2.463      0.014       0.002       0.017\n",
      "BsmtQual_num              0.0144      0.003      4.951      0.000       0.009       0.020\n",
      "KitchenQual_num           0.0131      0.003      4.529      0.000       0.007       0.019\n",
      "FireplaceQu_num           0.0020      0.001      1.366      0.172      -0.001       0.005\n",
      "GarageQual_num            0.0019      0.006      0.328      0.743      -0.009       0.013\n",
      "ExterCond_num            -0.0046      0.004     -1.256      0.209      -0.012       0.003\n",
      "BsmtCond_num             -0.0005      0.004     -0.142      0.887      -0.007       0.006\n",
      "GarageCond_num            0.0072      0.006      1.153      0.249      -0.005       0.019\n",
      "HeatingQC_num             0.0063      0.002      3.714      0.000       0.003       0.010\n",
      "TotalPorchSF              0.0036      0.001      2.598      0.009       0.001       0.006\n",
      "HasFence                 -0.0074      0.006     -1.143      0.253      -0.020       0.005\n",
      "MSZoning_FV               0.2514      0.037      6.888      0.000       0.180       0.323\n",
      "MSZoning_I (all)          0.2476      0.124      1.995      0.046       0.004       0.491\n",
      "MSZoning_RH               0.1520      0.045      3.408      0.001       0.065       0.240\n",
      "MSZoning_RL               0.1975      0.033      5.964      0.000       0.133       0.262\n",
      "MSZoning_RM               0.1387      0.033      4.215      0.000       0.074       0.203\n",
      "BldgType_2fmCon          -0.0545      0.019     -2.879      0.004      -0.092      -0.017\n",
      "BldgType_Duplex          -0.1036      0.017     -6.148      0.000      -0.137      -0.071\n",
      "BldgType_Twnhs           -0.1330      0.053     -2.494      0.013      -0.238      -0.028\n",
      "BldgType_TwnhsE          -0.0846      0.052     -1.626      0.104      -0.187       0.017\n",
      "HouseStyle_1.5Unf         0.0217      0.028      0.778      0.437      -0.033       0.076\n",
      "HouseStyle_1Story         0.0181      0.010      1.815      0.070      -0.001       0.038\n",
      "HouseStyle_2.5Fin        -0.0730      0.049     -1.499      0.134      -0.168       0.023\n",
      "HouseStyle_2.5Unf         0.0072      0.029      0.252      0.801      -0.049       0.064\n",
      "HouseStyle_2Story        -0.0344      0.010     -3.425      0.001      -0.054      -0.015\n",
      "HouseStyle_SFoyer        -0.0362      0.020     -1.854      0.064      -0.075       0.002\n",
      "HouseStyle_SLvl          -0.0524      0.015     -3.417      0.001      -0.083      -0.022\n",
      "Foundation_CBlock         0.0129      0.011      1.202      0.230      -0.008       0.034\n",
      "Foundation_PConc          0.0296      0.012      2.410      0.016       0.006       0.054\n",
      "Foundation_Slab           0.0070      0.030      0.238      0.812      -0.051       0.065\n",
      "Foundation_Stone          0.0352      0.042      0.836      0.403      -0.047       0.118\n",
      "Foundation_Wood           0.0638      0.059      1.090      0.276      -0.051       0.179\n",
      "BsmtExposure_Gd           0.0404      0.011      3.744      0.000       0.019       0.062\n",
      "BsmtExposure_Mn          -0.0238      0.011     -2.150      0.032      -0.046      -0.002\n",
      "BsmtExposure_No          -0.0201      0.008     -2.461      0.014      -0.036      -0.004\n",
      "CentralAir_Y              0.0333      0.013      2.505      0.012       0.007       0.059\n",
      "Electrical_FuseF         -0.0370      0.022     -1.656      0.098      -0.081       0.007\n",
      "Electrical_FuseP         -0.0042      0.046     -0.090      0.928      -0.095       0.087\n",
      "Electrical_SBrkr         -0.0169      0.010     -1.614      0.107      -0.037       0.004\n",
      "GarageType_Attchd         0.0416      0.028      1.491      0.136      -0.013       0.096\n",
      "GarageType_Basment        0.0347      0.037      0.938      0.348      -0.038       0.107\n",
      "GarageType_BuiltIn        0.0336      0.030      1.128      0.259      -0.025       0.092\n",
      "GarageType_CarPort       -0.0090      0.051     -0.175      0.861      -0.110       0.092\n",
      "GarageType_Detchd         0.0263      0.028      0.951      0.342      -0.028       0.081\n",
      "GarageType_None          -0.0264      0.122     -0.215      0.829      -0.266       0.214\n",
      "GarageFinish_None         0.1139      0.125      0.914      0.361      -0.131       0.358\n",
      "GarageFinish_RFn          0.0014      0.007      0.197      0.843      -0.012       0.015\n",
      "GarageFinish_Unf          0.0068      0.009      0.795      0.427      -0.010       0.024\n",
      "PavedDrive_P              0.0096      0.019      0.517      0.605      -0.027       0.046\n",
      "PavedDrive_Y              0.0361      0.012      3.038      0.002       0.013       0.059\n",
      "SaleCondition_AdjLand     0.0583      0.084      0.693      0.488      -0.107       0.223\n",
      "SaleCondition_Alloca      0.1265      0.069      1.834      0.067      -0.009       0.262\n",
      "SaleCondition_Family     -0.0821      0.033     -2.493      0.013      -0.147      -0.018\n",
      "SaleCondition_Normal      0.0576      0.016      3.509      0.000       0.025       0.090\n",
      "SaleCondition_Partial     0.1085      0.021      5.077      0.000       0.067       0.150\n",
      "SchD_S_5                  0.0327      0.009      3.439      0.001       0.014       0.051\n",
      "ExtMatl_AsphShn           0.0941      0.119      0.792      0.428      -0.139       0.327\n",
      "ExtMatl_BrkFace           0.0890      0.030      2.975      0.003       0.030       0.148\n",
      "ExtMatl_CBlock           -0.1180      0.117     -1.012      0.312      -0.347       0.111\n",
      "ExtMatl_HdBoard           0.0083      0.025      0.339      0.734      -0.040       0.057\n",
      "ExtMatl_ImStucc           0.0325      0.116      0.281      0.779      -0.194       0.259\n",
      "ExtMatl_MetalSd           0.0389      0.024      1.614      0.107      -0.008       0.086\n",
      "ExtMatl_Mixed             0.0282      0.024      1.161      0.246      -0.019       0.076\n",
      "ExtMatl_Plywood           0.0054      0.026      0.210      0.834      -0.045       0.056\n",
      "ExtMatl_PreCast           0.4199      0.117      3.586      0.000       0.190       0.650\n",
      "ExtMatl_Stucco            0.0340      0.033      1.036      0.300      -0.030       0.098\n",
      "ExtMatl_VinylSd           0.0202      0.024      0.831      0.406      -0.027       0.068\n",
      "ExtMatl_Wd Sdng           0.0141      0.024      0.586      0.558      -0.033       0.061\n",
      "Funct_3_ModToSev         -0.0564      0.020     -2.826      0.005      -0.096      -0.017\n",
      "Funct_3_Normal            0.0186      0.012      1.550      0.121      -0.005       0.042\n",
      "==============================================================================\n",
      "Omnibus:                      503.057   Durbin-Watson:                   2.072\n",
      "Prob(Omnibus):                  0.000   Jarque-Bera (JB):             5118.760\n",
      "Skew:                          -0.758   Prob(JB):                         0.00\n",
      "Kurtosis:                      10.244   Cond. No.                     3.73e+04\n",
      "==============================================================================\n",
      "\n",
      "Warnings:\n",
      "[1] Standard Errors assume that the covariance matrix of the errors is correctly specified.\n",
      "[2] The condition number is large, 3.73e+04. This might indicate that there are\n",
      "strong multicollinearity or other numerical problems.\n"
     ]
    },
    {
     "data": {
      "text/plain": [
       "const                     0.000000e+00\n",
       "Distance                  2.039749e-05\n",
       "OverallQual               9.004325e-74\n",
       "OverallCond               3.116463e-41\n",
       "TotRmsAbvGrd              5.627140e-33\n",
       "Fireplaces                3.621850e-09\n",
       "GarageArea                5.232993e-32\n",
       "total_LivArea            2.016258e-101\n",
       "num_bathroom              8.279832e-05\n",
       "BldgAge                   1.790871e-06\n",
       "LotIsReg                  2.159964e-02\n",
       "HillORDepr                5.137700e-06\n",
       "ExterQual_num             1.384016e-02\n",
       "BsmtQual_num              7.967216e-07\n",
       "KitchenQual_num           6.237743e-06\n",
       "HeatingQC_num             2.090769e-04\n",
       "TotalPorchSF              9.436876e-03\n",
       "MSZoning_FV               7.411762e-12\n",
       "MSZoning_I (all)          4.612259e-02\n",
       "MSZoning_RH               6.659612e-04\n",
       "MSZoning_RL               2.871565e-09\n",
       "MSZoning_RM               2.604717e-05\n",
       "BldgType_2fmCon           4.027566e-03\n",
       "BldgType_Duplex           9.304687e-10\n",
       "BldgType_Twnhs            1.271284e-02\n",
       "HouseStyle_2Story         6.255064e-04\n",
       "HouseStyle_SLvl           6.458371e-04\n",
       "Foundation_PConc          1.604618e-02\n",
       "BsmtExposure_Gd           1.855994e-04\n",
       "BsmtExposure_Mn           3.169432e-02\n",
       "BsmtExposure_No           1.392293e-02\n",
       "CentralAir_Y              1.231003e-02\n",
       "PavedDrive_Y              2.410876e-03\n",
       "SaleCondition_Family      1.275330e-02\n",
       "SaleCondition_Normal      4.587755e-04\n",
       "SaleCondition_Partial     4.162321e-07\n",
       "SchD_S_5                  5.946300e-04\n",
       "ExtMatl_BrkFace           2.963344e-03\n",
       "ExtMatl_PreCast           3.433221e-04\n",
       "Funct_3_ModToSev          4.751855e-03\n",
       "dtype: float64"
      ]
     },
     "execution_count": 17,
     "metadata": {},
     "output_type": "execute_result"
    },
    {
     "name": "stdout",
     "output_type": "stream",
     "text": [
      "                  feature         VIF\n",
      "0                Distance   16.625646\n",
      "1             OverallQual   71.878423\n",
      "2             OverallCond   40.513198\n",
      "3            TotRmsAbvGrd   39.758986\n",
      "4              Fireplaces    2.791724\n",
      "5              GarageArea   10.492983\n",
      "6           total_LivArea  450.866869\n",
      "7            num_bathroom   21.242537\n",
      "8                 BldgAge   12.714066\n",
      "9                LotIsReg    3.305161\n",
      "10             HillORDepr    1.205353\n",
      "11          ExterQual_num  106.523024\n",
      "12           BsmtQual_num   39.163275\n",
      "13        KitchenQual_num   72.625019\n",
      "14          HeatingQC_num   33.377068\n",
      "15           TotalPorchSF    7.133007\n",
      "16            MSZoning_FV    8.012833\n",
      "17       MSZoning_I (all)    1.138967\n",
      "18            MSZoning_RH    1.933441\n",
      "19            MSZoning_RL  122.937397\n",
      "20            MSZoning_RM   24.989622\n",
      "21        BldgType_2fmCon    1.180660\n",
      "22        BldgType_Duplex    1.371554\n",
      "23         BldgType_Twnhs    1.290013\n",
      "24      HouseStyle_2Story    2.243255\n",
      "25        HouseStyle_SLvl    1.179394\n",
      "26       Foundation_PConc    4.469463\n",
      "27        BsmtExposure_Gd    1.883483\n",
      "28        BsmtExposure_Mn    1.667982\n",
      "29        BsmtExposure_No    6.233650\n",
      "30           CentralAir_Y   25.076687\n",
      "31           PavedDrive_Y   15.751379\n",
      "32   SaleCondition_Family    1.315908\n",
      "33   SaleCondition_Normal   39.170536\n",
      "34  SaleCondition_Partial    2.605163\n",
      "35               SchD_S_5    1.774090\n",
      "36        ExtMatl_BrkFace    1.061914\n",
      "37        ExtMatl_PreCast    1.026495\n",
      "38       Funct_3_ModToSev    1.124662\n"
     ]
    }
   ],
   "source": [
    "lin_reg = LinearRegression().fit(X_train, y_train)\n",
    "lin_reg.score(X_train, y_train)\n",
    "\n",
    "x_feature = sm.add_constant(X_train)\n",
    "\n",
    "model = sm.OLS(y_train, x_feature)\n",
    "results_feature = model.fit()\n",
    "print(results_feature.summary())\n",
    "pValue = results_feature.pvalues\n",
    "pValue[pValue<0.05]\n",
    "\n",
    "#X_vif = X_train_dum[pValue[pValue<0.05].index]\n",
    "X_vif = X_train[pValue[pValue<0.05].drop('const').index]\n",
    "vif_data = pd.DataFrame() \n",
    "vif_data[\"feature\"] = X_vif.columns\n",
    "vif_data[\"VIF\"] = [variance_inflation_factor(X_vif.values, i) \n",
    "                          for i in range(len(X_vif.columns))] \n",
    "print(vif_data)"
   ]
  },
  {
   "cell_type": "markdown",
   "metadata": {},
   "source": [
    "#### train and test error"
   ]
  },
  {
   "cell_type": "code",
   "execution_count": 18,
   "metadata": {},
   "outputs": [
    {
     "data": {
      "text/plain": [
       "0.9170440020274087"
      ]
     },
     "execution_count": 18,
     "metadata": {},
     "output_type": "execute_result"
    },
    {
     "data": {
      "text/plain": [
       "0.8548036170140827"
      ]
     },
     "execution_count": 18,
     "metadata": {},
     "output_type": "execute_result"
    }
   ],
   "source": [
    "lin_reg.score(X_train, y_train)\n",
    "lin_reg.score(X_test, y_test)"
   ]
  },
  {
   "cell_type": "code",
   "execution_count": null,
   "metadata": {},
   "outputs": [],
   "source": []
  },
  {
   "cell_type": "markdown",
   "metadata": {},
   "source": [
    "#### lasso (use the original features)"
   ]
  },
  {
   "cell_type": "code",
   "execution_count": 19,
   "metadata": {},
   "outputs": [
    {
     "data": {
      "text/plain": [
       "Index(['SalePrice', 'Distance', 'MSSubClass', 'MSZoning', 'LotFrontage',\n",
       "       'LotArea', 'Alley', 'LotShape', 'LandContour', 'LotConfig', 'LandSlope',\n",
       "       'Condition1', 'Condition2', 'BldgType', 'HouseStyle', 'OverallQual',\n",
       "       'OverallCond', 'YearBuilt', 'YearRemodAdd', 'RoofStyle', 'RoofMatl',\n",
       "       'Exterior1st', 'Exterior2nd', 'ExterQual', 'ExterCond', 'Foundation',\n",
       "       'BsmtQual', 'BsmtCond', 'BsmtExposure', 'HeatingQC', 'CentralAir',\n",
       "       'Electrical', 'KitchenAbvGr', 'KitchenQual', 'TotRmsAbvGrd',\n",
       "       'Functional', 'Fireplaces', 'FireplaceQu', 'GarageType', 'GarageFinish',\n",
       "       'GarageCars', 'GarageArea', 'GarageQual', 'GarageCond', 'PavedDrive',\n",
       "       'WoodDeckSF', 'OpenPorchSF', 'EnclosedPorch', '3SsnPorch',\n",
       "       'ScreenPorch', 'Fence', 'MoSold', 'YrSold', 'SaleCondition',\n",
       "       'MasVnrArea2', 'total_LivArea', 'num_bathroom', 'SchD_S', 'BldgAge',\n",
       "       'Remodeled', 'IsPUD', 'LotIsReg', 'HillORDepr', 'PosFeat', 'ExtMatl',\n",
       "       'ExterQual_num', 'BsmtQual_num', 'KitchenQual_num', 'FireplaceQu_num',\n",
       "       'GarageQual_num', 'ExterCond_num', 'BsmtCond_num', 'GarageCond_num',\n",
       "       'HeatingQC_num', 'TotalPorchSF', 'HasFence', 'Funct_3'],\n",
       "      dtype='object')"
      ]
     },
     "execution_count": 19,
     "metadata": {},
     "output_type": "execute_result"
    }
   ],
   "source": [
    "ames_df_use.columns"
   ]
  },
  {
   "cell_type": "code",
   "execution_count": 20,
   "metadata": {},
   "outputs": [
    {
     "name": "stdout",
     "output_type": "stream",
     "text": [
      "(2557, 232)\n"
     ]
    }
   ],
   "source": [
    "# dummify the dataset\n",
    "lasso_dum = pd.get_dummies(ames_df_use, drop_first=True)\n",
    "print(lasso_dum.shape)\n",
    "\n",
    "# apply log()\n",
    "lasso_dum['SalePrice'] = np.log(lasso_dum['SalePrice'])\n",
    "lasso_dum['total_LivArea'] = np.log(lasso_dum['total_LivArea'])\n",
    "lasso_dum['LotFrontage'] = np.log(lasso_dum['LotFrontage']+1)\n",
    "lasso_dum['WoodDeckSF'] = np.log(lasso_dum['WoodDeckSF']+1)\n",
    "#lasso_dum['TotalPorchSF'] = np.log(lasso_dum['TotalPorchSF']+1)\n",
    "lasso_dum['OpenPorchSF'] = np.log(lasso_dum['OpenPorchSF']+1)\n",
    "lasso_dum['EnclosedPorch'] = np.log(lasso_dum['EnclosedPorch']+1)\n",
    "lasso_dum['3SsnPorch'] = np.log(lasso_dum['3SsnPorch']+1)\n",
    "lasso_dum['ScreenPorch'] = np.log(lasso_dum['ScreenPorch']+1)"
   ]
  },
  {
   "cell_type": "code",
   "execution_count": 21,
   "metadata": {},
   "outputs": [
    {
     "name": "stdout",
     "output_type": "stream",
     "text": [
      "(2243, 232)\n",
      "(314, 232)\n"
     ]
    }
   ],
   "source": [
    "train_lasso = lasso_dum[lasso_dum['YrSold']!=2010]\n",
    "test_lasso = lasso_dum[lasso_dum['YrSold']==2010]\n",
    "print(train_lasso.shape)\n",
    "print(test_lasso.shape)\n",
    "\n",
    "X_train_lasso = train_lasso.drop(['SalePrice','YrSold'],axis=1)\n",
    "y_train_lasso = train_lasso['SalePrice']\n",
    "X_test_lasso = test_lasso.drop(['SalePrice','YrSold'],axis=1)\n",
    "y_test_lasso = test_lasso['SalePrice']"
   ]
  },
  {
   "cell_type": "code",
   "execution_count": 22,
   "metadata": {
    "scrolled": true
   },
   "outputs": [
    {
     "data": {
      "text/plain": [
       "LassoCV(alphas=None, copy_X=True, cv=None, eps=0.001, fit_intercept=True,\n",
       "        max_iter=10000, n_alphas=100, n_jobs=None, normalize=True,\n",
       "        positive=False, precompute='auto', random_state=None,\n",
       "        selection='cyclic', tol=0.0001, verbose=False)"
      ]
     },
     "execution_count": 22,
     "metadata": {},
     "output_type": "execute_result"
    },
    {
     "data": {
      "text/plain": [
       "3.790330532229508e-05"
      ]
     },
     "execution_count": 22,
     "metadata": {},
     "output_type": "execute_result"
    }
   ],
   "source": [
    "# best best fit alpha\n",
    "reg_lasso_cv = LassoCV(normalize = True, max_iter = 10000)\n",
    "reg_lasso_cv.fit(X_train_lasso, y_train_lasso)\n",
    "reg_lasso_cv.alpha_"
   ]
  },
  {
   "cell_type": "code",
   "execution_count": 23,
   "metadata": {
    "scrolled": true
   },
   "outputs": [
    {
     "data": {
      "text/plain": [
       "Lasso(alpha=3.790330532229508e-05, copy_X=True, fit_intercept=True,\n",
       "      max_iter=1000, normalize=True, positive=False, precompute=False,\n",
       "      random_state=None, selection='cyclic', tol=0.0001, warm_start=False)"
      ]
     },
     "execution_count": 23,
     "metadata": {},
     "output_type": "execute_result"
    },
    {
     "data": {
      "text/plain": [
       "Lasso(alpha=3.790330532229508e-05, copy_X=True, fit_intercept=True,\n",
       "      max_iter=1000, normalize=True, positive=False, precompute=False,\n",
       "      random_state=None, selection='cyclic', tol=0.0001, warm_start=False)"
      ]
     },
     "execution_count": 23,
     "metadata": {},
     "output_type": "execute_result"
    },
    {
     "name": "stdout",
     "output_type": "stream",
     "text": [
      "107 non-zero features\n"
     ]
    }
   ],
   "source": [
    "# put the alpha value back in the original lasso\n",
    "reg_lasso = Lasso(normalize=True)\n",
    "reg_lasso.set_params(alpha = reg_lasso_cv.alpha_)\n",
    "reg_lasso.fit(X_train_lasso, y_train_lasso)\n",
    "lasso_coef_df = pd.DataFrame({'feature':X_train_lasso.columns,\n",
    "                              'coef':reg_lasso.coef_})\n",
    "\n",
    "num_feat = len(lasso_coef_df[lasso_coef_df['coef']!=0])\n",
    "print(f'{num_feat} non-zero features')"
   ]
  },
  {
   "cell_type": "markdown",
   "metadata": {},
   "source": [
    "#### test and train errors"
   ]
  },
  {
   "cell_type": "code",
   "execution_count": 24,
   "metadata": {
    "scrolled": true
   },
   "outputs": [
    {
     "name": "stdout",
     "output_type": "stream",
     "text": [
      "0.9276405056078176\n"
     ]
    },
    {
     "data": {
      "text/plain": [
       "0.861987763846034"
      ]
     },
     "execution_count": 24,
     "metadata": {},
     "output_type": "execute_result"
    }
   ],
   "source": [
    "print(reg_lasso.score(X_train_lasso, y_train_lasso))\n",
    "reg_lasso.score(X_test_lasso, y_test_lasso)"
   ]
  },
  {
   "cell_type": "markdown",
   "metadata": {},
   "source": [
    "#### lasso (using engineered features)"
   ]
  },
  {
   "cell_type": "code",
   "execution_count": 25,
   "metadata": {},
   "outputs": [],
   "source": [
    "X_train_lasso2 = X_train.copy()\n",
    "y_train_lasso2 = y_train.copy()\n",
    "X_test_lasso2 = X_test.copy()\n",
    "y_test_lasso2 = y_test.copy()"
   ]
  },
  {
   "cell_type": "code",
   "execution_count": 26,
   "metadata": {},
   "outputs": [
    {
     "data": {
      "text/plain": [
       "LassoCV(alphas=None, copy_X=True, cv=None, eps=0.001, fit_intercept=True,\n",
       "        max_iter=10000, n_alphas=100, n_jobs=None, normalize=True,\n",
       "        positive=False, precompute='auto', random_state=None,\n",
       "        selection='cyclic', tol=0.0001, verbose=False)"
      ]
     },
     "execution_count": 26,
     "metadata": {},
     "output_type": "execute_result"
    },
    {
     "data": {
      "text/plain": [
       "3.296636199998347e-05"
      ]
     },
     "execution_count": 26,
     "metadata": {},
     "output_type": "execute_result"
    }
   ],
   "source": [
    "reg_lasso_cv = LassoCV(normalize = True, max_iter = 10000)\n",
    "reg_lasso_cv.fit(X_train_lasso2, y_train_lasso2)\n",
    "reg_lasso_cv.alpha_"
   ]
  },
  {
   "cell_type": "code",
   "execution_count": 27,
   "metadata": {
    "scrolled": true
   },
   "outputs": [
    {
     "data": {
      "text/plain": [
       "Lasso(alpha=3.296636199998347e-05, copy_X=True, fit_intercept=True,\n",
       "      max_iter=1000, normalize=True, positive=False, precompute=False,\n",
       "      random_state=None, selection='cyclic', tol=0.0001, warm_start=False)"
      ]
     },
     "execution_count": 27,
     "metadata": {},
     "output_type": "execute_result"
    },
    {
     "data": {
      "text/plain": [
       "Lasso(alpha=3.296636199998347e-05, copy_X=True, fit_intercept=True,\n",
       "      max_iter=1000, normalize=True, positive=False, precompute=False,\n",
       "      random_state=None, selection='cyclic', tol=0.0001, warm_start=False)"
      ]
     },
     "execution_count": 27,
     "metadata": {},
     "output_type": "execute_result"
    },
    {
     "name": "stdout",
     "output_type": "stream",
     "text": [
      "61 non-zero features\n"
     ]
    }
   ],
   "source": [
    "# put the alpha value back in the original lasso\n",
    "reg_lasso = Lasso(normalize=True)\n",
    "reg_lasso.set_params(alpha = reg_lasso_cv.alpha_)\n",
    "reg_lasso.fit(X_train_lasso2, y_train_lasso2)\n",
    "lasso_coef_df = pd.DataFrame({'feature':X_train_lasso2.columns,\n",
    "                              'coef':reg_lasso.coef_})\n",
    "\n",
    "num_feat = len(lasso_coef_df[lasso_coef_df['coef']!=0])\n",
    "print(f'{num_feat} non-zero features')"
   ]
  },
  {
   "cell_type": "code",
   "execution_count": 28,
   "metadata": {},
   "outputs": [
    {
     "name": "stdout",
     "output_type": "stream",
     "text": [
      "0.914753530927368\n"
     ]
    },
    {
     "data": {
      "text/plain": [
       "0.8503637291847466"
      ]
     },
     "execution_count": 28,
     "metadata": {},
     "output_type": "execute_result"
    }
   ],
   "source": [
    "print(reg_lasso.score(X_train_lasso2, y_train_lasso2))\n",
    "reg_lasso.score(X_test_lasso2, y_test_lasso2)"
   ]
  },
  {
   "cell_type": "code",
   "execution_count": null,
   "metadata": {},
   "outputs": [],
   "source": []
  },
  {
   "cell_type": "markdown",
   "metadata": {},
   "source": [
    "#### ridge (using original features)"
   ]
  },
  {
   "cell_type": "code",
   "execution_count": 29,
   "metadata": {},
   "outputs": [],
   "source": [
    "X_train_ridge = X_train_lasso.copy()\n",
    "y_train_ridge = y_train_lasso.copy()\n",
    "X_test_ridge = X_test_lasso.copy()\n",
    "y_test_ridge = y_test_lasso.copy()"
   ]
  },
  {
   "cell_type": "code",
   "execution_count": 30,
   "metadata": {},
   "outputs": [],
   "source": [
    "alphas_ridge = np.linspace(1e-5,10,200).tolist()"
   ]
  },
  {
   "cell_type": "code",
   "execution_count": 31,
   "metadata": {},
   "outputs": [
    {
     "data": {
      "text/plain": [
       "RidgeCV(alphas=array([1.00000000e-05, 5.02612060e-02, 1.00512412e-01, 1.50763618e-01,\n",
       "       2.01014824e-01, 2.51266030e-01, 3.01517236e-01, 3.51768442e-01,\n",
       "       4.02019648e-01, 4.52270854e-01, 5.02522060e-01, 5.52773266e-01,\n",
       "       6.03024472e-01, 6.53275678e-01, 7.03526884e-01, 7.53778090e-01,\n",
       "       8.04029296e-01, 8.54280503e-01, 9.04531709e-01, 9.54782915e-01,\n",
       "       1.00503412e+00, 1.05528533e+0...\n",
       "       9.04522709e+00, 9.09547829e+00, 9.14572950e+00, 9.19598070e+00,\n",
       "       9.24623191e+00, 9.29648312e+00, 9.34673432e+00, 9.39698553e+00,\n",
       "       9.44723673e+00, 9.49748794e+00, 9.54773915e+00, 9.59799035e+00,\n",
       "       9.64824156e+00, 9.69849276e+00, 9.74874397e+00, 9.79899518e+00,\n",
       "       9.84924638e+00, 9.89949759e+00, 9.94974879e+00, 1.00000000e+01]),\n",
       "        cv=None, fit_intercept=True, gcv_mode=None, normalize=True,\n",
       "        scoring=None, store_cv_values=False)"
      ]
     },
     "execution_count": 31,
     "metadata": {},
     "output_type": "execute_result"
    },
    {
     "data": {
      "text/plain": [
       "0.05026120603015076"
      ]
     },
     "execution_count": 31,
     "metadata": {},
     "output_type": "execute_result"
    }
   ],
   "source": [
    "# best best fit alpha\n",
    "reg_ridge_cv = RidgeCV(normalize = True, alphas = alphas_ridge)\n",
    "reg_ridge_cv.fit(X_train_ridge, y_train_ridge)\n",
    "reg_ridge_cv.alpha_"
   ]
  },
  {
   "cell_type": "code",
   "execution_count": 32,
   "metadata": {},
   "outputs": [
    {
     "data": {
      "text/plain": [
       "Ridge(alpha=0.05026120603015076, copy_X=True, fit_intercept=True, max_iter=None,\n",
       "      normalize=True, random_state=None, solver='auto', tol=0.001)"
      ]
     },
     "execution_count": 32,
     "metadata": {},
     "output_type": "execute_result"
    }
   ],
   "source": [
    "reg_ridge = Ridge(normalize=True, alpha = reg_ridge_cv.alpha_)\n",
    "reg_ridge.fit(X_train_ridge, y_train_ridge)"
   ]
  },
  {
   "cell_type": "code",
   "execution_count": 33,
   "metadata": {},
   "outputs": [
    {
     "data": {
      "text/plain": [
       "230"
      ]
     },
     "execution_count": 33,
     "metadata": {},
     "output_type": "execute_result"
    }
   ],
   "source": [
    "len(X_train_ridge.columns)"
   ]
  },
  {
   "cell_type": "code",
   "execution_count": 34,
   "metadata": {},
   "outputs": [
    {
     "name": "stdout",
     "output_type": "stream",
     "text": [
      "0.9309939854061726\n"
     ]
    },
    {
     "data": {
      "text/plain": [
       "0.8625179354969412"
      ]
     },
     "execution_count": 34,
     "metadata": {},
     "output_type": "execute_result"
    }
   ],
   "source": [
    "print(reg_ridge.score(X_train_ridge, y_train_ridge))\n",
    "reg_ridge.score(X_test_ridge, y_test_ridge)"
   ]
  },
  {
   "cell_type": "markdown",
   "metadata": {},
   "source": [
    "#### ridge (using engineered features)"
   ]
  },
  {
   "cell_type": "code",
   "execution_count": 35,
   "metadata": {},
   "outputs": [],
   "source": [
    "X_train_ridge2 = X_train.copy()\n",
    "y_train_ridge2 = y_train.copy()\n",
    "X_test_ridge2 = X_test.copy()\n",
    "y_test_ridge2 = y_test.copy()"
   ]
  },
  {
   "cell_type": "code",
   "execution_count": 36,
   "metadata": {},
   "outputs": [
    {
     "data": {
      "text/plain": [
       "RidgeCV(alphas=array([1.00000000e-05, 5.02612060e-02, 1.00512412e-01, 1.50763618e-01,\n",
       "       2.01014824e-01, 2.51266030e-01, 3.01517236e-01, 3.51768442e-01,\n",
       "       4.02019648e-01, 4.52270854e-01, 5.02522060e-01, 5.52773266e-01,\n",
       "       6.03024472e-01, 6.53275678e-01, 7.03526884e-01, 7.53778090e-01,\n",
       "       8.04029296e-01, 8.54280503e-01, 9.04531709e-01, 9.54782915e-01,\n",
       "       1.00503412e+00, 1.05528533e+0...\n",
       "       9.04522709e+00, 9.09547829e+00, 9.14572950e+00, 9.19598070e+00,\n",
       "       9.24623191e+00, 9.29648312e+00, 9.34673432e+00, 9.39698553e+00,\n",
       "       9.44723673e+00, 9.49748794e+00, 9.54773915e+00, 9.59799035e+00,\n",
       "       9.64824156e+00, 9.69849276e+00, 9.74874397e+00, 9.79899518e+00,\n",
       "       9.84924638e+00, 9.89949759e+00, 9.94974879e+00, 1.00000000e+01]),\n",
       "        cv=None, fit_intercept=True, gcv_mode=None, normalize=True,\n",
       "        scoring=None, store_cv_values=False)"
      ]
     },
     "execution_count": 36,
     "metadata": {},
     "output_type": "execute_result"
    },
    {
     "data": {
      "text/plain": [
       "0.05026120603015076"
      ]
     },
     "execution_count": 36,
     "metadata": {},
     "output_type": "execute_result"
    }
   ],
   "source": [
    "# best best fit alpha\n",
    "reg_ridge_cv = RidgeCV(normalize = True, alphas = alphas_ridge)\n",
    "reg_ridge_cv.fit(X_train_ridge2, y_train_ridge2)\n",
    "reg_ridge_cv.alpha_"
   ]
  },
  {
   "cell_type": "code",
   "execution_count": 37,
   "metadata": {
    "scrolled": false
   },
   "outputs": [
    {
     "data": {
      "text/plain": [
       "Ridge(alpha=0.05026120603015076, copy_X=True, fit_intercept=True, max_iter=None,\n",
       "      normalize=True, random_state=None, solver='auto', tol=0.001)"
      ]
     },
     "execution_count": 37,
     "metadata": {},
     "output_type": "execute_result"
    }
   ],
   "source": [
    "# put the alpha value back in the original ridge\n",
    "reg_ridge = Ridge(normalize=True, alpha = reg_ridge_cv.alpha_)\n",
    "reg_ridge.fit(X_train_ridge2, y_train_ridge2)"
   ]
  },
  {
   "cell_type": "code",
   "execution_count": 38,
   "metadata": {},
   "outputs": [
    {
     "data": {
      "text/plain": [
       "87"
      ]
     },
     "execution_count": 38,
     "metadata": {},
     "output_type": "execute_result"
    }
   ],
   "source": [
    "len(X_train_ridge2.columns)"
   ]
  },
  {
   "cell_type": "markdown",
   "metadata": {},
   "source": [
    "#### test and train errors"
   ]
  },
  {
   "cell_type": "code",
   "execution_count": 39,
   "metadata": {},
   "outputs": [
    {
     "name": "stdout",
     "output_type": "stream",
     "text": [
      "0.9155095992791245\n"
     ]
    },
    {
     "data": {
      "text/plain": [
       "0.8511679340429521"
      ]
     },
     "execution_count": 39,
     "metadata": {},
     "output_type": "execute_result"
    }
   ],
   "source": [
    "print(reg_ridge.score(X_train_ridge2, y_train_ridge2))\n",
    "reg_ridge.score(X_test_ridge2, y_test_ridge2)"
   ]
  },
  {
   "cell_type": "code",
   "execution_count": null,
   "metadata": {},
   "outputs": [],
   "source": []
  },
  {
   "cell_type": "markdown",
   "metadata": {},
   "source": [
    "#### elastic net"
   ]
  },
  {
   "cell_type": "code",
   "execution_count": 40,
   "metadata": {},
   "outputs": [],
   "source": [
    "X_train_elnt = X_train_orig.copy()\n",
    "y_train_elnt = y_train_orig.copy()\n",
    "X_test_elnt = X_test_orig.copy()\n",
    "y_test_elnt = y_test_orig.copy()"
   ]
  },
  {
   "cell_type": "code",
   "execution_count": 41,
   "metadata": {},
   "outputs": [
    {
     "data": {
      "text/plain": [
       "ElasticNetCV(alphas=None, copy_X=True, cv=5, eps=0.001, fit_intercept=True,\n",
       "             l1_ratio=0.5, max_iter=1000, n_alphas=200, n_jobs=None,\n",
       "             normalize=True, positive=False, precompute='auto',\n",
       "             random_state=None, selection='cyclic', tol=0.0001, verbose=0)"
      ]
     },
     "execution_count": 41,
     "metadata": {},
     "output_type": "execute_result"
    }
   ],
   "source": [
    "reg_elasticnet_cv = ElasticNetCV(l1_ratio = 0.5, cv=5, n_alphas = 200, normalize = True)\n",
    "reg_elasticnet_cv.fit(X_train_elnt, y_train_elnt)"
   ]
  },
  {
   "cell_type": "code",
   "execution_count": 42,
   "metadata": {},
   "outputs": [
    {
     "name": "stdout",
     "output_type": "stream",
     "text": [
      "3.8856887089111635e-05\n",
      "0.5\n"
     ]
    }
   ],
   "source": [
    "print(reg_elasticnet_cv.alpha_)\n",
    "print(reg_elasticnet_cv.l1_ratio_)"
   ]
  },
  {
   "cell_type": "code",
   "execution_count": 43,
   "metadata": {},
   "outputs": [
    {
     "data": {
      "text/plain": [
       "ElasticNet(alpha=3.8856887089111635e-05, copy_X=True, fit_intercept=True,\n",
       "           l1_ratio=0.5, max_iter=1000, normalize=True, positive=False,\n",
       "           precompute=False, random_state=None, selection='cyclic', tol=0.0001,\n",
       "           warm_start=False)"
      ]
     },
     "execution_count": 43,
     "metadata": {},
     "output_type": "execute_result"
    }
   ],
   "source": [
    "reg_elasticnet = ElasticNet(alpha = reg_elasticnet_cv.alpha_, normalize = True)\n",
    "reg_elasticnet.fit(X_train_elnt, y_train_elnt)"
   ]
  },
  {
   "cell_type": "code",
   "execution_count": 44,
   "metadata": {},
   "outputs": [
    {
     "name": "stdout",
     "output_type": "stream",
     "text": [
      "152 non-zero features\n"
     ]
    }
   ],
   "source": [
    "elnt_coef_df = pd.DataFrame({'feature':X_train_elnt.columns,\n",
    "                              'coef':reg_elasticnet.coef_})\n",
    "\n",
    "num_feat = len(elnt_coef_df[elnt_coef_df['coef']!=0])\n",
    "print(f'{num_feat} non-zero features')"
   ]
  },
  {
   "cell_type": "code",
   "execution_count": 45,
   "metadata": {},
   "outputs": [
    {
     "name": "stdout",
     "output_type": "stream",
     "text": [
      "0.9276867925302981\n"
     ]
    },
    {
     "data": {
      "text/plain": [
       "0.8595075258577324"
      ]
     },
     "execution_count": 45,
     "metadata": {},
     "output_type": "execute_result"
    }
   ],
   "source": [
    "print(reg_elasticnet.score(X_train_elnt, y_train_elnt))\n",
    "reg_elasticnet.score(X_test_elnt, y_test_elnt)"
   ]
  },
  {
   "cell_type": "code",
   "execution_count": 46,
   "metadata": {},
   "outputs": [
    {
     "data": {
      "text/plain": [
       "ElasticNetCV(alphas=None, copy_X=True, cv=5, eps=0.001, fit_intercept=True,\n",
       "             l1_ratio=array([0.01      , 0.06210526, 0.11421053, 0.16631579, 0.21842105,\n",
       "       0.27052632, 0.32263158, 0.37473684, 0.42684211, 0.47894737,\n",
       "       0.53105263, 0.58315789, 0.63526316, 0.68736842, 0.73947368,\n",
       "       0.79157895, 0.84368421, 0.89578947, 0.94789474, 1.        ]),\n",
       "             max_iter=1000, n_alphas=200, n_jobs=None, normalize=True,\n",
       "             positive=False, precompute='auto', random_state=None,\n",
       "             selection='cyclic', tol=0.0001, verbose=0)"
      ]
     },
     "execution_count": 46,
     "metadata": {},
     "output_type": "execute_result"
    },
    {
     "name": "stdout",
     "output_type": "stream",
     "text": [
      "2.655317157294313e-05\n",
      "1.0\n"
     ]
    }
   ],
   "source": [
    "ratio = np.linspace(0.01,1,20)\n",
    "reg_elasticnet_cv = ElasticNetCV(l1_ratio = ratio, cv=5, n_alphas = 200, normalize = True)\n",
    "reg_elasticnet_cv.fit(X_train_elnt, y_train_elnt)\n",
    "print(reg_elasticnet_cv.alpha_)\n",
    "print(reg_elasticnet_cv.l1_ratio_)"
   ]
  },
  {
   "cell_type": "markdown",
   "metadata": {},
   "source": [
    "#### huber regression"
   ]
  },
  {
   "cell_type": "code",
   "execution_count": null,
   "metadata": {},
   "outputs": [],
   "source": []
  },
  {
   "cell_type": "code",
   "execution_count": 47,
   "metadata": {},
   "outputs": [],
   "source": [
    "X_train_huber = X_train.copy()\n",
    "y_train_huber = y_train.copy()\n",
    "X_test_huber = X_test.copy()\n",
    "y_test_huber = y_test.copy()"
   ]
  },
  {
   "cell_type": "code",
   "execution_count": 48,
   "metadata": {},
   "outputs": [
    {
     "name": "stderr",
     "output_type": "stream",
     "text": [
      "C:\\Users\\aznan\\anaconda3\\lib\\site-packages\\sklearn\\linear_model\\_huber.py:296: ConvergenceWarning: lbfgs failed to converge (status=1):\n",
      "STOP: TOTAL NO. of f AND g EVALUATIONS EXCEEDS LIMIT.\n",
      "\n",
      "Increase the number of iterations (max_iter) or scale the data as shown in:\n",
      "    https://scikit-learn.org/stable/modules/preprocessing.html\n",
      "  self.n_iter_ = _check_optimize_result(\"lbfgs\", opt_res, self.max_iter)\n"
     ]
    },
    {
     "data": {
      "text/plain": [
       "HuberRegressor(alpha=0.0001, epsilon=1.35, fit_intercept=True, max_iter=30000,\n",
       "               tol=1e-05, warm_start=False)"
      ]
     },
     "execution_count": 48,
     "metadata": {},
     "output_type": "execute_result"
    }
   ],
   "source": [
    "reg_huber = HuberRegressor(max_iter = 30000)\n",
    "reg_huber.fit(X_train_huber, y_train_huber)"
   ]
  },
  {
   "cell_type": "code",
   "execution_count": 49,
   "metadata": {},
   "outputs": [],
   "source": [
    "huber_coef_df = pd.DataFrame({'feature':X_train_huber.columns,\n",
    "                              'coef':reg_huber.coef_})\n",
    "#huber_coef_df"
   ]
  },
  {
   "cell_type": "code",
   "execution_count": 50,
   "metadata": {},
   "outputs": [
    {
     "name": "stdout",
     "output_type": "stream",
     "text": [
      "0.9137184312531125\n"
     ]
    },
    {
     "data": {
      "text/plain": [
       "0.852189800177577"
      ]
     },
     "execution_count": 50,
     "metadata": {},
     "output_type": "execute_result"
    }
   ],
   "source": [
    "print(reg_huber.score(X_train_huber, y_train_huber))\n",
    "reg_huber.score(X_test_huber, y_test_huber)"
   ]
  },
  {
   "cell_type": "code",
   "execution_count": null,
   "metadata": {},
   "outputs": [],
   "source": []
  },
  {
   "cell_type": "markdown",
   "metadata": {},
   "source": [
    "#### deceision tree"
   ]
  },
  {
   "cell_type": "code",
   "execution_count": 51,
   "metadata": {},
   "outputs": [],
   "source": [
    "from sklearn import ensemble\n",
    "from sklearn import tree"
   ]
  },
  {
   "cell_type": "code",
   "execution_count": 52,
   "metadata": {},
   "outputs": [],
   "source": [
    "tree_model = tree.DecisionTreeRegressor(criterion = 'mse', max_depth = 5)\n",
    "RF = ensemble.RandomForestRegressor()\n",
    "BAgg = ensemble.BaggingClassifier()"
   ]
  },
  {
   "cell_type": "code",
   "execution_count": 53,
   "metadata": {},
   "outputs": [],
   "source": [
    "X_train_tree = X_train.copy()\n",
    "y_train_tree = y_train.copy()\n",
    "X_test_tree = X_test.copy()\n",
    "y_test_tree = y_test.copy()"
   ]
  },
  {
   "cell_type": "code",
   "execution_count": 54,
   "metadata": {
    "scrolled": true
   },
   "outputs": [
    {
     "data": {
      "text/plain": [
       "DecisionTreeRegressor(ccp_alpha=0.0, criterion='mse', max_depth=5,\n",
       "                      max_features=None, max_leaf_nodes=None,\n",
       "                      min_impurity_decrease=0.0, min_impurity_split=None,\n",
       "                      min_samples_leaf=1, min_samples_split=2,\n",
       "                      min_weight_fraction_leaf=0.0, presort='deprecated',\n",
       "                      random_state=None, splitter='best')"
      ]
     },
     "execution_count": 54,
     "metadata": {},
     "output_type": "execute_result"
    },
    {
     "name": "stdout",
     "output_type": "stream",
     "text": [
      "DecisionTreeRegressor(ccp_alpha=0.0, criterion='mse', max_depth=5,\n",
      "                      max_features=None, max_leaf_nodes=None,\n",
      "                      min_impurity_decrease=0.0, min_impurity_split=None,\n",
      "                      min_samples_leaf=1, min_samples_split=2,\n",
      "                      min_weight_fraction_leaf=0.0, presort='deprecated',\n",
      "                      random_state=None, splitter='best')\n",
      "0.75588709626496\n"
     ]
    }
   ],
   "source": [
    "tree_model.set_params()\n",
    "print(tree_model.fit(X_train_tree, y_train_tree))\n",
    "print(tree_model.score(X_test_tree, y_test_tree))"
   ]
  },
  {
   "cell_type": "code",
   "execution_count": 55,
   "metadata": {},
   "outputs": [],
   "source": [
    "# grid search"
   ]
  },
  {
   "cell_type": "markdown",
   "metadata": {},
   "source": [
    "#### random forest"
   ]
  },
  {
   "cell_type": "code",
   "execution_count": 56,
   "metadata": {},
   "outputs": [
    {
     "data": {
      "text/plain": [
       "RandomForestRegressor(bootstrap=True, ccp_alpha=0.0, criterion='mse',\n",
       "                      max_depth=None, max_features='auto', max_leaf_nodes=None,\n",
       "                      max_samples=None, min_impurity_decrease=0.0,\n",
       "                      min_impurity_split=None, min_samples_leaf=1,\n",
       "                      min_samples_split=2, min_weight_fraction_leaf=0.0,\n",
       "                      n_estimators=100, n_jobs=None, oob_score=True,\n",
       "                      random_state=108, verbose=0, warm_start=False)"
      ]
     },
     "execution_count": 56,
     "metadata": {},
     "output_type": "execute_result"
    },
    {
     "data": {
      "text/plain": [
       "RandomForestRegressor(bootstrap=True, ccp_alpha=0.0, criterion='mse',\n",
       "                      max_depth=None, max_features='auto', max_leaf_nodes=None,\n",
       "                      max_samples=None, min_impurity_decrease=0.0,\n",
       "                      min_impurity_split=None, min_samples_leaf=1,\n",
       "                      min_samples_split=2, min_weight_fraction_leaf=0.0,\n",
       "                      n_estimators=100, n_jobs=None, oob_score=True,\n",
       "                      random_state=108, verbose=0, warm_start=False)"
      ]
     },
     "execution_count": 56,
     "metadata": {},
     "output_type": "execute_result"
    }
   ],
   "source": [
    "RF.set_params(oob_score=True, random_state=108)\n",
    "RF.fit(X_train_tree, y_train_tree)"
   ]
  },
  {
   "cell_type": "code",
   "execution_count": 57,
   "metadata": {},
   "outputs": [
    {
     "data": {
      "text/plain": [
       "0.890137394521988"
      ]
     },
     "execution_count": 57,
     "metadata": {},
     "output_type": "execute_result"
    }
   ],
   "source": [
    "RF.oob_score_"
   ]
  },
  {
   "cell_type": "code",
   "execution_count": null,
   "metadata": {},
   "outputs": [],
   "source": [
    "forest_grid_params = [{\n",
    "    \"n_estimators\": [25, 50, 100],\n",
    "    \"criterion\": ['mse','friedman_mse','mae'],\n",
    "    \"min_samples_leaf\": range(1, 10),\n",
    "    \"min_samples_split\": np.linspace(start=2, stop=30, num=15, dtype=int),\n",
    "    \"random_state\": [108]}]\n",
    "RF_grid = GridSearchCV(RF, forest_grid_params, scoring='r2', cv=5, n_jobs=-1)\n",
    "%time RF_grid.fit(X_train, y_train)"
   ]
  },
  {
   "cell_type": "code",
   "execution_count": null,
   "metadata": {},
   "outputs": [],
   "source": []
  },
  {
   "cell_type": "code",
   "execution_count": null,
   "metadata": {},
   "outputs": [],
   "source": []
  },
  {
   "cell_type": "code",
   "execution_count": null,
   "metadata": {},
   "outputs": [],
   "source": [
    "# Decision Tree Model\n",
    "tree_reg = DecisionTreeRegressor(max_depth=10).fit(X_train1,y_train1)\n",
    "print(f'R^2 of Train set: {tree_reg.score(X_train1,y_train1)}')\n",
    "print(f'R^2 Test set: {tree_reg.score(X_test1,y_test1)}')\n",
    "\n"
   ]
  },
  {
   "cell_type": "code",
   "execution_count": null,
   "metadata": {},
   "outputs": [],
   "source": [
    "# Random Forest Model\n",
    "forest_reg = RandomForestRegressor(n_estimators=100,max_features=5).fit(X_train1,y_train1)\n",
    "print(f'R^2 of Train set: {forest_reg.score(X_train1,y_train1)}')\n",
    "print(f'R^2 Test set: {forest_reg.score(X_test1,y_test1)}')"
   ]
  },
  {
   "cell_type": "code",
   "execution_count": null,
   "metadata": {},
   "outputs": [],
   "source": []
  },
  {
   "cell_type": "code",
   "execution_count": null,
   "metadata": {},
   "outputs": [],
   "source": [
    "# from sklearn.metrics import mean_squared_error\n",
    "# from sklearn.metrics import r2_score\n",
    "# housing_prediction = lin_reg.predict(X_test)\n",
    "# mean_squared_error(y_train,y_test)\n",
    "# lin_reg2 = LinearRegression().fit(X_train,y_train)\n",
    "# lin_reg.r2_score"
   ]
  }
 ],
 "metadata": {
  "kernelspec": {
   "display_name": "Python 3",
   "language": "python",
   "name": "python3"
  },
  "language_info": {
   "codemirror_mode": {
    "name": "ipython",
    "version": 3
   },
   "file_extension": ".py",
   "mimetype": "text/x-python",
   "name": "python",
   "nbconvert_exporter": "python",
   "pygments_lexer": "ipython3",
   "version": "3.7.6"
  },
  "toc": {
   "base_numbering": 1,
   "nav_menu": {},
   "number_sections": false,
   "sideBar": true,
   "skip_h1_title": false,
   "title_cell": "Table of Contents",
   "title_sidebar": "Contents",
   "toc_cell": false,
   "toc_position": {},
   "toc_section_display": true,
   "toc_window_display": false
  }
 },
 "nbformat": 4,
 "nbformat_minor": 4
}
